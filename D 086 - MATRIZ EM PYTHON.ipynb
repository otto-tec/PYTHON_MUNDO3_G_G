{
 "cells": [
  {
   "cell_type": "markdown",
   "id": "8b315fcf",
   "metadata": {},
   "source": [
    "## DESAFIO 086\n",
    "### Crie um programa que crie uma matriz de dimensão 3x3 e preencha com valores lidos pelo teclado.\n",
    "###  No final, mostre a matriz na tela com a formatação correta."
   ]
  },
  {
   "cell_type": "code",
   "execution_count": 15,
   "id": "700a7393",
   "metadata": {},
   "outputs": [
    {
     "name": "stdout",
     "output_type": "stream",
     "text": [
      "**************************************************\n",
      "                CRIAÇÃO DE MATRIZ                 \n",
      "**************************************************\n",
      "Insira um valor para [0, 0]: 1\n",
      "Insira um valor para [0, 1]: 2\n",
      "Insira um valor para [0, 2]: 3\n",
      "Insira um valor para [1, 0]: 4\n",
      "Insira um valor para [1, 1]: 5\n",
      "Insira um valor para [1, 2]: 6\n",
      "Insira um valor para [2, 0]: 7\n",
      "Insira um valor para [2, 1]: 8\n",
      "Insira um valor para [2, 2]: 9\n",
      "==============================\n",
      "[[1], [2], [3]]\n",
      "[[4], [5], [6]]\n",
      "[[7], [8], [9]]\n"
     ]
    }
   ],
   "source": [
    "# Programação feita por mim. Porem não ficou exatamente na formatação do Guanabara.\n",
    "import time, re\n",
    "print('*' * 50)\n",
    "print('CRIAÇÃO DE MATRIZ'.center(50))\n",
    "print('*' * 50)\n",
    "time.sleep(0.5)\n",
    "\n",
    "l_1 = [[], [], []]\n",
    "l_2 = [[], [], []]\n",
    "l_3 = [[], [], []]\n",
    "\n",
    "for i in range(0, 3):\n",
    "    l_1[i].append(int(input(f'Insira um valor para [0, {i}]: ')))\n",
    "for i in range(0, 3):\n",
    "    l_2[i].append(int(input(f'Insira um valor para [1, {i}]: ')))\n",
    "for i in range(0, 3):\n",
    "    l_3[i].append(int(input(f'Insira um valor para [2, {i}]: ')))    \n",
    "\n",
    "print('=' * 30)\n",
    "print(l_1)\n",
    "print(l_2)\n",
    "print(l_3)\n"
   ]
  },
  {
   "cell_type": "markdown",
   "id": "af6a9c42",
   "metadata": {},
   "source": [
    "___________"
   ]
  },
  {
   "cell_type": "code",
   "execution_count": 17,
   "id": "e862fe81",
   "metadata": {},
   "outputs": [
    {
     "name": "stdout",
     "output_type": "stream",
     "text": [
      "Digite um valor para [0, 0]: 1\n",
      "Digite um valor para [0, 1]: 2\n",
      "Digite um valor para [0, 2]: 3\n",
      "Digite um valor para [1, 0]: 4\n",
      "Digite um valor para [1, 1]: 5\n",
      "Digite um valor para [1, 2]: 80\n",
      "Digite um valor para [2, 0]: 667\n",
      "Digite um valor para [2, 1]: 908\n",
      "Digite um valor para [2, 2]: 7878\n",
      "-=-=-=-=-=-=-=-=-=-=-=-=-=-=-=-=-=-=-=-=-=-=-=-=-=-=-=-=-=-=\n",
      "[  1  ][  2  ][  3  ]\n",
      "[  4  ][  5  ][ 80  ]\n",
      "[ 667 ][ 908 ][7878 ]\n"
     ]
    }
   ],
   "source": [
    "# Programação feita pelo Guanabara\n",
    "\n",
    "matriz = [[0, 0, 0], [0, 0, 0], [0, 0, 0]] # Aqui ele já criou uma lista com todas as linhas e indexadores\n",
    "for l in range(0, 3):                      # Esse for é para a linha\n",
    "    for c in range(0,3):                   # Esse for é para a coluna\n",
    "        matriz[l][c] = int(input(f'Digite um valor para [{l}, {c}]: '))\n",
    "print('-=' * 30)\n",
    "for l in range(0, 3):                      # Esse sistema é para organizar o posicionamento no print\n",
    "        for c in range(0, 3):\n",
    "            print(f'[{matriz[l][c]:^5}]', end='') # Esse ^5 é para deixar 5 casas de apresentação. \n",
    "                                                  #Assim os números ficam alinhados quando mostrados na matriz\n",
    "        print()                            # Esse print vazio serve para que ele pule uma linha"
   ]
  },
  {
   "cell_type": "code",
   "execution_count": null,
   "id": "c1b39e91",
   "metadata": {},
   "outputs": [],
   "source": []
  }
 ],
 "metadata": {
  "kernelspec": {
   "display_name": "Python 3",
   "language": "python",
   "name": "python3"
  },
  "language_info": {
   "codemirror_mode": {
    "name": "ipython",
    "version": 3
   },
   "file_extension": ".py",
   "mimetype": "text/x-python",
   "name": "python",
   "nbconvert_exporter": "python",
   "pygments_lexer": "ipython3",
   "version": "3.8.8"
  }
 },
 "nbformat": 4,
 "nbformat_minor": 5
}
