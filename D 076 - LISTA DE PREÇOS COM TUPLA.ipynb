{
 "cells": [
  {
   "cell_type": "markdown",
   "id": "b4f96b8d",
   "metadata": {},
   "source": [
    "## DESAFIO 076\n",
    "### Crie uma programa que tenha uma tupla única com nomes de produtos e seus respectivos preços, na sequência. No final mostre uma listagem de preços, organizando os dados em forma tabular."
   ]
  },
  {
   "cell_type": "code",
   "execution_count": 8,
   "id": "2dab02e5",
   "metadata": {},
   "outputs": [
    {
     "name": "stdout",
     "output_type": "stream",
     "text": [
      "========================================\n",
      "          LISTAGEM DE PREÇOS\n",
      "========================================\n",
      "----------------------------------------\n",
      "Lápis.........................R$   1.75\n",
      "Borracha......................R$   2.00\n",
      "Caderno.......................R$  15.00\n",
      "Estojo........................R$  25.00\n",
      "Transferidor..................R$   4.20\n",
      "Compasso......................R$   9.99\n",
      "Mochila.......................R$ 120.32\n",
      "Canetas.......................R$  22.30\n",
      "Livro.........................R$  34.90\n",
      "----------------------------------------\n"
     ]
    }
   ],
   "source": [
    "# Codigo pego pelo Gustavo\n",
    "print('=' * 40)#1\n",
    "print('          LISTAGEM DE PREÇOS')#2\n",
    "print('=' * 40)#3\n",
    "tupla = ('Lápis', 1.75, 'Borracha', 2.00, 'Caderno', 15.00, 'Estojo', 25.00, 'Transferidor', 4.20, 'Compasso', 9.99, 'Mochila', 120.32, 'Canetas', 22.30, 'Livro', 34.90)#4 \n",
    "print('-' * 40)#5\n",
    "for pos in range(0, len(tupla)):#6\n",
    "     if pos % 2 == 0:#7\n",
    "        print(f'{tupla[pos]:.<30}', end='') #8\n",
    "     else:#9\n",
    "        print(f'R${tupla[pos]:>7.2f}')#10\n",
    "print('-' * 40)#11\n",
    "    "
   ]
  },
  {
   "cell_type": "markdown",
   "id": "3f715f04",
   "metadata": {},
   "source": [
    "## OBSERVAÇÕES\n",
    "### Segue abaixo a explicação de algumas das linhas de comando\n",
    "\n",
    "#### 6 - Foi utilizado um for agregando o comprimento da tupla. A idéia é que ele imprima cada item da tupla em uma linha apenas. Se você mandar imprimir o pos ficara assim:\n",
    "#### 1\n",
    "#### 2\n",
    "#### 3\n",
    "...\n",
    "#### Assim por diante.  Já é um primeiro passo.\n",
    "\n",
    "#### 7 - Cria um if condicionando os indices pares. Nesse caso o nome dos produtos. \n",
    "\n",
    "#### 8 -   print(f'{tupla[pos]:.<30}, end=''). Nessa linha há alguns detalhes a serem analisados. Quando chama-se o print com tupla[pos], está informando ao sistema que na posição tal é para imprimir o nome respectivo.\n",
    "#### Em sequência mostra :.<30 o que faz com que após os nomes haja uma sequência de 30 pontos. Porem o incrivel é o fato de todos estes pontos acabarem no mesmo alinhamento, isto independente do tamanho do nome.\n",
    "\n",
    "#### 9- Cria um else. Ele quer dizer que entrará em ação para cada elemento da tupla que não for impar.\n",
    "\n",
    "#### 10 -  print(f'RS {tupla[pos]:>7.2f}') . Nessa linha de programação ela segue o mesmo princípio que o anterior, 1° altera o indice pelo nome respectivo.\n",
    "#### Referente a parte : > 7.2f  ===> O significado por partes. O : quer dizer depois dos caracteres em  aspas ' ' ; \n",
    "#### A seta esta reforçando um espaçamento em um determinado sentido; o número 7 é um fator que determina o espaçamento entre o texto e o indice a ser mostrado. Nesse caso é a distância entre o RS e o valor em si.\n",
    "\n"
   ]
  },
  {
   "cell_type": "code",
   "execution_count": null,
   "id": "149d3ada",
   "metadata": {},
   "outputs": [],
   "source": []
  }
 ],
 "metadata": {
  "kernelspec": {
   "display_name": "Python 3",
   "language": "python",
   "name": "python3"
  },
  "language_info": {
   "codemirror_mode": {
    "name": "ipython",
    "version": 3
   },
   "file_extension": ".py",
   "mimetype": "text/x-python",
   "name": "python",
   "nbconvert_exporter": "python",
   "pygments_lexer": "ipython3",
   "version": "3.8.8"
  }
 },
 "nbformat": 4,
 "nbformat_minor": 5
}
