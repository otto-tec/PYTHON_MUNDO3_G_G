{
 "cells": [
  {
   "cell_type": "markdown",
   "id": "98763211",
   "metadata": {},
   "source": [
    "## DESAFIO 098\n",
    "### Faça um programa que tenha uma função chamada contador(), que receba três parâmetros: início, fim e passo. Seu programa tem que realizar três contagens através da função criada:\n",
    "#### a) De 1 até 10, de 1 em 1.\n",
    "#### b) De 10 até 0, de 2 em 2.\n",
    "#### c) Uma contagem personalizada."
   ]
  },
  {
   "cell_type": "code",
   "execution_count": 2,
   "id": "c7750186",
   "metadata": {
    "scrolled": true
   },
   "outputs": [
    {
     "name": "stdout",
     "output_type": "stream",
     "text": [
      "*********************************************\n",
      "              FUNÇÃO DE CONTADOR             \n",
      "*********************************************\n",
      "        Contagem de 1 a 10 de 1 em 1:        \n",
      "=============================================\n",
      "1=> 2=> 3=> 4=> 5=> 6=> 7=> 8=> 9=> 10=> FIM\n",
      "=============================================\n",
      "       Contagem de 10 até 0 de 2 em 2:       \n",
      "   10=>    8=>    6=>    4=>    2=> FIM\n",
      "=============================================\n",
      " Agora é sua vez de personalizar a contagem: \n",
      "Início: 20\n",
      "Final: 0\n",
      "Passo: -4\n",
      "Contagem de 20 até 0 de -4 em -4\n",
      " => 20  => 16  => 12  => 8  => 4 >>> FIM DO PROGRAMA <<<\n"
     ]
    }
   ],
   "source": [
    "# PROGRAMA QUE EU FIZ ( NÃO CONSEGUI FAZER IMPRIMIR O ÚLTIMO DIGITO DA FILTRAGEM DINÂMICA)\n",
    "from time import sleep\n",
    "print('*' * 45)\n",
    "print('FUNÇÃO DE CONTADOR'.center(45))\n",
    "print('*' * 45)\n",
    "sleep(0.5)\n",
    "\n",
    "def contador(a, b, c):\n",
    "    print(f'Contagem de {a} até {b} de {c} em {c}')\n",
    "    for i in range (a, b + 1, c):\n",
    "        print(f' => {i} ', end='')\n",
    "    print('>>> FIM DO PROGRAMA <<<')\n",
    "        \n",
    "print('Contagem de 1 a 10 de 1 em 1:'.center(45))\n",
    "print('=' * 45)\n",
    "for i in range(1, 11):\n",
    "    print(f'{i}=> ', end='')\n",
    "print('FIM')\n",
    "print('=' * 45)\n",
    "print('Contagem de 10 até 0 de 2 em 2:'.center(45))\n",
    "for i in range(10, 0, -2):\n",
    "    print(f'   {i}=> ', end='')\n",
    "print('FIM')\n",
    "print('=' * 45)\n",
    "print('Agora é sua vez de personalizar a contagem:'.center(45))\n",
    "        \n",
    "comeco = int(input('Início: '))\n",
    "fim = int(input('Final: '))\n",
    "passo = int(input('Passo: '))\n",
    "contador(comeco, fim, passo)"
   ]
  },
  {
   "cell_type": "markdown",
   "id": "b0601803",
   "metadata": {},
   "source": [
    "_____"
   ]
  },
  {
   "cell_type": "code",
   "execution_count": 6,
   "id": "db9ba193",
   "metadata": {},
   "outputs": [
    {
     "name": "stdout",
     "output_type": "stream",
     "text": [
      "-=-=-=-=-=-=-=-=-=-=-=-=-=-=-=-=-=-=-=-=\n",
      "Contagem de 1 até 10 de 1 em 1\n",
      "1 2 3 4 5 6 7 8 9 10 FIM!\n",
      "-=-=-=-=-=-=-=-=-=-=-=-=-=-=-=-=-=-=-=-=\n",
      "Contagem de 10 até 0 de 2 em 2\n",
      "10 8 6 4 2 0 FIM!\n",
      "-=-=-=-=-=-=-=-=-=-=-=-=-=-=-=-=-=-=-=-=\n",
      "Agora é sua vez de personalizar a contagem!\n",
      "Início: 20\n",
      "fim: 0\n",
      "Passo: 2\n",
      "-=-=-=-=-=-=-=-=-=-=-=-=-=-=-=-=-=-=-=-=\n",
      "Contagem de 20 até 0 de 2 em 2\n",
      "20 18 16 14 12 10 8 6 4 2 0 FIM!\n"
     ]
    }
   ],
   "source": [
    "# PROGRAMA FEITO PELO GUSTAVO\n",
    "from time import sleep\n",
    "\n",
    "def contador(i, f, p):\n",
    "    if p < 0:  # C!\n",
    "        p *= -1\n",
    "    if p == 0:\n",
    "        p = 1  # D!\n",
    "    print('-=' * 20)\n",
    "    print(f'Contagem de {i} até {f} de {p} em {p}')\n",
    "    sleep(2.5)\n",
    "    \n",
    "    if i < f:  # A!\n",
    "        cont = i \n",
    "        while cont <= f:\n",
    "            print(f'{cont} ', end='', flush=True) #B!\n",
    "            sleep(0.5)\n",
    "            cont += p\n",
    "        print('FIM!')\n",
    "    else:\n",
    "        cont = i\n",
    "        while cont >= f:\n",
    "            print(f'{cont} ', end='', flush=True)\n",
    "            sleep(0.5)\n",
    "            cont -= p\n",
    "        print('FIM!')\n",
    "\n",
    "#PROGRAMA PRINCIPAL\n",
    "contador(1, 10, 1)\n",
    "contador(10, 0, 2)\n",
    "print('-=' * 20)\n",
    "print('Agora é sua vez de personalizar a contagem!')\n",
    "ini = int(input('Início: '))\n",
    "fim = int(input('fim: '))\n",
    "pas = int(input('Passo: '))\n",
    "contador(ini, fim, pas)"
   ]
  },
  {
   "cell_type": "markdown",
   "id": "91fa7285",
   "metadata": {},
   "source": [
    "### OBSERVAÇÕES:\n",
    "### Existem algumas diferenças nas programações. A principal é que a do Guanabara mostra o último caracter na contagem dinâmica. Segue a explicação da programação conforme legenda comentada acima:\n",
    "\n",
    "##### A) As operações abaixo do if somente funcionam se a contagem final for maior que a inicial. Caso contrário ele não mostra número algum. Portanto tornou necessário colocar o if.\n",
    "\n",
    "##### B) A operação FLUSH. Ela teve que ser usada pois o sleep não funciona conforme desejado. Caso não seja acionada o sleep entra em ação antes dos números, em sequência ele 'espirra' todos os números de uma vez ao invês de acionar o tempo entre os números.\n",
    "\n",
    "##### C) O passo nunca pode ser negativo. Devido a este fato é necessário transformar o passo em positivo, por esse motivo o if\n",
    "\n",
    "##### D) O passo não pode ser negativo como também não faz sentido ser zero. Portanto transformamos o 0 em 1"
   ]
  },
  {
   "cell_type": "markdown",
   "id": "7484cbb7",
   "metadata": {},
   "source": [
    "______"
   ]
  }
 ],
 "metadata": {
  "kernelspec": {
   "display_name": "Python 3",
   "language": "python",
   "name": "python3"
  },
  "language_info": {
   "codemirror_mode": {
    "name": "ipython",
    "version": 3
   },
   "file_extension": ".py",
   "mimetype": "text/x-python",
   "name": "python",
   "nbconvert_exporter": "python",
   "pygments_lexer": "ipython3",
   "version": "3.8.8"
  }
 },
 "nbformat": 4,
 "nbformat_minor": 5
}
