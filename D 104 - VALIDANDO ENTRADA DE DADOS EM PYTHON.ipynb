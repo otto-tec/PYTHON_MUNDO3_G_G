{
 "cells": [
  {
   "cell_type": "markdown",
   "id": "a8e15476",
   "metadata": {},
   "source": [
    "## DESAFIO 104\n",
    "### Crie um programa que tenha a função leialnt(), que vai funcionar de forma semelhante à função input() do Python, só que fazendo a validação para aceitar apenas um valor numérico.\n",
    "### Ex:\n",
    "### n = leialnt('Digite um n')"
   ]
  },
  {
   "cell_type": "code",
   "execution_count": 5,
   "id": "aaecf60c",
   "metadata": {},
   "outputs": [
    {
     "name": "stdout",
     "output_type": "stream",
     "text": [
      "****************************************\n",
      "Digite um número: tres\n",
      "ERRO! Digite um número inteiro válido\n",
      "Digite um número: 6\n",
      "Você acabou de digitar o número 6\n"
     ]
    }
   ],
   "source": [
    "# Programa que eu fiz, porem usando input\n",
    "def leialnt(num):\n",
    "    while True:  \n",
    "        if num.isnumeric():\n",
    "            return num\n",
    "        else:\n",
    "            print('ERRO! Digite um número inteiro válido')\n",
    "            num = (input('Digite um número: '))\n",
    "\n",
    "#Programa principal\n",
    "print('*' * 40)\n",
    "n = leialnt(input('Digite um número: '))\n",
    "print(f'Você acabou de digitar o número {n}')"
   ]
  },
  {
   "cell_type": "markdown",
   "id": "430634a7",
   "metadata": {},
   "source": [
    "_______"
   ]
  },
  {
   "cell_type": "code",
   "execution_count": 7,
   "id": "bd7b48a9",
   "metadata": {
    "scrolled": true
   },
   "outputs": [
    {
     "name": "stdout",
     "output_type": "stream",
     "text": [
      "Digite um número: r\n",
      "\u001b[0;31mERRO! Digite um número válido.\u001b[m\n",
      "Digite um número: y\n",
      "\u001b[0;31mERRO! Digite um número válido.\u001b[m\n",
      "Digite um número: 3\n",
      "Você acabou de digitar o número 3\n"
     ]
    }
   ],
   "source": [
    "# Programa que o Gustavo fez\n",
    "def leiaInt(msg):\n",
    "    ok = False\n",
    "    valor = 0\n",
    "    while True:\n",
    "        n = str(input(msg))\n",
    "        if n.isnumeric():\n",
    "            valor = int(n)\n",
    "            ok = True\n",
    "        else:\n",
    "            print('\\033[0;31mERRO! Digite um número válido.\\033[m')\n",
    "        if ok:\n",
    "            break\n",
    "    return valor\n",
    "\n",
    "#Programa principal\n",
    "n = leiaInt('Digite um número: ')\n",
    "print(f'Você acabou de digitar o número {n}')"
   ]
  },
  {
   "cell_type": "code",
   "execution_count": null,
   "id": "cda20eab",
   "metadata": {},
   "outputs": [],
   "source": []
  }
 ],
 "metadata": {
  "kernelspec": {
   "display_name": "Python 3",
   "language": "python",
   "name": "python3"
  },
  "language_info": {
   "codemirror_mode": {
    "name": "ipython",
    "version": 3
   },
   "file_extension": ".py",
   "mimetype": "text/x-python",
   "name": "python",
   "nbconvert_exporter": "python",
   "pygments_lexer": "ipython3",
   "version": "3.8.8"
  }
 },
 "nbformat": 4,
 "nbformat_minor": 5
}
