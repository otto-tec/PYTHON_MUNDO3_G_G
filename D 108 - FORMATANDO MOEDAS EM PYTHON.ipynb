{
 "cells": [
  {
   "cell_type": "markdown",
   "id": "c2cfdf4c",
   "metadata": {},
   "source": [
    "## DESAFIO 108\n",
    "### Adapte o código do desafio 107, criando uma função adicional chamada moeda() que consiga mostrar os valores como um valor monetário formatado."
   ]
  },
  {
   "cell_type": "code",
   "execution_count": 3,
   "id": "efb967af",
   "metadata": {},
   "outputs": [
    {
     "name": "stdout",
     "output_type": "stream",
     "text": [
      "Digite um preço: R$ 200\n",
      "O valor com um acrescimo de 10% é R$220.00\n",
      "O valor com o decrescimo de 30% é R$140.00\n",
      "A metade do valor R$200.0 é R$100.00\n",
      "O dobro do valor R$200.0 é R$400.00\n"
     ]
    }
   ],
   "source": [
    "#Programa que eu fiz, atualizei o moeda p/ moeda2\n",
    "import import_ipynb\n",
    "import moeda2\n",
    "\n",
    "inicio = float(input('Digite um preço: R$ '))\n",
    "\n",
    "print(f'O valor com um acrescimo de 10% é {moeda2.aumentar(inicio, 10)}')\n",
    "print(f'O valor com o decrescimo de 30% é {moeda2.diminuir(inicio, 30)}')\n",
    "print(f'A metade do valor R${inicio} é {moeda2.metade(inicio)}')\n",
    "print(f'O dobro do valor R${inicio} é {moeda2.dobro(inicio)}')"
   ]
  },
  {
   "cell_type": "markdown",
   "id": "a3cc5a37",
   "metadata": {},
   "source": [
    "_________"
   ]
  },
  {
   "cell_type": "code",
   "execution_count": 2,
   "id": "de992426",
   "metadata": {},
   "outputs": [
    {
     "name": "stdout",
     "output_type": "stream",
     "text": [
      "Digite um preço: R$ 100.5\n",
      "O valor com um acrescimo de 10% é R$110,55\n",
      "O valor com o decrescimo de 30% é R$70,35\n",
      "A metade do valor R$100.50 é R$50,25\n",
      "O dobro do valor R$100.50 é R$201,00\n"
     ]
    }
   ],
   "source": [
    "# Programa do Gustavo. Ele alterou o ponto por virgula, mantive o mesmo arquivo moeda2 com o replace\n",
    "import import_ipynb\n",
    "import moeda2\n",
    "\n",
    "inicio = float(input('Digite um preço: R$ '))\n",
    "\n",
    "print(f'O valor com um acrescimo de 10% é {moeda2.aumentar(inicio, 10)}')\n",
    "print(f'O valor com o decrescimo de 30% é {moeda2.diminuir(inicio, 30)}')\n",
    "print(f'A metade do valor R${inicio:.2f} é {moeda2.metade(inicio)}')\n",
    "print(f'O dobro do valor R${inicio:.2f} é {moeda2.dobro(inicio)}')\n"
   ]
  },
  {
   "cell_type": "markdown",
   "id": "d21deea6",
   "metadata": {},
   "source": [
    "______"
   ]
  }
 ],
 "metadata": {
  "kernelspec": {
   "display_name": "Python 3",
   "language": "python",
   "name": "python3"
  },
  "language_info": {
   "codemirror_mode": {
    "name": "ipython",
    "version": 3
   },
   "file_extension": ".py",
   "mimetype": "text/x-python",
   "name": "python",
   "nbconvert_exporter": "python",
   "pygments_lexer": "ipython3",
   "version": "3.8.8"
  }
 },
 "nbformat": 4,
 "nbformat_minor": 5
}
