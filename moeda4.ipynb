{
 "cells": [
  {
   "cell_type": "markdown",
   "id": "ee0e8a3b",
   "metadata": {},
   "source": [
    "## MODULO MOEDA"
   ]
  },
  {
   "cell_type": "code",
   "execution_count": 1,
   "id": "b5281ee4",
   "metadata": {},
   "outputs": [],
   "source": [
    "def aumentar(preco, taxa, form = False):\n",
    "    res = preco + (preco * taxa / 100)\n",
    "    return res if form is False else moeda(res)\n",
    "\n",
    "def diminuir(preco, taxa, form = False):\n",
    "    res = preco - (preco * taxa / 100)\n",
    "    return res if form is False else moeda(res)\n",
    "\n",
    "def dobro(preco, form = False):\n",
    "    res = preco * 2\n",
    "    return res if form is False else moeda(res)\n",
    "\n",
    "def metade(preco, form = False):\n",
    "    res = preco / 2\n",
    "    return res if form is False else moeda(res)\n",
    "\n",
    "def moeda(preço=0, moeda='R$'):\n",
    "    return f'{moeda}{preço:>.2f}'.replace('.',',')"
   ]
  },
  {
   "cell_type": "code",
   "execution_count": null,
   "id": "502ca03b",
   "metadata": {},
   "outputs": [],
   "source": []
  }
 ],
 "metadata": {
  "kernelspec": {
   "display_name": "Python 3",
   "language": "python",
   "name": "python3"
  },
  "language_info": {
   "codemirror_mode": {
    "name": "ipython",
    "version": 3
   },
   "file_extension": ".py",
   "mimetype": "text/x-python",
   "name": "python",
   "nbconvert_exporter": "python",
   "pygments_lexer": "ipython3",
   "version": "3.8.8"
  }
 },
 "nbformat": 4,
 "nbformat_minor": 5
}
