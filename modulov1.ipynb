{
 "cells": [
  {
   "cell_type": "code",
   "execution_count": null,
   "id": "6ea42476",
   "metadata": {},
   "outputs": [],
   "source": [
    "from time import sleep\n",
    "\n",
    "def leiaInt(msg):\n",
    "    while True:\n",
    "        try:\n",
    "            n = int(input(msg))\n",
    "        except (ValueError, TypeError):\n",
    "            print('\\033[31mErro: por favor, digite um número inteiro válido.\\033[m')\n",
    "            continue\n",
    "        except (KeyboardInterrupt):\n",
    "            print('\\033[31mUsuário preferiu não digitar esse número.\\033[m')\n",
    "            return 0\n",
    "        else:\n",
    "            return n\n",
    "\n",
    "\n",
    "def linha(tam = 42):\n",
    "    return '-' * tam\n",
    "\n",
    "def cabeçalho(txt):\n",
    "    print(linha())\n",
    "    print(txt.center(42))\n",
    "    print(linha())\n",
    "    \n",
    "def menu(lista):\n",
    "    cabeçalho('MENU PRINCIPAL')\n",
    "    sleep(0.5)\n",
    "    c = 1\n",
    "    for item in lista:\n",
    "        print(f'\\033[33m{c}\\033[m - \\033[34m{item}\\033[m') #Podemos abrir várias config. de cor e fechar só no final\n",
    "        c += 1\n",
    "    print(linha())\n",
    "    opc = leiaInt('Sua opção: ')\n",
    "    return opc"
   ]
  }
 ],
 "metadata": {
  "kernelspec": {
   "display_name": "Python 3",
   "language": "python",
   "name": "python3"
  },
  "language_info": {
   "codemirror_mode": {
    "name": "ipython",
    "version": 3
   },
   "file_extension": ".py",
   "mimetype": "text/x-python",
   "name": "python",
   "nbconvert_exporter": "python",
   "pygments_lexer": "ipython3",
   "version": "3.8.8"
  }
 },
 "nbformat": 4,
 "nbformat_minor": 5
}
