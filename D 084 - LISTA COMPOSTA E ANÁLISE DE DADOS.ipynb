{
 "cells": [
  {
   "cell_type": "markdown",
   "id": "9f796189",
   "metadata": {},
   "source": [
    "## DESAFIO 084\n",
    "### Faça um programa que leia nome e peso de várias pessoas, guardando tudo em uma lista. No final, mostre:\n",
    "\n",
    "#### - A) Quantas pessoas foram cadastradas.\n",
    "#### - B) Uma listagem com as pessoas mais pesadas. \n",
    "#### - C) Uma listagem com as pessoas mais leves."
   ]
  },
  {
   "cell_type": "code",
   "execution_count": 15,
   "id": "2dea2dad",
   "metadata": {},
   "outputs": [
    {
     "name": "stdout",
     "output_type": "stream",
     "text": [
      "==================================================\n",
      "            LISTA COM ANÁLISE DE DADOS            \n",
      "==================================================\n",
      "Nome: o4\n",
      "Peso: 5\n"
     ]
    },
    {
     "ename": "TypeError",
     "evalue": "'>' not supported between instances of 'int' and 'list'",
     "output_type": "error",
     "traceback": [
      "\u001b[1;31m---------------------------------------------------------------------------\u001b[0m",
      "\u001b[1;31mTypeError\u001b[0m                                 Traceback (most recent call last)",
      "\u001b[1;32m<ipython-input-15-fe8009008909>\u001b[0m in \u001b[0;36m<module>\u001b[1;34m\u001b[0m\n\u001b[0;32m     21\u001b[0m             \u001b[0mmais\u001b[0m \u001b[1;33m=\u001b[0m \u001b[0mmenos\u001b[0m \u001b[1;33m=\u001b[0m \u001b[1;36m0\u001b[0m\u001b[1;33m\u001b[0m\u001b[1;33m\u001b[0m\u001b[0m\n\u001b[0;32m     22\u001b[0m         \u001b[1;32melse\u001b[0m\u001b[1;33m:\u001b[0m\u001b[1;33m\u001b[0m\u001b[1;33m\u001b[0m\u001b[0m\n\u001b[1;32m---> 23\u001b[1;33m             \u001b[1;32mif\u001b[0m \u001b[0mn\u001b[0m\u001b[1;33m[\u001b[0m\u001b[1;36m1\u001b[0m\u001b[1;33m]\u001b[0m \u001b[1;33m>\u001b[0m \u001b[0mmais\u001b[0m\u001b[1;33m:\u001b[0m\u001b[1;33m\u001b[0m\u001b[1;33m\u001b[0m\u001b[0m\n\u001b[0m\u001b[0;32m     24\u001b[0m                 \u001b[0mmais\u001b[0m \u001b[1;33m=\u001b[0m \u001b[0mn\u001b[0m\u001b[1;33m\u001b[0m\u001b[1;33m\u001b[0m\u001b[0m\n\u001b[0;32m     25\u001b[0m             \u001b[1;32mif\u001b[0m \u001b[0mn\u001b[0m\u001b[1;33m[\u001b[0m\u001b[1;36m1\u001b[0m\u001b[1;33m]\u001b[0m \u001b[1;33m<\u001b[0m \u001b[0mmenos\u001b[0m\u001b[1;33m:\u001b[0m\u001b[1;33m\u001b[0m\u001b[1;33m\u001b[0m\u001b[0m\n",
      "\u001b[1;31mTypeError\u001b[0m: '>' not supported between instances of 'int' and 'list'"
     ]
    }
   ],
   "source": [
    "import time\n",
    "print('=' * 50)\n",
    "print('LISTA COM ANÁLISE DE DADOS'.center(50))\n",
    "print('=' * 50)\n",
    "time.sleep(0.5)\n",
    "\n",
    "dado = list()\n",
    "povo = list()\n",
    "tot_PE = 0\n",
    "tot_MP = list()\n",
    "mais = list()\n",
    "menos = list()\n",
    "while True:\n",
    "    dado.append(input('Nome: '))\n",
    "    dado.append(int(input('Peso: ')))\n",
    "    povo.append(dado[:])\n",
    "    dado.clear()\n",
    "    tot_PE += 1 \n",
    "    for n in povo:\n",
    "        if n[1] == 0:\n",
    "            mais = menos = 0\n",
    "        else:\n",
    "            if n[1] > mais:\n",
    "                mais = n\n",
    "            if n[1] < menos:\n",
    "                menos += n\n",
    "    \n",
    "    saida = (input('Deseja continuar? [S/N] ')).upper().split()[0]\n",
    "    if saida == 'N':\n",
    "        break\n",
    "    elif saida not in 'NS':\n",
    "        print('Digito inválido.')\n",
    "        saida = (input('Deseja continuar? [S/N] ')).upper().split()[0]\n",
    " \n",
    "\n",
    "\n",
    "\n",
    "print(f'Pessoas mais pesadas: {max(povo)}')\n",
    "#print(f'Segue todas as pessoas cadastradas no sistema:\\n{povo}')\n",
    "#print('=' * 55)\n",
    "#print(f'Foram cadastradas {tot_PE} pessoas.')"
   ]
  },
  {
   "cell_type": "code",
   "execution_count": null,
   "id": "4702e765",
   "metadata": {},
   "outputs": [],
   "source": []
  }
 ],
 "metadata": {
  "kernelspec": {
   "display_name": "Python 3",
   "language": "python",
   "name": "python3"
  },
  "language_info": {
   "codemirror_mode": {
    "name": "ipython",
    "version": 3
   },
   "file_extension": ".py",
   "mimetype": "text/x-python",
   "name": "python",
   "nbconvert_exporter": "python",
   "pygments_lexer": "ipython3",
   "version": "3.8.8"
  }
 },
 "nbformat": 4,
 "nbformat_minor": 5
}
