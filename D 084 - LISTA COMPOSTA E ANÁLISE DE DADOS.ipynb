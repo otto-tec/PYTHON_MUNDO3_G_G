{
 "cells": [
  {
   "cell_type": "markdown",
   "id": "9f796189",
   "metadata": {},
   "source": [
    "## DESAFIO 084\n",
    "### Faça um programa que leia nome e peso de várias pessoas, guardando tudo em uma lista. No final, mostre:\n",
    "\n",
    "#### - A) Quantas pessoas foram cadastradas.\n",
    "#### - B) Uma listagem com as pessoas mais pesadas. \n",
    "#### - C) Uma listagem com as pessoas mais leves."
   ]
  },
  {
   "cell_type": "code",
   "execution_count": 23,
   "id": "2dea2dad",
   "metadata": {
    "scrolled": true
   },
   "outputs": [
    {
     "name": "stdout",
     "output_type": "stream",
     "text": [
      "==================================================\n",
      "            LISTA COM ANÁLISE DE DADOS            \n",
      "==================================================\n",
      "Nome: Ana\n",
      "Peso: 50\n",
      "Deseja continuar? [S/N] s\n",
      "Nome: Marcos\n",
      "Peso: 80\n",
      "Deseja continuar? [S/N] s\n",
      "Nome: Claudia\n",
      "Peso: 80\n",
      "Deseja continuar? [S/N] s\n",
      "Nome: Veronica\n",
      "Peso: 40\n",
      "Deseja continuar? [S/N] n\n",
      "Segue todas as pessoas cadastradas no sistema:\n",
      "[['Ana', 50.0], ['Marcos', 80.0], ['Claudia', 80.0], ['Veronica', 40.0]]\n",
      "=======================================================\n",
      "Foram cadastradas 4 pessoas.\n",
      "=======================================================\n",
      "O maior peso foi de 40.0 Kg. Respectivo peso de ...\n",
      "=======================================================\n",
      "O menor peso foi de 50.0 Kg. Respectivo peso de ...\n",
      "=======================================================\n"
     ]
    }
   ],
   "source": [
    "# PROGRAMA QUE EU FIZ. NÃO CONSEGUI FINALIZAR A PARTE DOS NOMES.\n",
    "import time\n",
    "print('=' * 50)\n",
    "print('LISTA COM ANÁLISE DE DADOS'.center(50))\n",
    "print('=' * 50)\n",
    "time.sleep(0.5)\n",
    "\n",
    "dado = list()\n",
    "povo = list()\n",
    "tot_PE = 0\n",
    "tot_MP = list()\n",
    "tot_ML = list()\n",
    "mais = list()\n",
    "menos = list()\n",
    "pessoas_p = list()\n",
    "pessoas_l = list()\n",
    "\n",
    "while True:\n",
    "    dado.append(input('Nome: '))\n",
    "    dado.append(float(input('Peso: ')))\n",
    "    povo.append(dado[:])\n",
    "    dado.clear()\n",
    "    tot_PE += 1 \n",
    "    mais = max(povo)\n",
    "    menos = min(povo)\n",
    "    tot_MP = mais[1]\n",
    "    tot_ML = menos[1]\n",
    "    saida = (input('Deseja continuar? [S/N] ')).upper().split()[0]\n",
    "    if saida == 'N':\n",
    "        break\n",
    "    elif saida not in 'NS':\n",
    "        print('Digito inválido.')\n",
    "        saida = (input('Deseja continuar? [S/N] ')).upper().split()[0]\n",
    "        \n",
    "print(f'Segue todas as pessoas cadastradas no sistema:\\n{povo}')\n",
    "print('=' * 55)\n",
    "print(f'Foram cadastradas {tot_PE} pessoas.')\n",
    "print('=' * 55)\n",
    "print(f'O maior peso foi de {tot_MP} Kg. Respectivo peso de ...')\n",
    "print('=' * 55)\n",
    "print(f'O menor peso foi de {tot_ML} Kg. Respectivo peso de ...')\n",
    "\n",
    "print('=' * 55)"
   ]
  },
  {
   "cell_type": "code",
   "execution_count": null,
   "id": "4702e765",
   "metadata": {},
   "outputs": [],
   "source": []
  }
 ],
 "metadata": {
  "kernelspec": {
   "display_name": "Python 3",
   "language": "python",
   "name": "python3"
  },
  "language_info": {
   "codemirror_mode": {
    "name": "ipython",
    "version": 3
   },
   "file_extension": ".py",
   "mimetype": "text/x-python",
   "name": "python",
   "nbconvert_exporter": "python",
   "pygments_lexer": "ipython3",
   "version": "3.8.8"
  }
 },
 "nbformat": 4,
 "nbformat_minor": 5
}
