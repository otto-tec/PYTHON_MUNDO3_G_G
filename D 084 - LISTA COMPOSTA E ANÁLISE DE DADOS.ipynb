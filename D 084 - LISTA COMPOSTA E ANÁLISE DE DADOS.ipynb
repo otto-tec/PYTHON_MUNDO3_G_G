{
 "cells": [
  {
   "cell_type": "markdown",
   "id": "400ec87a",
   "metadata": {},
   "source": [
    "## DESAFIO 084\n",
    "### Faça um programa que leia nome e peso de várias pessoas, guardando tudo em uma lista. No final, mostre:\n",
    "#### - A) Quantas pessoas foram cadastradas.\n",
    "#### - B) Uma listagem com as pessoas mais pesadas.\n",
    "#### - C) Uma listagem com as pessoas mais leves."
   ]
  },
  {
   "cell_type": "code",
   "execution_count": 1,
   "id": "af21588f",
   "metadata": {},
   "outputs": [
    {
     "name": "stdout",
     "output_type": "stream",
     "text": [
      "==================================================\n",
      "            LISTA COM ANÁLISE DE DADOS            \n",
      "==================================================\n",
      "Nome: Ana\n",
      "Peso: 60\n",
      "Deseja continuar? [S/N] s\n",
      "Nome: Beto\n",
      "Peso: 70\n",
      "Deseja continuar? [S/N] s\n",
      "Nome: Carla\n",
      "Peso: 90\n",
      "Deseja continuar? [S/N] s\n",
      "Nome: Rubens\n",
      "Peso: 80\n",
      "Deseja continuar? [S/N] h\n",
      "Digito inválido.\n",
      "Deseja continuar? [S/N] y\n",
      "Nome: n\n",
      "Peso: 70\n",
      "Deseja continuar? [S/N] n\n",
      "Segue todas as pessoas cadastradas no sistema:\n",
      "[['Ana', 60.0], ['Beto', 70.0], ['Carla', 90.0], ['Rubens', 80.0], ['n', 70.0]]\n",
      "=======================================================\n",
      "Foram cadastradas 5 pessoas.\n",
      "=======================================================\n",
      "O maior peso foi de 70.0 Kg. Respectivo peso de ...\n",
      "=======================================================\n",
      "O menor peso foi de 60.0 Kg. Respectivo peso de ...\n",
      "=======================================================\n"
     ]
    }
   ],
   "source": [
    "# PROGRAMA QUE EU FIZ. NÃO CONSEGUI FINALIZAR A PARTE DOS NOMES.\n",
    "import time\n",
    "print('=' * 50)\n",
    "print('LISTA COM ANÁLISE DE DADOS'.center(50))\n",
    "print('=' * 50)\n",
    "time.sleep(0.5)\n",
    "\n",
    "dado = list()\n",
    "povo = list()\n",
    "tot_PE = 0\n",
    "tot_MP = list()\n",
    "tot_ML = list()\n",
    "mais = list()\n",
    "menos = list()\n",
    "pessoas_p = list()\n",
    "pessoas_l = list()\n",
    "\n",
    "while True:\n",
    "    dado.append(input('Nome: '))\n",
    "    dado.append(float(input('Peso: ')))\n",
    "    povo.append(dado[:])\n",
    "    dado.clear()\n",
    "    tot_PE += 1 \n",
    "    mais = max(povo)\n",
    "    menos = min(povo)\n",
    "    tot_MP = mais[1]\n",
    "    tot_ML = menos[1]\n",
    "    saida = (input('Deseja continuar? [S/N] ')).upper().split()[0]\n",
    "    if saida == 'N':\n",
    "        break\n",
    "    elif saida not in 'NS':\n",
    "        print('Digito inválido.')\n",
    "        saida = (input('Deseja continuar? [S/N] ')).upper().split()[0]\n",
    "        \n",
    "print(f'Segue todas as pessoas cadastradas no sistema:\\n{povo}')\n",
    "print('=' * 55)\n",
    "print(f'Foram cadastradas {tot_PE} pessoas.')\n",
    "print('=' * 55)\n",
    "print(f'O maior peso foi de {tot_MP} Kg. Respectivo peso de ...')\n",
    "print('=' * 55)\n",
    "print(f'O menor peso foi de {tot_ML} Kg. Respectivo peso de ...')\n",
    "\n",
    "print('=' * 55)"
   ]
  },
  {
   "cell_type": "code",
   "execution_count": 3,
   "id": "213bdfac",
   "metadata": {
    "scrolled": true
   },
   "outputs": [
    {
     "name": "stdout",
     "output_type": "stream",
     "text": [
      "Nome: Carlos\n",
      "Peso: 70\n",
      "Quer continuar? [S/N] s\n",
      "Nome: Mayara\n",
      "Peso: 80\n",
      "Quer continuar? [S/N] S\n",
      "Nome: Silva\n",
      "Peso: 70\n",
      "Quer continuar? [S/N] s\n",
      "Nome: Mario\n",
      "Peso: 100\n",
      "Quer continuar? [S/N] s\n",
      "Nome: \n",
      "Peso: 90\n",
      "Quer continuar? [S/N] s\n",
      "Nome: Ruan\n",
      "Peso: 100\n",
      "Quer continuar? [S/N] n\n",
      "-=-=-=-=-=-=-=-=-=-=-=-=-=-=-=-=-=-=-=-=-=-=-=-=-=-=-=-=-=-=\n",
      "Ao todo, você cadastrou 6 pessoas. \n",
      " O maior peso foi de 100.0Kg. Peso de [Mario] [Ruan] \n",
      " O menor peso foi de 70.0Kg. Peso de [Carlos] [Silva] \n"
     ]
    }
   ],
   "source": [
    "#EXERCICIO FEITO PELO GUSTAVO\n",
    "\n",
    "temp = []\n",
    "princ = []\n",
    "mai = men = 0\n",
    "while True:\n",
    "    temp.append(str(input('Nome: ')))\n",
    "    temp.append(float(input('Peso: ')))\n",
    "    if len(princ) == 0:                   # O PRINC SOMENTE TERA CONTEÚDO NA SEGUNDA RODADA\n",
    "        mai = men = temp[1]               # VEJA QUE ANTES DE ATRIBUIR VALOR AO PRINC ELE JÁ CRIOU A CONDICIONAL QUE PEGA O 1° PESO \n",
    "    else:                                 #  PERCEBA QUE O IF VAI ENTRAR SOMENTE NA 1° VEZ DO WHILE\n",
    "        if temp[1] > mai:                 #  E O ELSE SOMENTE ENTRARÁ EM AÇÃO NO 2° MOVIMENTO DO WHILE\n",
    "            mai = temp[1]                 #  \n",
    "        if temp[1] < men:                 # ATENÇÃO: NESSA PARTE O MEN JÁ PEGOU O VALOR DA PRIMEIRA RODADA, NO CASO O PRIMEIRO PESO\n",
    "            men = temp[1]                 # SERVE PARA AUTOMATIZAR O MAXIMO E O MINIMO\n",
    "    princ.append(temp[:])                 # O PRINC ABSORVE UMA CÓPIA DOS INPUTS DO TEMP\n",
    "    temp.clear()                          # APAGA-SE O TEMP PARAR PODER REUTILIZAR\n",
    "    resp = str(input('Quer continuar? [S/N] '))\n",
    "    if resp in 'Nn':\n",
    "        break\n",
    "print('-=' * 30)\n",
    "print(f'Ao todo, você cadastrou {len(princ)} pessoas. ')\n",
    "print(f' O maior peso foi de {mai}Kg. Peso de ', end='')\n",
    "for p in princ:                       # Aqui está o pulo do gato. Ele pega a lista completa e joga na variavel p\n",
    "    if p[1] == mai:                   # Essa condicional vai pegar todos os indices das sublistas e verificar se são iguais ao maior.\n",
    "        print(f'[{p[0]}] ', end='')   # Se for maior printa o nome do fulano (para esta sublista). Como é um FOR ele vai percorrer todas as sublistas.\n",
    "print()\n",
    "print(f' O menor peso foi de {men}Kg. Peso de ', end='')\n",
    "for p in princ:\n",
    "    if p[1] == men:\n",
    "        print(f'[{p[0]}] ', end='')\n",
    "print()\n",
    "\n",
    "\n"
   ]
  },
  {
   "cell_type": "code",
   "execution_count": null,
   "id": "35fd4854",
   "metadata": {},
   "outputs": [],
   "source": []
  },
  {
   "cell_type": "code",
   "execution_count": null,
   "id": "0e32d7db",
   "metadata": {},
   "outputs": [],
   "source": []
  }
 ],
 "metadata": {
  "kernelspec": {
   "display_name": "Python 3",
   "language": "python",
   "name": "python3"
  },
  "language_info": {
   "codemirror_mode": {
    "name": "ipython",
    "version": 3
   },
   "file_extension": ".py",
   "mimetype": "text/x-python",
   "name": "python",
   "nbconvert_exporter": "python",
   "pygments_lexer": "ipython3",
   "version": "3.8.8"
  }
 },
 "nbformat": 4,
 "nbformat_minor": 5
}
