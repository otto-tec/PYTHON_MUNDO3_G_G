{
 "cells": [
  {
   "cell_type": "markdown",
   "id": "959cd693",
   "metadata": {},
   "source": [
    "## DESAFIO 115\n",
    "### Crie um pequeno sistema modularizado que permita cadastrar pessoas pelo seu nome e idade em um arquivo de texto simples. O sistema só vai ter 2 opções: cadastrar uma nova pessoa e listar todas as pessoas cadastradas."
   ]
  },
  {
   "cell_type": "code",
   "execution_count": null,
   "id": "92ff397a",
   "metadata": {},
   "outputs": [
    {
     "name": "stdout",
     "output_type": "stream",
     "text": [
      "importing Jupyter notebook from modulov1.ipynb\n",
      "importing Jupyter notebook from arquivov1.ipynb\n",
      "Arquivo encontrado com sucesso!\n",
      "------------------------------------------\n",
      "              MENU PRINCIPAL              \n",
      "------------------------------------------\n",
      "\u001b[33m1\u001b[m - \u001b[34mVer pessoas cadastradas\u001b[m\n",
      "\u001b[33m2\u001b[m - \u001b[34mCadastrar nova Pessoa\u001b[m\n",
      "\u001b[33m3\u001b[m - \u001b[34mSair do Sistema\u001b[m\n",
      "------------------------------------------\n",
      "Sua opção: 1\n",
      "------------------------------------------\n",
      "           PESSOAS CADASTRADAS            \n",
      "------------------------------------------\n",
      "Jose                           15 anos\n",
      "Otto                           33 anos\n",
      "------------------------------------------\n",
      "              MENU PRINCIPAL              \n",
      "------------------------------------------\n",
      "\u001b[33m1\u001b[m - \u001b[34mVer pessoas cadastradas\u001b[m\n",
      "\u001b[33m2\u001b[m - \u001b[34mCadastrar nova Pessoa\u001b[m\n",
      "\u001b[33m3\u001b[m - \u001b[34mSair do Sistema\u001b[m\n",
      "------------------------------------------\n",
      "Sua opção: 2\n",
      "------------------------------------------\n",
      "              NOVO CADASTRO               \n",
      "------------------------------------------\n",
      "Nome: Luciene\n",
      "Idade: 40\n",
      "Novo registro de Luciene adicionado.\n",
      "------------------------------------------\n",
      "              MENU PRINCIPAL              \n",
      "------------------------------------------\n",
      "\u001b[33m1\u001b[m - \u001b[34mVer pessoas cadastradas\u001b[m\n",
      "\u001b[33m2\u001b[m - \u001b[34mCadastrar nova Pessoa\u001b[m\n",
      "\u001b[33m3\u001b[m - \u001b[34mSair do Sistema\u001b[m\n",
      "------------------------------------------\n",
      "Sua opção: 1\n",
      "------------------------------------------\n",
      "           PESSOAS CADASTRADAS            \n",
      "------------------------------------------\n",
      "Jose                           15 anos\n",
      "Otto                           33 anos\n",
      "Luciene                        40 anos\n",
      "------------------------------------------\n",
      "              MENU PRINCIPAL              \n",
      "------------------------------------------\n",
      "\u001b[33m1\u001b[m - \u001b[34mVer pessoas cadastradas\u001b[m\n",
      "\u001b[33m2\u001b[m - \u001b[34mCadastrar nova Pessoa\u001b[m\n",
      "\u001b[33m3\u001b[m - \u001b[34mSair do Sistema\u001b[m\n",
      "------------------------------------------\n"
     ]
    }
   ],
   "source": [
    "import import_ipynb\n",
    "from modulov1 import * # O * importa tudo\n",
    "from arquivov1 import *\n",
    "from time import sleep\n",
    "\n",
    "arq = 'cursoemvideo.txt'\n",
    "\n",
    "if arquivoExiste(arq):\n",
    "    print('Arquivo encontrado com sucesso!')\n",
    "else:\n",
    "    print('Arquivo não encontrado!')\n",
    "    criarArquivo(arq)\n",
    "\n",
    "while True:\n",
    "    resposta = menu(['Ver pessoas cadastradas', 'Cadastrar nova Pessoa', 'Sair do Sistema'])\n",
    "    if resposta == 1:\n",
    "        # Opção de listar o conteúdo de um arquivo!\n",
    "        lerArquivo(arq)\n",
    "    elif resposta == 2:\n",
    "        # Opção de cadastrar uma nova pessoa\n",
    "        cabeçalho('NOVO CADASTRO')\n",
    "        nome = str(input('Nome: '))\n",
    "        idade = leiaInt('Idade: ')\n",
    "        cadastrar(arq, nome, idade)\n",
    "    elif resposta == 3:\n",
    "        print('Saindo do sistema... Até logo!')\n",
    "        break\n",
    "    else:\n",
    "        print('\\033[31mERRO! Digite uma opção válida!\\033[m')\n",
    "    sleep(1)"
   ]
  },
  {
   "cell_type": "code",
   "execution_count": null,
   "id": "432d1918",
   "metadata": {},
   "outputs": [],
   "source": []
  }
 ],
 "metadata": {
  "kernelspec": {
   "display_name": "Python 3",
   "language": "python",
   "name": "python3"
  },
  "language_info": {
   "codemirror_mode": {
    "name": "ipython",
    "version": 3
   },
   "file_extension": ".py",
   "mimetype": "text/x-python",
   "name": "python",
   "nbconvert_exporter": "python",
   "pygments_lexer": "ipython3",
   "version": "3.8.8"
  }
 },
 "nbformat": 4,
 "nbformat_minor": 5
}
