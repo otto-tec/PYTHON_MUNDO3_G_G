{
 "cells": [
  {
   "cell_type": "markdown",
   "id": "c199ac46",
   "metadata": {},
   "source": [
    "## DESAFIO 092\n",
    "###   Crie um programa que leia nome, ano de nascimento e carteira de trabalho e cadastre-os(com idade) em um dicionário se por acaso a CTPS for diferente de ZERO, o dicionário receberá também o ano de contratação e o salário. Calcule e acrescente, além da idade, com quantos anos a pessoa vai se aposentar."
   ]
  },
  {
   "cell_type": "code",
   "execution_count": 14,
   "id": "adebfcf2",
   "metadata": {},
   "outputs": [
    {
     "name": "stdout",
     "output_type": "stream",
     "text": [
      "Insira o nome: Otto\n",
      "Ano de nasc.: 1988\n",
      "Número CTPS.(0 caso não possua): 1234\n",
      "Ano de contração: 2000\n",
      "Insira o salário:R$ 4000\n",
      "========================================\n",
      "Nome tem o valor: Otto\n",
      "Nascimento tem o valor: 1988\n",
      "CTPS tem o valor: 1234\n",
      "Ano da contratação tem o valor: 2000\n",
      "Salário tem o valor: 4000.0\n",
      "Aposentadoria tem o valor: 47\n",
      "========================================\n",
      ">>> Fim do programa <<<\n"
     ]
    }
   ],
   "source": [
    "# PROGRAMA QUE EU FIZ\n",
    "cadastro = {}\n",
    "cadastro['Nome'] = input('Insira o nome: ')\n",
    "cadastro['Nascimento'] = int(input('Ano de nasc.: '))\n",
    "cadastro['CTPS'] = int(input('Número CTPS.(0 caso não possua): '))\n",
    "if cadastro['CTPS'] > 0:\n",
    "    cadastro['Ano da contratação'] = int(input('Ano de contração: '))\n",
    "    cadastro['Salário'] = float(input('Insira o salário:R$ '))\n",
    "    cadastro['Aposentadoria'] = (cadastro['Ano da contratação'] - cadastro['Nascimento']) + 35\n",
    "print('=' * 40)\n",
    "\n",
    "for k, v in cadastro.items():\n",
    "    print(f'{k} tem o valor: {v}')\n",
    "\n",
    "print('=' * 40)\n",
    "print('>>> Fim do programa <<<')\n"
   ]
  },
  {
   "cell_type": "markdown",
   "id": "e4614938",
   "metadata": {},
   "source": [
    "_____"
   ]
  },
  {
   "cell_type": "code",
   "execution_count": 15,
   "id": "fb013186",
   "metadata": {},
   "outputs": [
    {
     "name": "stdout",
     "output_type": "stream",
     "text": [
      "Nome: Otto\n",
      "Ano de Nascimento: 1988\n",
      "Carteira de Trabalho (0 não tem): 1234\n",
      "Ano de Contratação: 2000\n",
      "Salário: R$ 4000\n",
      "-=-=-=-=-=-=-=-=-=-=-=-=-=-=-=-=-=-=-=-=-=-=-=-=-=-=-=-=-=-=\n",
      "  - nome tem o valor Otto\n",
      "  - idade tem o valor 33\n",
      "  - ctps tem o valor 1234\n",
      "  - contratação tem o valor 2000\n",
      "  - salário tem o valor 4000.0\n",
      "  - aposentadoria tem o valor 47\n"
     ]
    }
   ],
   "source": [
    "# PROGRAMAÇÃO FEITA PELO GUSTAVO\n",
    "from datetime import datetime\n",
    "dados = dict()\n",
    "dados['nome'] = str(input('Nome: '))\n",
    "nasc = int(input('Ano de Nascimento: '))\n",
    "dados['idade'] = datetime.now().year - nasc\n",
    "dados['ctps'] = int(input('Carteira de Trabalho (0 não tem): '))\n",
    "if dados['ctps'] != 0:\n",
    "    dados['contratação'] = int(input('Ano de Contratação: '))\n",
    "    dados['salário'] = float(input('Salário: R$ '))\n",
    "    dados['aposentadoria'] = dados['idade'] + ((dados['contratação'] + 35) - datetime.now().year)\n",
    "print('-=' * 30)\n",
    "for k, v in dados.items():\n",
    "    print(f'  - {k} tem o valor {v}')"
   ]
  },
  {
   "cell_type": "markdown",
   "id": "4264bc0f",
   "metadata": {},
   "source": [
    "### OBSERVAÇÕES\n",
    "#### Segue abaixo as diferenças entre ambas programações:\n",
    "#### - 1) O Gustavo importou uma ferramenta de biblioteca;\n",
    "#### - 2) Ele calculou a idade da pessoa, se baseando no ano atual. Desnecessário visto que no enunciado não pede isso. Esse processo lhe custou criar uma variável a mais e fazer um cálculo mais complexo. Seria útil se o desafio solicita-se a idade atual da pessoa.\n"
   ]
  },
  {
   "cell_type": "code",
   "execution_count": null,
   "id": "2151d1b0",
   "metadata": {},
   "outputs": [],
   "source": []
  },
  {
   "cell_type": "code",
   "execution_count": null,
   "id": "b5f7f415",
   "metadata": {},
   "outputs": [],
   "source": []
  },
  {
   "cell_type": "code",
   "execution_count": null,
   "id": "80b7eb3b",
   "metadata": {},
   "outputs": [],
   "source": []
  },
  {
   "cell_type": "code",
   "execution_count": null,
   "id": "2f39f1b1",
   "metadata": {},
   "outputs": [],
   "source": []
  },
  {
   "cell_type": "code",
   "execution_count": null,
   "id": "9f420c0b",
   "metadata": {},
   "outputs": [],
   "source": []
  },
  {
   "cell_type": "code",
   "execution_count": null,
   "id": "b2b1ce0d",
   "metadata": {},
   "outputs": [],
   "source": []
  }
 ],
 "metadata": {
  "kernelspec": {
   "display_name": "Python 3",
   "language": "python",
   "name": "python3"
  },
  "language_info": {
   "codemirror_mode": {
    "name": "ipython",
    "version": 3
   },
   "file_extension": ".py",
   "mimetype": "text/x-python",
   "name": "python",
   "nbconvert_exporter": "python",
   "pygments_lexer": "ipython3",
   "version": "3.8.8"
  }
 },
 "nbformat": 4,
 "nbformat_minor": 5
}
