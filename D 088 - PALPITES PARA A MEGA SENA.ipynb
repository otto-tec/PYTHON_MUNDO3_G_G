{
 "cells": [
  {
   "cell_type": "markdown",
   "id": "82cb3812",
   "metadata": {},
   "source": [
    "## DESAFIO 088\n",
    "### Faça um programa que ajude um jogador da MEGA SENA a criar palpites. O programa vai perguntar quantos jogos serão gerados e vai sortear 6 números entre 1 e 60 para cada jogo, cadastrando tudo em uma lista composta."
   ]
  },
  {
   "cell_type": "code",
   "execution_count": 30,
   "id": "f620d1c8",
   "metadata": {},
   "outputs": [
    {
     "name": "stdout",
     "output_type": "stream",
     "text": [
      "****************************************\n",
      "           JOGA NA MEGA SENA            \n",
      "****************************************\n",
      "Quantos jogos você quer que eu sorteie? 8\n",
      "-=-=-=-=-= SORTEANDO 8 JOGOS =-=-=-=-=-\n",
      "Jogo 1: [23, 56, 16, 39, 61, 15]\n",
      "Jogo 2: [27, 4, 5, 25, 45, 48]\n",
      "Jogo 3: [25, 16, 50, 38, 21, 17]\n",
      "Jogo 4: [27, 1, 41, 4, 43, 18]\n",
      "Jogo 5: [3, 9, 39, 23, 44, 56]\n",
      "Jogo 6: [51, 48, 2, 19, 23, 33]\n",
      "Jogo 7: [58, 39, 23, 3, 60, 10]\n",
      "Jogo 8: [54, 39, 54, 9, 35, 14]\n",
      "       >>>>>>> BOA SORTE <<<<<<<        \n"
     ]
    }
   ],
   "source": [
    "# PROGRAMA MEU\n",
    "import time, random\n",
    "print('*' * 40)\n",
    "print('JOGA NA MEGA SENA'.center(40))\n",
    "print('*' * 40)\n",
    "time.sleep(0.5)\n",
    "\n",
    "game = int(input('Quantos jogos você quer que eu sorteie? '))\n",
    "print(f'-=-=-=-=-= SORTEANDO {game} JOGOS =-=-=-=-=-')\n",
    "\n",
    "list_f = []\n",
    "for i in range(1, game + 1):       # Esse 1° for é necessário para acionar o PRINT e o CLEAR em cada rodada\n",
    "    for n in range(1, 7):    # Esse FOR serve para auxiliar a introdução dos números na lista\n",
    "        num = random.randint(1, 61) # Aqui a variável recebe um número aleatório de 1 a 60\n",
    "        list_f.append(num)          # Joga o número sorteado para uma outra variável(essa é uma lista declarada na global)\n",
    "    print(f'Jogo {i}: {list_f}')\n",
    "    list_f.clear()                  # Aqui está o pulo do gato. Tem que apagar a lista depois de impressa. Senão ela vai agregando uma\n",
    "                                    # na outra, assim a lista fica enorme no ultimo PRINT.\n",
    "print('>>>>>>> BOA SORTE <<<<<<<'.center(40))"
   ]
  },
  {
   "cell_type": "markdown",
   "id": "baaf15dd",
   "metadata": {},
   "source": [
    "_____________"
   ]
  },
  {
   "cell_type": "code",
   "execution_count": 34,
   "id": "8a189dd7",
   "metadata": {},
   "outputs": [
    {
     "name": "stdout",
     "output_type": "stream",
     "text": [
      "------------------------------\n",
      "       JOGA NA MEGA SENA          \n",
      "------------------------------\n",
      "Quantos jogos você quer que eu sorteie? 8\n",
      "-=-=-=  SORTEANDO 8 JOGOS  -=-=-=\n",
      "Jogo 1: [34, 36, 44, 48, 50, 52]\n",
      "Jogo 2: [12, 16, 29, 37, 42, 57]\n",
      "Jogo 3: [4, 12, 17, 27, 41, 50]\n",
      "Jogo 4: [1, 11, 20, 44, 45, 58]\n",
      "Jogo 5: [10, 15, 40, 45, 46, 60]\n",
      "Jogo 6: [2, 8, 16, 31, 33, 59]\n",
      "Jogo 7: [7, 10, 31, 36, 48, 53]\n",
      "Jogo 8: [10, 11, 13, 45, 49, 60]\n",
      "-=-=-=-=-= < BOA SORTE! > -=-=-=-=-=\n"
     ]
    }
   ],
   "source": [
    "# PROGRAMA FEITO PELO GUSTAVO\n",
    "\n",
    "from random import randint\n",
    "from time import sleep\n",
    "lista = list()\n",
    "jogos = list()\n",
    "print('-' * 30)\n",
    "print('       JOGA NA MEGA SENA          ')\n",
    "print('-' * 30)\n",
    "quant = int(input('Quantos jogos você quer que eu sorteie? '))\n",
    "tot = 1                # Essa variável é usada somente para comparação no uso do WHILE.\n",
    "while tot <= quant:\n",
    "    cont = 0\n",
    "    while True:\n",
    "        num = randint(1, 60)\n",
    "        if num not in lista:      # Pelo fato do RANDINT não filtrar números iguais por essência, ele criou essa condicional.\n",
    "            lista.append(num)\n",
    "            cont += 1             #Contador para quebra do WHILE TRUE.\n",
    "        if cont >= 6:\n",
    "            break\n",
    "    lista.sort()                  # Organiza a lista\n",
    "    jogos.append(lista[:])        # Cria uma cópia da lista\n",
    "    lista.clear()                 # Zera a lista. Vale ressaltar que esse comando está dentro do While principal!\n",
    "    tot += 1\n",
    "print('-=' * 3, f' SORTEANDO {quant} JOGOS ', '-=' *3)\n",
    "for i, l in enumerate(jogos):\n",
    "    print(f'Jogo {i+1}: {l}')\n",
    "    sleep(1)\n",
    "print('-=' * 5, '< BOA SORTE! >', '-=' * 5)"
   ]
  },
  {
   "cell_type": "markdown",
   "id": "2df54cdb",
   "metadata": {},
   "source": [
    "### OBSERVAÇÕES:\n",
    "#### Nessas programações é possível perceber que é possível se chegar a mesma solução de formas bem diferentes. "
   ]
  }
 ],
 "metadata": {
  "kernelspec": {
   "display_name": "Python 3",
   "language": "python",
   "name": "python3"
  },
  "language_info": {
   "codemirror_mode": {
    "name": "ipython",
    "version": 3
   },
   "file_extension": ".py",
   "mimetype": "text/x-python",
   "name": "python",
   "nbconvert_exporter": "python",
   "pygments_lexer": "ipython3",
   "version": "3.8.8"
  }
 },
 "nbformat": 4,
 "nbformat_minor": 5
}
