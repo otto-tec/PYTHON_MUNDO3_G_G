{
 "cells": [
  {
   "cell_type": "markdown",
   "id": "d8cd316a",
   "metadata": {},
   "source": [
    "## DICIONARIOS\n",
    "\n",
    "Os dicionários tem uma caracteristica de ter atribuido uma chave e um valor respectivo. Nas listas o indice é procurado através de números, no dicionário pode-se buscar os indices por nome. Segue exemplo:"
   ]
  },
  {
   "cell_type": "code",
   "execution_count": 5,
   "id": "ca08fe03",
   "metadata": {},
   "outputs": [
    {
     "name": "stdout",
     "output_type": "stream",
     "text": [
      "Otto\n"
     ]
    }
   ],
   "source": [
    "teste = {}\n",
    "teste = {'nome': 'Otto'}\n",
    "print(teste['nome'])"
   ]
  },
  {
   "cell_type": "markdown",
   "id": "a7190500",
   "metadata": {},
   "source": [
    "#### OBSERVAÇÃO: \n",
    "O append NÃO FUNCIONA em dicionários"
   ]
  },
  {
   "cell_type": "code",
   "execution_count": 7,
   "id": "d13901c8",
   "metadata": {},
   "outputs": [
    {
     "name": "stdout",
     "output_type": "stream",
     "text": [
      "Otto\n",
      "33\n",
      "{'nome': 'Otto', 'idade': 33, 'sexo': 'M'}\n"
     ]
    }
   ],
   "source": [
    "# Podemos agregar novas chaves\n",
    "teste['idade'] = 33\n",
    "print(teste['nome'])\n",
    "print(teste['idade'])\n",
    "teste['sexo'] = 'M'\n",
    "print(teste)"
   ]
  },
  {
   "cell_type": "code",
   "execution_count": 8,
   "id": "769219c6",
   "metadata": {},
   "outputs": [
    {
     "name": "stdout",
     "output_type": "stream",
     "text": [
      "{'nome': 'Otto', 'idade': 33}\n"
     ]
    }
   ],
   "source": [
    "#Deletando uma chave\n",
    "\n",
    "del teste['sexo']\n",
    "print(teste)"
   ]
  },
  {
   "cell_type": "code",
   "execution_count": 12,
   "id": "af9f0fe4",
   "metadata": {},
   "outputs": [
    {
     "name": "stdout",
     "output_type": "stream",
     "text": [
      "dict_values(['Otto', 33])\n",
      "dict_keys(['nome', 'idade'])\n",
      "dict_items([('nome', 'Otto'), ('idade', 33)])\n"
     ]
    }
   ],
   "source": [
    "# para saber somente os valores, chaves ou itens\n",
    "print(teste.values())\n",
    "print(teste.keys())\n",
    "print(teste.items())"
   ]
  },
  {
   "cell_type": "code",
   "execution_count": 14,
   "id": "cd11927b",
   "metadata": {},
   "outputs": [
    {
     "name": "stdout",
     "output_type": "stream",
     "text": [
      "O nome é Otto\n",
      "O idade é 33\n"
     ]
    }
   ],
   "source": [
    "# USANDO laço\n",
    "for k, v in teste.items():\n",
    "    print(f'O {k} é {v}')"
   ]
  },
  {
   "cell_type": "code",
   "execution_count": 16,
   "id": "9b915052",
   "metadata": {},
   "outputs": [
    {
     "name": "stdout",
     "output_type": "stream",
     "text": [
      "1977\n",
      "Matrix\n"
     ]
    }
   ],
   "source": [
    "# Colocando dicionários dentro de uma lista\n",
    "\n",
    "filme1 = {'titulo':'Star Wars', 'ano':'1977', 'diretor':'George Lucas'}\n",
    "filme2 = {'titulo':'Avangers', 'ano':'2012', 'diretor':'Joss Whedon'}\n",
    "filme3 = {'titulo':'Matrix', 'ano':'1999', 'diretor':'Wachowski'}\n",
    "\n",
    "locadora = [filme1, filme2, filme3]\n",
    "\n",
    "print(locadora[0]['ano'])\n",
    "print(locadora[2]['titulo'])\n"
   ]
  },
  {
   "cell_type": "markdown",
   "id": "0145535b",
   "metadata": {},
   "source": [
    "#### IMPORTANTE\n",
    " Da mesma forma que para editar o posicionamento de uma string dentro do print é necessário aspas duplas, na chamada de chaves dentro do dicionário tambem. Exemplo:"
   ]
  },
  {
   "cell_type": "code",
   "execution_count": 17,
   "id": "c0205c24",
   "metadata": {},
   "outputs": [
    {
     "ename": "SyntaxError",
     "evalue": "invalid syntax (<ipython-input-17-a3897a9550ed>, line 3)",
     "output_type": "error",
     "traceback": [
      "\u001b[1;36m  File \u001b[1;32m\"<ipython-input-17-a3897a9550ed>\"\u001b[1;36m, line \u001b[1;32m3\u001b[0m\n\u001b[1;33m    print(f'O {pessoas['nome']} tem {pessoas['idade']} anos.')\u001b[0m\n\u001b[1;37m                        ^\u001b[0m\n\u001b[1;31mSyntaxError\u001b[0m\u001b[1;31m:\u001b[0m invalid syntax\n"
     ]
    }
   ],
   "source": [
    "#USANDO UMA ASPAS SIMPLES\n",
    "pessoas = {'nome':'Gustavo', 'sexo':'M', 'idade':'22'}\n",
    "print(f'O {pessoas['nome']} tem {pessoas['idade']} anos.')"
   ]
  },
  {
   "cell_type": "code",
   "execution_count": 18,
   "id": "98877922",
   "metadata": {},
   "outputs": [
    {
     "name": "stdout",
     "output_type": "stream",
     "text": [
      "O Gustavo tem 22 anos.\n"
     ]
    }
   ],
   "source": [
    "#USANDO ASPAS DUPLAS\n",
    "pessoas = {'nome':'Gustavo', 'sexo':'M', 'idade':'22'}\n",
    "print(f'O {pessoas[\"nome\"]} tem {pessoas[\"idade\"]} anos.')"
   ]
  },
  {
   "cell_type": "markdown",
   "id": "e97947b8",
   "metadata": {},
   "source": [
    "### OBSERVAÇÃO\n",
    "Nas tuplas e listas usamos o enumerate no laço for. Nos dicionários usamos o (items). Segue exemplo"
   ]
  },
  {
   "cell_type": "code",
   "execution_count": 19,
   "id": "05f7230a",
   "metadata": {},
   "outputs": [
    {
     "name": "stdout",
     "output_type": "stream",
     "text": [
      "nome = Gustavo\n",
      "sexo = M\n",
      "idade = 22\n"
     ]
    }
   ],
   "source": [
    "for k, v in pessoas.items():\n",
    "    print(f'{k} = {v}')"
   ]
  },
  {
   "cell_type": "code",
   "execution_count": 22,
   "id": "a5f64d42",
   "metadata": {},
   "outputs": [
    {
     "name": "stdout",
     "output_type": "stream",
     "text": [
      "Unidade Federativa: São Paulo\n",
      "Sigla do Estado: SP\n",
      "Unidade Federativa: Rio de Janeiro\n",
      "Sigla do Estado: RJ\n",
      "Unidade Federativa: Paraná\n",
      "Sigla do Estado: PR\n",
      "São Paulo SP \n",
      "---------------\n",
      "Rio de Janeiro RJ \n",
      "---------------\n",
      "Paraná PR \n",
      "---------------\n"
     ]
    }
   ],
   "source": [
    "#fazendo um exemplo prático\n",
    "estado = dict()\n",
    "brasil = list()\n",
    "for c in range(0, 3):\n",
    "    estado['uf'] = input('Unidade Federativa: ')\n",
    "    estado['sigla'] = input('Sigla do Estado: ')\n",
    "    brasil.append(estado.copy())\n",
    "for e in brasil:\n",
    "    for v in e.values():\n",
    "        print(v, end=' ')\n",
    "    print()\n",
    "    print('-' * 15)\n"
   ]
  },
  {
   "cell_type": "markdown",
   "id": "0ffac4fe",
   "metadata": {},
   "source": [
    "### OBSERVAÇÕES\n",
    "Pode-se perceber que alguns comandos em dicionários são diferentes de comandos usados em listas e tuplas.\n",
    " Um deles é a técnica de fatiamento. O dicionário NÃO aceita que seja usado o comando => nomedodicionario[:]. Pàra fazer o fatiamento usa-se o comando COPY().\n",
    " "
   ]
  },
  {
   "cell_type": "code",
   "execution_count": null,
   "id": "2a06dff3",
   "metadata": {},
   "outputs": [],
   "source": []
  }
 ],
 "metadata": {
  "kernelspec": {
   "display_name": "Python 3",
   "language": "python",
   "name": "python3"
  },
  "language_info": {
   "codemirror_mode": {
    "name": "ipython",
    "version": 3
   },
   "file_extension": ".py",
   "mimetype": "text/x-python",
   "name": "python",
   "nbconvert_exporter": "python",
   "pygments_lexer": "ipython3",
   "version": "3.8.8"
  }
 },
 "nbformat": 4,
 "nbformat_minor": 5
}
