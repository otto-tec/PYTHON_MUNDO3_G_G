{
 "cells": [
  {
   "cell_type": "markdown",
   "id": "37d3002c",
   "metadata": {},
   "source": [
    "## DESAFIO 078\n",
    "### Faça um programa que leia 5 valores numéricos e guarde-os em uma lista. No final, mostre qual foi o maior e o menor valor digitado e as suas respectivas posições na lista."
   ]
  },
  {
   "cell_type": "code",
   "execution_count": 21,
   "id": "0ca83257",
   "metadata": {},
   "outputs": [
    {
     "name": "stdout",
     "output_type": "stream",
     "text": [
      "Digite um valor para a posição 0: 1\n",
      "Digite um valor para a posição 1: 1\n",
      "Digite um valor para a posição 2: 4\n",
      "Digite um valor para a posição 3: 5\n",
      "Digite um valor para a posição 4: 5\n",
      "=-==-==-==-==-==-==-==-==-==-==-==-==-==-==-==-==-==-==-==-==-==-==-==-==-=\n",
      "Você digitou os valores [1.0, 1.0, 4.0, 5.0, 5.0]\n",
      "O maior valor digitado foi 5.0 nas posições 3\n",
      "O menor valor digitado foi 1.0 nas posições 0\n"
     ]
    }
   ],
   "source": [
    "# PROGRAMAÇÃO QUE EU FIZ (NÃO CONSEGUI COLOCAR O RASTREIO DOS NÚMEROS em CASO DE MAIS DE UM )\n",
    "\n",
    "n1 = float(input('Digite um valor para a posição 0: '))\n",
    "n2 = float(input('Digite um valor para a posição 1: '))\n",
    "n3 = float(input('Digite um valor para a posição 2: '))\n",
    "n4 = float(input('Digite um valor para a posição 3: '))\n",
    "n5 = float(input('Digite um valor para a posição 4: '))\n",
    "print('=-=' * 25)\n",
    "lista = [n1, n2, n3, n4, n5]\n",
    "\n",
    "\n",
    "print(f'Você digitou os valores {lista}')\n",
    "print(f'O maior valor digitado foi {max(lista)} nas posições {lista.index(max(lista))}')\n",
    "print(f'O menor valor digitado foi {min(lista)} nas posições {lista.index(min(lista))}')"
   ]
  },
  {
   "cell_type": "markdown",
   "id": "5be84817",
   "metadata": {},
   "source": [
    "# ===================================================="
   ]
  },
  {
   "cell_type": "code",
   "execution_count": 22,
   "id": "a290624a",
   "metadata": {},
   "outputs": [
    {
     "name": "stdout",
     "output_type": "stream",
     "text": [
      "Digite um valor para a Posição 0: 1\n",
      "Digite um valor para a Posição 1: 1\n",
      "Digite um valor para a Posição 2: 4\n",
      "Digite um valor para a Posição 3: 5\n",
      "Digite um valor para a Posição 4: 5\n",
      "=-=-=-=-=-=-=-=-=-=-=-=-=-=-=-=-=-=-=-=-=-=-=-=-=-=-=-=-=-=-\n",
      "Vocè digitou os valores [1, 1, 4, 5, 5]\n",
      "O maior valor digitado foi 5 nas posições 3... 4... \n",
      "O menor valor digitado foi 1 nas posições 0... 1... "
     ]
    }
   ],
   "source": [
    "# PROGRAMAÇÃO FEITA PELO GUSTAVO\n",
    "\n",
    "listanum = []\n",
    "mai = 0\n",
    "men = 0\n",
    "for c in range(0, 5):\n",
    "    listanum.append(int(input(f'Digite um valor para a Posição {c}: ')))\n",
    "    if c == 0:\n",
    "        mai = men = listanum[c]\n",
    "    else:\n",
    "        if listanum[c] > mai:\n",
    "            mai = listanum[c]\n",
    "        if listanum[c] < men:\n",
    "            men = listanum[c]\n",
    "print('=-' * 30)\n",
    "\n",
    "print(f'Vocè digitou os valores {listanum}')\n",
    "\n",
    "print(f'O maior valor digitado foi {mai} nas posições ', end='')\n",
    "\n",
    "for i, v in enumerate(listanum):\n",
    "    if v == mai:\n",
    "        print(f'{i}... ', end='')\n",
    "\n",
    "print(f'\\nO menor valor digitado foi {men} nas posições ', end='')\n",
    "    \n",
    "for i, v in enumerate(listanum):\n",
    "    if v == men:\n",
    "        print(f'{i}... ', end='')"
   ]
  },
  {
   "cell_type": "markdown",
   "id": "f7f6ba99",
   "metadata": {},
   "source": [
    "### NA PROGRAMAÇÃO FEITA PELO GUSTAVO FOI UTILIZADO UM FOR COM O ENUMERATE.  \n",
    "### Agora irei mesclar a minha programação com a do Gustavo e verificar se gera problemas."
   ]
  },
  {
   "cell_type": "code",
   "execution_count": 28,
   "id": "1af39e30",
   "metadata": {},
   "outputs": [
    {
     "name": "stdout",
     "output_type": "stream",
     "text": [
      "Digite um valor para a posição 0: 1\n",
      "Digite um valor para a posição 1: 1\n",
      "Digite um valor para a posição 2: 4\n",
      "Digite um valor para a posição 3: 5\n",
      "Digite um valor para a posição 4: 5\n",
      "=-==-==-==-==-==-==-==-==-==-==-==-==-==-==-==-==-==-==-==-==-==-==-==-==-=\n",
      "Você digitou os valores [1.0, 1.0, 4.0, 5.0, 5.0]\n",
      "O maior valor digitado foi 5.0 nas posições 3... 4... \n",
      "O menor valor digitado foi 1.0 nas posições 0... 1... "
     ]
    }
   ],
   "source": [
    "\n",
    "n1 = float(input('Digite um valor para a posição 0: '))\n",
    "n2 = float(input('Digite um valor para a posição 1: '))\n",
    "n3 = float(input('Digite um valor para a posição 2: '))\n",
    "n4 = float(input('Digite um valor para a posição 3: '))\n",
    "n5 = float(input('Digite um valor para a posição 4: '))\n",
    "print('=-=' * 25)\n",
    "lista = [n1, n2, n3, n4, n5]\n",
    "maximo = max(lista)\n",
    "minimo = min(lista)\n",
    "\n",
    "\n",
    "print(f'Você digitou os valores {lista}')\n",
    "print(f'O maior valor digitado foi {max(lista)} nas posições ', end='')\n",
    "for i, v in enumerate(lista):\n",
    "    if v == maximo:\n",
    "        print(f'{i}... ', end='')\n",
    "print(f'\\nO menor valor digitado foi {min(lista)} nas posições ', end='')\n",
    "for i, v in enumerate(lista):\n",
    "    if v == minimo:\n",
    "        print(f'{i}... ', end='')\n",
    "\n"
   ]
  },
  {
   "cell_type": "markdown",
   "id": "ce60d1e8",
   "metadata": {},
   "source": [
    "## OBSERVAÇÕES:\n",
    "\n",
    "### 1:\n",
    "\n",
    "#### Existe a primeiro diferença que está em usar um FOR para criar a automação dos outputs. Isso facilita muito o processo.\n",
    "\n",
    "### 2: \n",
    "\n",
    "#### Na programação do Gustavo foi utilizado outro FOR para mostrar a todos os posicionamentos possíveis . Usou-se o enumerate, ele trabalha analisando chave e valor. O interessante que não há chave e valor, afinal de contar NÃO  é um dicionário. Neste caso ele usa a chave como o indice da lista, portanto é possível realizar essa manobra para ver todos os indices.\n",
    "\n",
    "### 3:  \n",
    "\n",
    "#### O enumerate NÃO aceita que você coloque dentro de suas aspas um max ou min de uma lista ( Caso você queira chamar  dentro da função)"
   ]
  },
  {
   "cell_type": "code",
   "execution_count": null,
   "id": "46be45a7",
   "metadata": {},
   "outputs": [],
   "source": []
  }
 ],
 "metadata": {
  "kernelspec": {
   "display_name": "Python 3",
   "language": "python",
   "name": "python3"
  },
  "language_info": {
   "codemirror_mode": {
    "name": "ipython",
    "version": 3
   },
   "file_extension": ".py",
   "mimetype": "text/x-python",
   "name": "python",
   "nbconvert_exporter": "python",
   "pygments_lexer": "ipython3",
   "version": "3.8.8"
  }
 },
 "nbformat": 4,
 "nbformat_minor": 5
}
