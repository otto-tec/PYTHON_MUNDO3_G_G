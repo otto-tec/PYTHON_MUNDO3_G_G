{
 "cells": [
  {
   "cell_type": "markdown",
   "id": "873f7b96",
   "metadata": {},
   "source": [
    "#### CONTINUAÇÃO DA PRIMEIRA PARTE"
   ]
  },
  {
   "cell_type": "code",
   "execution_count": 4,
   "id": "a805323b",
   "metadata": {},
   "outputs": [
    {
     "name": "stdout",
     "output_type": "stream",
     "text": [
      "2 1 7 Fim\n",
      "8 0 Fim\n",
      "4 4 7 6 2 Fim\n"
     ]
    }
   ],
   "source": [
    "def contador(*num):\n",
    "    for valor in num:\n",
    "        print(f'{valor} ', end='')\n",
    "    print('Fim')\n",
    "\n",
    "    \n",
    "contador(2, 1, 7)\n",
    "contador(8, 0)\n",
    "contador(4, 4, 7, 6, 2)"
   ]
  },
  {
   "cell_type": "code",
   "execution_count": 6,
   "id": "11510f1f",
   "metadata": {},
   "outputs": [
    {
     "name": "stdout",
     "output_type": "stream",
     "text": [
      "Recebi os valores (2, 1, 7) e são ao todo 3 números\n",
      "Recebi os valores (8, 0) e são ao todo 2 números\n",
      "Recebi os valores (4, 4, 7, 6, 2) e são ao todo 5 números\n"
     ]
    }
   ],
   "source": [
    "def contador(*num):\n",
    "    tam = len(num)\n",
    "    print(f'Recebi os valores {num} e são ao todo {tam} números')\n",
    "\n",
    "    \n",
    "contador(2, 1, 7)\n",
    "contador(8, 0)\n",
    "contador(4, 4, 7, 6, 2)"
   ]
  },
  {
   "cell_type": "markdown",
   "id": "2a98c8b4",
   "metadata": {},
   "source": [
    "#### OS EXEMPLOS ACIMA SÃO COM TUPLAS\n",
    "#### ABAIXO SEGUE EXEMPLOS COM LISTAS"
   ]
  },
  {
   "cell_type": "code",
   "execution_count": 9,
   "id": "d84086f8",
   "metadata": {},
   "outputs": [
    {
     "name": "stdout",
     "output_type": "stream",
     "text": [
      "[12, 6, 18, 2, 0, 4]\n"
     ]
    }
   ],
   "source": [
    "def dobra(lst):\n",
    "    pos = 0\n",
    "    while pos < len(lst):\n",
    "        lst[pos] *= 2\n",
    "        pos += 1\n",
    "\n",
    "valores = [6, 3, 9, 1, 0, 2]\n",
    "dobra(valores)\n",
    "print(valores)"
   ]
  },
  {
   "cell_type": "markdown",
   "id": "c040aaf0",
   "metadata": {},
   "source": [
    "#### Abaixo outro exemplo de empacotamento"
   ]
  },
  {
   "cell_type": "code",
   "execution_count": 12,
   "id": "d6c7918f",
   "metadata": {},
   "outputs": [
    {
     "name": "stdout",
     "output_type": "stream",
     "text": [
      "Somando os valores (5, 2) temos 7\n",
      "Somando os valores (2, 9, 4) temos 15\n"
     ]
    }
   ],
   "source": [
    "def soma(* val):\n",
    "    s = 0\n",
    "    for num in val:\n",
    "        s += num\n",
    "    print(f'Somando os valores {val} temos {s}')\n",
    "\n",
    "          \n",
    "soma(5, 2)\n",
    "soma(2, 9, 4)"
   ]
  },
  {
   "cell_type": "code",
   "execution_count": null,
   "id": "18424b27",
   "metadata": {},
   "outputs": [],
   "source": []
  }
 ],
 "metadata": {
  "kernelspec": {
   "display_name": "Python 3",
   "language": "python",
   "name": "python3"
  },
  "language_info": {
   "codemirror_mode": {
    "name": "ipython",
    "version": 3
   },
   "file_extension": ".py",
   "mimetype": "text/x-python",
   "name": "python",
   "nbconvert_exporter": "python",
   "pygments_lexer": "ipython3",
   "version": "3.8.8"
  }
 },
 "nbformat": 4,
 "nbformat_minor": 5
}
