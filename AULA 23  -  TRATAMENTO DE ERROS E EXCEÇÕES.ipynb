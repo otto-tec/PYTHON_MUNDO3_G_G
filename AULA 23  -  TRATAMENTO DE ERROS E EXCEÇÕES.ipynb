{
 "cells": [
  {
   "cell_type": "markdown",
   "id": "3b6a910a",
   "metadata": {},
   "source": [
    "### VAMOS AOS EXEMPLOS"
   ]
  },
  {
   "cell_type": "code",
   "execution_count": 1,
   "id": "9693c704",
   "metadata": {},
   "outputs": [
    {
     "ename": "NameError",
     "evalue": "name 'x' is not defined",
     "output_type": "error",
     "traceback": [
      "\u001b[1;31m---------------------------------------------------------------------------\u001b[0m",
      "\u001b[1;31mNameError\u001b[0m                                 Traceback (most recent call last)",
      "\u001b[1;32m<ipython-input-1-fc17d851ef81>\u001b[0m in \u001b[0;36m<module>\u001b[1;34m\u001b[0m\n\u001b[1;32m----> 1\u001b[1;33m \u001b[0mprint\u001b[0m\u001b[1;33m(\u001b[0m\u001b[0mx\u001b[0m\u001b[1;33m)\u001b[0m\u001b[1;33m\u001b[0m\u001b[1;33m\u001b[0m\u001b[0m\n\u001b[0m",
      "\u001b[1;31mNameError\u001b[0m: name 'x' is not defined"
     ]
    }
   ],
   "source": [
    "print(x)"
   ]
  },
  {
   "cell_type": "markdown",
   "id": "8d615627",
   "metadata": {},
   "source": [
    "#### O caso acima é chamado de exceção.  O x não está definido."
   ]
  },
  {
   "cell_type": "markdown",
   "id": "b3c48e59",
   "metadata": {},
   "source": [
    "____________"
   ]
  },
  {
   "cell_type": "code",
   "execution_count": 2,
   "id": "1bd657c2",
   "metadata": {},
   "outputs": [
    {
     "name": "stdout",
     "output_type": "stream",
     "text": [
      "Numero: 7\n",
      "Você digitou o número 7\n"
     ]
    }
   ],
   "source": [
    "n = int(input('Numero: '))\n",
    "print(f'Você digitou o número {n}')"
   ]
  },
  {
   "cell_type": "code",
   "execution_count": 3,
   "id": "1bb7a89c",
   "metadata": {},
   "outputs": [
    {
     "name": "stdout",
     "output_type": "stream",
     "text": [
      "Numero: oito\n"
     ]
    },
    {
     "ename": "ValueError",
     "evalue": "invalid literal for int() with base 10: 'oito'",
     "output_type": "error",
     "traceback": [
      "\u001b[1;31m---------------------------------------------------------------------------\u001b[0m",
      "\u001b[1;31mValueError\u001b[0m                                Traceback (most recent call last)",
      "\u001b[1;32m<ipython-input-3-5d76d758e981>\u001b[0m in \u001b[0;36m<module>\u001b[1;34m\u001b[0m\n\u001b[1;32m----> 1\u001b[1;33m \u001b[0mn\u001b[0m \u001b[1;33m=\u001b[0m \u001b[0mint\u001b[0m\u001b[1;33m(\u001b[0m\u001b[0minput\u001b[0m\u001b[1;33m(\u001b[0m\u001b[1;34m'Numero: '\u001b[0m\u001b[1;33m)\u001b[0m\u001b[1;33m)\u001b[0m\u001b[1;33m\u001b[0m\u001b[1;33m\u001b[0m\u001b[0m\n\u001b[0m\u001b[0;32m      2\u001b[0m \u001b[0mprint\u001b[0m\u001b[1;33m(\u001b[0m\u001b[1;34mf'Você digitou o número {n}'\u001b[0m\u001b[1;33m)\u001b[0m\u001b[1;33m\u001b[0m\u001b[1;33m\u001b[0m\u001b[0m\n",
      "\u001b[1;31mValueError\u001b[0m: invalid literal for int() with base 10: 'oito'"
     ]
    }
   ],
   "source": [
    "n = int(input('Numero: '))\n",
    "print(f'Você digitou o número {n}')"
   ]
  },
  {
   "cell_type": "markdown",
   "id": "4fbae15e",
   "metadata": {},
   "source": [
    "#### Erro de valor: ValueError"
   ]
  },
  {
   "cell_type": "markdown",
   "id": "b364e2e3",
   "metadata": {},
   "source": [
    "_______"
   ]
  },
  {
   "cell_type": "code",
   "execution_count": 4,
   "id": "2e6cd22a",
   "metadata": {},
   "outputs": [
    {
     "name": "stdout",
     "output_type": "stream",
     "text": [
      "Numerador: 8\n",
      "Denominador: 0\n"
     ]
    },
    {
     "ename": "ZeroDivisionError",
     "evalue": "division by zero",
     "output_type": "error",
     "traceback": [
      "\u001b[1;31m---------------------------------------------------------------------------\u001b[0m",
      "\u001b[1;31mZeroDivisionError\u001b[0m                         Traceback (most recent call last)",
      "\u001b[1;32m<ipython-input-4-91f6a2dc8f29>\u001b[0m in \u001b[0;36m<module>\u001b[1;34m\u001b[0m\n\u001b[0;32m      1\u001b[0m \u001b[0ma\u001b[0m \u001b[1;33m=\u001b[0m \u001b[0mint\u001b[0m\u001b[1;33m(\u001b[0m\u001b[0minput\u001b[0m\u001b[1;33m(\u001b[0m\u001b[1;34m'Numerador: '\u001b[0m\u001b[1;33m)\u001b[0m\u001b[1;33m)\u001b[0m\u001b[1;33m\u001b[0m\u001b[1;33m\u001b[0m\u001b[0m\n\u001b[0;32m      2\u001b[0m \u001b[0mb\u001b[0m \u001b[1;33m=\u001b[0m \u001b[0mint\u001b[0m\u001b[1;33m(\u001b[0m\u001b[0minput\u001b[0m\u001b[1;33m(\u001b[0m\u001b[1;34m'Denominador: '\u001b[0m\u001b[1;33m)\u001b[0m\u001b[1;33m)\u001b[0m\u001b[1;33m\u001b[0m\u001b[1;33m\u001b[0m\u001b[0m\n\u001b[1;32m----> 3\u001b[1;33m \u001b[0mr\u001b[0m \u001b[1;33m=\u001b[0m \u001b[0ma\u001b[0m \u001b[1;33m/\u001b[0m \u001b[0mb\u001b[0m\u001b[1;33m\u001b[0m\u001b[1;33m\u001b[0m\u001b[0m\n\u001b[0m\u001b[0;32m      4\u001b[0m \u001b[0mprint\u001b[0m\u001b[1;33m(\u001b[0m\u001b[1;34mf'O resultado é {r}'\u001b[0m\u001b[1;33m)\u001b[0m\u001b[1;33m\u001b[0m\u001b[1;33m\u001b[0m\u001b[0m\n",
      "\u001b[1;31mZeroDivisionError\u001b[0m: division by zero"
     ]
    }
   ],
   "source": [
    "a = int(input('Numerador: '))\n",
    "b = int(input('Denominador: '))\n",
    "r = a / b\n",
    "print(f'O resultado é {r}')\n"
   ]
  },
  {
   "cell_type": "markdown",
   "id": "b569e777",
   "metadata": {},
   "source": [
    "#### Neste caso mostra que não pode ser divido por 0. Isso é uma exceção"
   ]
  },
  {
   "cell_type": "markdown",
   "id": "bd701668",
   "metadata": {},
   "source": [
    "___"
   ]
  },
  {
   "cell_type": "code",
   "execution_count": 7,
   "id": "cb20d43c",
   "metadata": {},
   "outputs": [
    {
     "name": "stdout",
     "output_type": "stream",
     "text": [
      "Numerador: 5\n",
      "Denominador: 0\n",
      "Infelizmente tivemos um problema... :(\n",
      "Volte sempre!\n"
     ]
    }
   ],
   "source": [
    "# UTILIZANDO O TRY E O EXCEPT\n",
    "try:        #Aqui tenta-se fazer a operação\n",
    "    a = int(input('Numerador: '))\n",
    "    b = int(input('Denominador: '))\n",
    "    r = a / b\n",
    "except:     #Aqui em vez de aparecer os erros, aparece o que voce escolhe\n",
    "    print('Infelizmente tivemos um problema... :(')\n",
    "else:      # Esse é o caso quando o try da certo\n",
    "    print(f'O resultado é {r}')\n",
    "finally:    #Sempre irá aparecer no final\n",
    "    print('Volte sempre!')"
   ]
  },
  {
   "cell_type": "markdown",
   "id": "f5a342c0",
   "metadata": {},
   "source": [
    "_________"
   ]
  },
  {
   "cell_type": "code",
   "execution_count": 5,
   "id": "6826e4eb",
   "metadata": {},
   "outputs": [
    {
     "name": "stdout",
     "output_type": "stream",
     "text": [
      "Numerador: 200\n",
      "Denominador: \n",
      "Tivemos um problema com os tipos de dados que você digitou.\n",
      "Volte sempre! Muito obrigado!\n"
     ]
    }
   ],
   "source": [
    "# Um programa com excessões mais completo\n",
    "\n",
    "try:\n",
    "    a = int(input('Numerador: '))\n",
    "    b = int(input('Denominador: '))\n",
    "    r = a / b\n",
    "except (ValueError, TypeError):\n",
    "    print('Tivemos um problema com os tipos de dados que você digitou.')\n",
    "except ZeroDivisionError:\n",
    "    print('Não é possível dividir um número por zero!')\n",
    "except KeyboardInterrupt:\n",
    "    print('O usuário preferiu não informar os dados!')\n",
    "except Exception as erro:\n",
    "    print(f'O erro encontrado foi {erro.__cause__}')\n",
    "else:\n",
    "    print(f'O resultado é {r:.1f}')\n",
    "finally:\n",
    "    print('Volte sempre! Muito obrigado!')"
   ]
  }
 ],
 "metadata": {
  "kernelspec": {
   "display_name": "Python 3",
   "language": "python",
   "name": "python3"
  },
  "language_info": {
   "codemirror_mode": {
    "name": "ipython",
    "version": 3
   },
   "file_extension": ".py",
   "mimetype": "text/x-python",
   "name": "python",
   "nbconvert_exporter": "python",
   "pygments_lexer": "ipython3",
   "version": "3.8.8"
  }
 },
 "nbformat": 4,
 "nbformat_minor": 5
}
