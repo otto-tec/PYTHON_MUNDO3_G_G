{
 "cells": [
  {
   "cell_type": "markdown",
   "id": "b5ea6fc5",
   "metadata": {},
   "source": [
    "## MODULO MOEDA"
   ]
  },
  {
   "cell_type": "code",
   "execution_count": 48,
   "id": "6f7cf836",
   "metadata": {},
   "outputs": [],
   "source": [
    "def aumentar(preco, taxa, form = False):\n",
    "    res = preco + (preco * taxa / 100)\n",
    "    return res if form is False else moeda(res)\n",
    "\n",
    "def diminuir(preco, taxa, form = False):\n",
    "    res = preco - (preco * taxa / 100)\n",
    "    return res if form is False else moeda(res)\n",
    "\n",
    "def dobro(preco, form = False):\n",
    "    res = preco * 2\n",
    "    return res if form is False else moeda(res)\n",
    "\n",
    "def metade(preco, form = False):\n",
    "    res = preco / 2\n",
    "    return res if form is False else moeda(res)\n",
    "\n",
    "def moeda(preco=0, moeda='R$'):\n",
    "    return f'{moeda}{preco:>.2f}'.replace('.',',')\n",
    "\n",
    "def resumo(preco, aum=10, red=5):\n",
    "     print('='* 40)\n",
    "     print('RESUMO DO VALOR'.center(40))\n",
    "     print('='* 40)\n",
    "     print(f'Preço analisado:\\t{moeda(preco)}')\n",
    "     print(f'Dobro do preço:\\t\\t{dobro(preco, True)}')\n",
    "     print(f'Metade do preço:\\t{metade(preco, True)}')\n",
    "     print(f'{aum}% de aumento:\\t\\t{aumentar(preco, aum, True)}')\n",
    "     print(f'{red}% de redução:\\t\\t{diminuir(preco, red, True)}')\n",
    "     print('=' * 40)"
   ]
  },
  {
   "cell_type": "code",
   "execution_count": null,
   "id": "9d0d3fa9",
   "metadata": {},
   "outputs": [],
   "source": []
  },
  {
   "cell_type": "code",
   "execution_count": null,
   "id": "b6271fc5",
   "metadata": {},
   "outputs": [],
   "source": []
  },
  {
   "cell_type": "code",
   "execution_count": null,
   "id": "332a84fd",
   "metadata": {},
   "outputs": [],
   "source": []
  },
  {
   "cell_type": "code",
   "execution_count": null,
   "id": "81c1e919",
   "metadata": {},
   "outputs": [],
   "source": []
  }
 ],
 "metadata": {
  "kernelspec": {
   "display_name": "Python 3",
   "language": "python",
   "name": "python3"
  },
  "language_info": {
   "codemirror_mode": {
    "name": "ipython",
    "version": 3
   },
   "file_extension": ".py",
   "mimetype": "text/x-python",
   "name": "python",
   "nbconvert_exporter": "python",
   "pygments_lexer": "ipython3",
   "version": "3.8.8"
  }
 },
 "nbformat": 4,
 "nbformat_minor": 5
}
