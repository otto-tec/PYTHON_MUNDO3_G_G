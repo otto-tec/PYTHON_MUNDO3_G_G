{
 "cells": [
  {
   "cell_type": "code",
   "execution_count": 20,
   "id": "06b63895",
   "metadata": {},
   "outputs": [
    {
     "name": "stdout",
     "output_type": "stream",
     "text": [
      "Os valores sorteados foram: [1, 0, 6, 8, 5]\n",
      "O maior valor é: 8\n",
      "O menor valor é: 0\n"
     ]
    }
   ],
   "source": [
    "# Programação que eu fiz\n",
    "from random import shuffle\n",
    "n1 = randint(0, 11)\n",
    "n2 = randint(0, 11)\n",
    "n3 = randint(0, 11)\n",
    "n4 = randint(0, 11)\n",
    "n5 = randint(0, 11)\n",
    "lista = [n1, n2, n3, n4, n5]\n",
    "shuffle(lista)\n",
    "print(f'Os valores sorteados foram: {lista}')\n",
    "print(f'O maior valor é: {max(lista)}')\n",
    "print(f'O menor valor é: {min(lista)}')"
   ]
  },
  {
   "cell_type": "code",
   "execution_count": 31,
   "id": "32557403",
   "metadata": {},
   "outputs": [
    {
     "name": "stdout",
     "output_type": "stream",
     "text": [
      "Os valores sorteados foram: (9, 1, 3, 3, 6)9 1 3 3 6 \n",
      "O maior valor sorteado foi 9\n",
      "O menor valor sorteado foi 1\n"
     ]
    }
   ],
   "source": [
    "#PROGRAMAÇÃO FEITA PELO GUSTAVO\n",
    "from random import randint\n",
    "numeros = (randint(1, 10), randint(1, 10), randint(1, 10), randint(1, 10), randint(1, 10))\n",
    "#Acima ele criou uma tupla com numeros randomicos.\n",
    "print(f'Os valores sorteados foram: {numeros}', end='')\n",
    "# Colocou o end para que os valores saiam um na frente do outro\n",
    "for n in numeros:      # Esse FOR é somente para tirar as aspas, veja abaixo no output.\n",
    "    print(f'{n} ', end='')\n",
    "print(f'\\nO maior valor sorteado foi {max(numeros)}')\n",
    "print(f'O menor valor sorteado foi {min(numeros)}')"
   ]
  },
  {
   "cell_type": "code",
   "execution_count": null,
   "id": "96905950",
   "metadata": {},
   "outputs": [],
   "source": []
  }
 ],
 "metadata": {
  "kernelspec": {
   "display_name": "Python 3",
   "language": "python",
   "name": "python3"
  },
  "language_info": {
   "codemirror_mode": {
    "name": "ipython",
    "version": 3
   },
   "file_extension": ".py",
   "mimetype": "text/x-python",
   "name": "python",
   "nbconvert_exporter": "python",
   "pygments_lexer": "ipython3",
   "version": "3.8.8"
  }
 },
 "nbformat": 4,
 "nbformat_minor": 5
}
