{
 "cells": [
  {
   "cell_type": "markdown",
   "id": "3ae7a718",
   "metadata": {},
   "source": [
    "## DESAFIO 096\n",
    "### Faça um programa qu tenha uma função chamada área(), que receba as dimensões de um terreno retangular(largura e comprimento) e mostre a área do terreno."
   ]
  },
  {
   "cell_type": "code",
   "execution_count": 12,
   "id": "cb44a5d4",
   "metadata": {},
   "outputs": [
    {
     "name": "stdout",
     "output_type": "stream",
     "text": [
      "****************************************\n",
      "        FUNÇÃO QUE CALCULA ÁREA         \n",
      "****************************************\n",
      "Insira a largura (m): 32.8\n",
      "Insira o comprimento (m): 27.4\n",
      "============================================================\n",
      "O terreno com 32.8m de largura por 27.4m de comprimento tem:\n",
      "                  >>> 898.72m² de área <<<                  \n"
     ]
    }
   ],
   "source": [
    "# PROGRAMA QUE EU FIZ\n",
    "from time import sleep\n",
    "print('*' * 40)\n",
    "print('FUNÇÃO QUE CALCULA ÁREA'.center(40))\n",
    "print('*' * 40)\n",
    "sleep(0.5)\n",
    "def area(a, b):\n",
    "    c = a * b\n",
    "    return c\n",
    "larg = float(input('Insira a largura (m): '))\n",
    "comp = float(input('Insira o comprimento (m): '))\n",
    "print('=' * 60)\n",
    "print(f'O terreno com {larg}m de largura por {comp}m de comprimento tem:')\n",
    "print(f'>>> {area(larg, comp):.2f}m² de área <<<'.center(60))"
   ]
  },
  {
   "cell_type": "markdown",
   "id": "4f61e073",
   "metadata": {},
   "source": [
    "_________"
   ]
  },
  {
   "cell_type": "code",
   "execution_count": 14,
   "id": "29587335",
   "metadata": {},
   "outputs": [
    {
     "name": "stdout",
     "output_type": "stream",
     "text": [
      " Controle de Terrenos\n",
      "--------------------\n",
      "LARGURA (m): 32.8\n",
      "COMPRIMENTO (m): 27.4\n",
      "A área de um terreno 32.8x27.4 é de 898.7199999999999m².\n"
     ]
    }
   ],
   "source": [
    "# PROGRAMA FEITO PELO GUSTAVO\n",
    "def área(larg, comp):\n",
    "    a = larg * comp\n",
    "    print(f'A área de um terreno {larg}x{comp} é de {a}m².')\n",
    "\n",
    "# Programa principal\n",
    "print(' Controle de Terrenos')\n",
    "print('-' * 20)\n",
    "l = float(input('LARGURA (m): '))\n",
    "c = float(input('COMPRIMENTO (m): '))\n",
    "área(l, c)"
   ]
  },
  {
   "cell_type": "markdown",
   "id": "8ed932e3",
   "metadata": {},
   "source": [
    "#### OBSERVAÇÃO: O meu programa ficou melhor.  ; ) "
   ]
  }
 ],
 "metadata": {
  "kernelspec": {
   "display_name": "Python 3",
   "language": "python",
   "name": "python3"
  },
  "language_info": {
   "codemirror_mode": {
    "name": "ipython",
    "version": 3
   },
   "file_extension": ".py",
   "mimetype": "text/x-python",
   "name": "python",
   "nbconvert_exporter": "python",
   "pygments_lexer": "ipython3",
   "version": "3.8.8"
  }
 },
 "nbformat": 4,
 "nbformat_minor": 5
}
