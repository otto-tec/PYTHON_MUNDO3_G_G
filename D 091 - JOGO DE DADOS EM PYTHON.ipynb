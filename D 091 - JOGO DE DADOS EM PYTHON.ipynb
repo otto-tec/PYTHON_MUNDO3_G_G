{
 "cells": [
  {
   "cell_type": "markdown",
   "id": "2b0d734d",
   "metadata": {},
   "source": [
    "## DESAFIO 091\n",
    "### Crie um programa onde 4 jogadores joguem um dado e tenham resultados aleatórios. Guarde esses resultados em um dicionário. No final, coloque esse dicionário em ordem, sabendo que o vencedor tirou o maior número no dado."
   ]
  },
  {
   "cell_type": "code",
   "execution_count": 48,
   "id": "c19bc0bc",
   "metadata": {
    "scrolled": true
   },
   "outputs": [
    {
     "name": "stdout",
     "output_type": "stream",
     "text": [
      "**************************************************\n",
      "             JOGO DE DADOS NO PYTHON              \n",
      "**************************************************\n",
      "Sorteando valores\n",
      "processando...\n",
      "O jogador 1 tirou 1 no dado.\n",
      "O jogador 2 tirou 6 no dado.\n",
      "O jogador 3 tirou 1 no dado.\n",
      "O jogador 4 tirou 1 no dado.\n",
      "==================================================\n",
      "              RANKING DOS JOGADORES               \n",
      "==================================================\n",
      "        1° lugar: jogador 2 com o valor 6         \n",
      "        2° lugar: jogador 1 com o valor 1         \n",
      "        3° lugar: jogador 3 com o valor 1         \n",
      "        4° lugar: jogador 4 com o valor 1         \n",
      "==================================================\n",
      "             >>>> FIM DO SORTEIO <<<<             \n"
     ]
    }
   ],
   "source": [
    "# PROGRAMA QUE EU FIZ FICOU COMPLETO - TIVE QUE VERIFICAR NA INTERNET, USADO METODO LAMBDA\n",
    "from time import sleep\n",
    "import random, operator\n",
    "print('*' * 50)\n",
    "print('JOGO DE DADOS NO PYTHON'.center(50))\n",
    "print('*' * 50)\n",
    "sleep(0.5)\n",
    "\n",
    "gamers = {}\n",
    "gamers['jogador 1'] = random.randint(1, 6)\n",
    "gamers['jogador 2'] = random.randint(1, 6)\n",
    "gamers['jogador 3'] = random.randint(1, 6)\n",
    "gamers['jogador 4'] = random.randint(1, 6)\n",
    "print('Sorteando valores')\n",
    "print('processando...')\n",
    "sleep(1)\n",
    "print(f'O jogador 1 tirou {gamers[\"jogador 1\"]} no dado.')\n",
    "sleep(0.5)\n",
    "print(f'O jogador 2 tirou {gamers[\"jogador 2\"]} no dado.')\n",
    "sleep(0.5)\n",
    "print(f'O jogador 3 tirou {gamers[\"jogador 3\"]} no dado.')\n",
    "sleep(0.5)\n",
    "print(f'O jogador 4 tirou {gamers[\"jogador 4\"]} no dado.')\n",
    "print('=' * 50)\n",
    "print('RANKING DOS JOGADORES'.center(50))\n",
    "print('=' * 50)\n",
    "\n",
    "\n",
    "gamers2 = sorted(gamers.items(), key=lambda x: x[1], reverse=True) #<<<< METODO LAMBDA\n",
    "\n",
    "for i, v in enumerate(gamers2):\n",
    "    print(f'{i + 1}° lugar: {v[0]} com o valor {v[1]}'.center(50))\n",
    "print('=' * 50)\n",
    "print(f'>>>> FIM DO SORTEIO <<<<'.center(50))"
   ]
  },
  {
   "cell_type": "markdown",
   "id": "452090ae",
   "metadata": {},
   "source": [
    "## OBSERVAÇÕES:\n",
    "  - gamers.items() devolve uma lista de pares de valores chave do dicionário e o tipo de dados do seu elemento é tuple. O x é o elemento deste tuple, onde x[0] é a chave e x[1] é o valor. key=lambda x:x[1] indica que a chave de comparação é o valor dos elementos do dicionário.\n",
    "  O parâmetro opcional reverse é para os valores serem ordenados em ordem decrescente."
   ]
  },
  {
   "cell_type": "markdown",
   "id": "bbad342f",
   "metadata": {},
   "source": [
    "____"
   ]
  },
  {
   "cell_type": "code",
   "execution_count": 51,
   "id": "feac7ef0",
   "metadata": {},
   "outputs": [
    {
     "name": "stdout",
     "output_type": "stream",
     "text": [
      "Valores sorteados:\n",
      "jogador1 tirou 3 no dado.\n",
      "jogador2 tirou 6 no dado.\n",
      "jogador3 tirou 1 no dado.\n",
      "jogador4 tirou 3 no dado.\n",
      "-=-=-=-=-=-=-=-=-=-=-=-=-=-=-=-=-=-=-=-=-=-=-=-=-=-=-=-=-=-=\n",
      "  == RANKING ODS JOGADORES ==\n",
      "   1° lugar: jogador2 com 6\n",
      "   2° lugar: jogador1 com 3\n",
      "   3° lugar: jogador4 com 3\n",
      "   4° lugar: jogador3 com 1\n"
     ]
    }
   ],
   "source": [
    "# PROGRAMA FEITO PELO GUSTAVO\n",
    "\n",
    "from random import randint\n",
    "from time import sleep\n",
    "from operator import itemgetter\n",
    "jogo = {'jogador1': randint(1, 6),\n",
    "        'jogador2': randint(1, 6), \n",
    "        'jogador3': randint(1, 6),\n",
    "        'jogador4': randint(1, 6)}\n",
    "ranking = list()\n",
    "print('Valores sorteados:')\n",
    "for k, v in jogo.items():\n",
    "    print(f'{k} tirou {v} no dado.')\n",
    "    sleep(1)\n",
    "ranking = sorted(jogo.items(), key=itemgetter(1), reverse=True)\n",
    "print('-=' * 30)\n",
    "print('  == RANKING ODS JOGADORES ==')\n",
    "for i, v in enumerate(ranking):\n",
    "    print(f'   {i + 1}° lugar: {v[0]} com {v[1]}')\n",
    "    sleep(1)\n"
   ]
  },
  {
   "cell_type": "markdown",
   "id": "74d6721b",
   "metadata": {},
   "source": [
    "## OBSERVAÇÕES:\n",
    "\n",
    "#### Na programação do Guanabara foi bem parecido. Houve algumas técnicas para se atentar:\n",
    "#### - 1° Ele já montou a lista com as chaves e os valores sendo sorteados;\n",
    "#### - 2° Ele usou uma outra ferramenta da biblioteca operator, a intemgetter. Nesse caso ele trabalha similar ao lambda, na parte key=itemgetter(1)  o 1 significa que é para ordenar pelos valores que estão nas chaves. O acionamento do reverse foi exatamente igual.;\n",
    "\n",
    "### Vale ressaltar que em ambos os casos as ferramentas transformaram o dicionário em listas com tuplas. Devemos nos atentar a este fato.\n"
   ]
  },
  {
   "cell_type": "markdown",
   "id": "cf41e325",
   "metadata": {},
   "source": [
    "_____"
   ]
  }
 ],
 "metadata": {
  "kernelspec": {
   "display_name": "Python 3",
   "language": "python",
   "name": "python3"
  },
  "language_info": {
   "codemirror_mode": {
    "name": "ipython",
    "version": 3
   },
   "file_extension": ".py",
   "mimetype": "text/x-python",
   "name": "python",
   "nbconvert_exporter": "python",
   "pygments_lexer": "ipython3",
   "version": "3.8.8"
  }
 },
 "nbformat": 4,
 "nbformat_minor": 5
}
