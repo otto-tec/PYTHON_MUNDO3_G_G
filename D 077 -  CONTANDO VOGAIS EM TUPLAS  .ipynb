{
 "cells": [
  {
   "cell_type": "markdown",
   "id": "b21c4f66",
   "metadata": {},
   "source": [
    "## DESAFIO 077\n",
    "### Crie um programa que tenha uma tupla com várias palavras (não usar acentos). Depois disso, você deve mostrar, para cada palavra, quais são as suas vogais."
   ]
  },
  {
   "cell_type": "code",
   "execution_count": 7,
   "id": "7338fee5",
   "metadata": {},
   "outputs": [
    {
     "name": "stdout",
     "output_type": "stream",
     "text": [
      "\n",
      "Na palavra APRENDER temos A E E \n",
      "Na palavra PROGRAMAR temos O A A \n",
      "Na palavra LINGUAGEM temos I U A E \n",
      "Na palavra PYTHON temos O \n",
      "Na palavra CURSO temos U O \n",
      "Na palavra GRATIS temos A I \n",
      "Na palavra ESTUDAR temos E U A \n",
      "Na palavra PRATICAR temos A I A \n",
      "Na palavra TRABALHAR temos A A A \n",
      "Na palavra MERCADO temos E A O \n",
      "Na palavra PROGRAMADOR temos O A A O \n",
      "Na palavra FUTURO temos U U O "
     ]
    }
   ],
   "source": [
    "# Programação pega pelo Gustavo tambem\n",
    "tupla = ('APRENDER', 'PROGRAMAR', 'LINGUAGEM', 'PYTHON', 'CURSO', 'GRATIS', 'ESTUDAR', 'PRATICAR', 'TRABALHAR', 'MERCADO', 'PROGRAMADOR', 'FUTURO')\n",
    "\n",
    "for n in tupla: # Aqui foi colocada toda a tupla  numa variavel. Ele verificara cada palavra \n",
    "    print(f'\\nNa palavra {n} temos ', end='')\n",
    "    for letra in n: # Esse for é para rastrear as letras das palavras\n",
    "        if letra.lower() in 'aeiou':\n",
    "            print(letra, end=' ')"
   ]
  }
 ],
 "metadata": {
  "celltoolbar": "Attachments",
  "kernelspec": {
   "display_name": "Python 3",
   "language": "python",
   "name": "python3"
  },
  "language_info": {
   "codemirror_mode": {
    "name": "ipython",
    "version": 3
   },
   "file_extension": ".py",
   "mimetype": "text/x-python",
   "name": "python",
   "nbconvert_exporter": "python",
   "pygments_lexer": "ipython3",
   "version": "3.8.8"
  }
 },
 "nbformat": 4,
 "nbformat_minor": 5
}
