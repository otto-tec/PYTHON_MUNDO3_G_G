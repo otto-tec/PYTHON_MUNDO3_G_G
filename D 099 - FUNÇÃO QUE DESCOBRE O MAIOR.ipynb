{
 "cells": [
  {
   "cell_type": "markdown",
   "id": "cb1d86f5",
   "metadata": {},
   "source": [
    "## DESAFIO 099\n",
    "### Faça um programa que tenha uma função chamada maior(), que receba vários parâmetros com valores inteiros. Seu programa tem que analisar todos os valores e dizer qual deles é o maior."
   ]
  },
  {
   "cell_type": "code",
   "execution_count": 3,
   "id": "aed31b82",
   "metadata": {},
   "outputs": [
    {
     "name": "stdout",
     "output_type": "stream",
     "text": [
      "==================================================\n",
      "      ENCONTRANDO O MAIOR EM LISTAS DIVERSAS      \n",
      "==================================================\n",
      "Analisando os valores colocados...\n",
      "9 6 5 4 2 5 gerando o total de 6 números\n",
      "O maior número da lista é o 9\n",
      "==================================================\n",
      "Analisando os valores colocados...\n",
      "8 8 3 gerando o total de 3 números\n",
      "O maior número da lista é o 8\n",
      "==================================================\n",
      "Analisando os valores colocados...\n",
      "9 6 gerando o total de 2 números\n",
      "O maior número da lista é o 9\n",
      "==================================================\n",
      "Analisando os valores colocados...\n",
      "3 gerando o total de 1 números\n",
      "O maior número da lista é o 3\n",
      "==================================================\n",
      "Analisando os valores colocados...\n",
      "0 gerando o total de 0 números\n",
      "O maior número da lista é 0\n",
      "==================================================\n"
     ]
    }
   ],
   "source": [
    "# PROGRAMA QUE EU FIZ \n",
    "from time import sleep\n",
    "from random import randint\n",
    "print('=' * 50)\n",
    "print('ENCONTRANDO O MAIOR EM LISTAS DIVERSAS'.center(50))\n",
    "print('=' * 50)\n",
    "\n",
    "def analisador(a):\n",
    "    acum = num = 0\n",
    "    print('Analisando os valores colocados...')\n",
    "    sleep(1)\n",
    "    for i, n in enumerate(a):\n",
    "        print(f'{n} ', end='', flush = True) \n",
    "        sleep(0.3)\n",
    "        acum = i\n",
    "        num = n\n",
    "    if acum == 0 and num == 0:\n",
    "        print(f'0 gerando o total de 0 números')\n",
    "        print(f'O maior número da lista é 0')\n",
    "    elif acum != None:\n",
    "        print(f'gerando o total de {acum + 1} números')\n",
    "        print(f'O maior número da lista é o {max(a)}')\n",
    "    print('=' * 50)\n",
    "    \n",
    "#Programa principal\n",
    "lista1 = []\n",
    "lista2 = []\n",
    "lista3 = []\n",
    "lista4 = []\n",
    "lista5 = []\n",
    "\n",
    "for i in range(0, 6):\n",
    "    acreg = randint(0, 9)\n",
    "    lista1.append(acreg)\n",
    "for i in range(0, 3):\n",
    "    acreg = randint(0, 9)\n",
    "    lista2.append(acreg)\n",
    "for i in range(0, 2):\n",
    "    acreg = randint(0, 9)\n",
    "    lista3.append(acreg)\n",
    "for i in range(0, 1):\n",
    "    acreg = randint(0, 9)\n",
    "    lista4.append(acreg)\n",
    "for i in range(0, 0):\n",
    "    lista5.append(i)\n",
    "\n",
    "analisador(lista1)\n",
    "analisador(lista2)\n",
    "analisador(lista3)\n",
    "analisador(lista4)\n",
    "analisador(lista5)\n",
    "\n"
   ]
  },
  {
   "cell_type": "markdown",
   "id": "9e9af73f",
   "metadata": {},
   "source": [
    "________"
   ]
  },
  {
   "cell_type": "code",
   "execution_count": 4,
   "id": "e0e96d4e",
   "metadata": {},
   "outputs": [
    {
     "name": "stdout",
     "output_type": "stream",
     "text": [
      "-=-=-=-=-=-=-=-=-=-=-=-=-=-=-=-=-=-=-=-=-=-=-=-=-=-=-=-=-=-=\n",
      "Analisando os valores passados... \n",
      "2 9 5 7 1 Foram informados 5 valores ao todo.\n",
      "O maior valor informado foi 9.\n",
      "-=-=-=-=-=-=-=-=-=-=-=-=-=-=-=-=-=-=-=-=-=-=-=-=-=-=-=-=-=-=\n",
      "Analisando os valores passados... \n",
      "4 7 0 Foram informados 3 valores ao todo.\n",
      "O maior valor informado foi 7.\n",
      "-=-=-=-=-=-=-=-=-=-=-=-=-=-=-=-=-=-=-=-=-=-=-=-=-=-=-=-=-=-=\n",
      "Analisando os valores passados... \n",
      "1 2 Foram informados 2 valores ao todo.\n",
      "O maior valor informado foi 2.\n",
      "-=-=-=-=-=-=-=-=-=-=-=-=-=-=-=-=-=-=-=-=-=-=-=-=-=-=-=-=-=-=\n",
      "Analisando os valores passados... \n",
      "Foram informados 0 valores ao todo.\n",
      "O maior valor informado foi 0.\n"
     ]
    }
   ],
   "source": [
    "# PROGRAMA DO GUSTAVO\n",
    "from time import sleep\n",
    "\n",
    "def maior(* núm):\n",
    "    cont = maior = 0\n",
    "    print('-=' * 30)\n",
    "    print('Analisando os valores passados... ')\n",
    "    for valor in núm:\n",
    "        print(f'{valor} ', end='', flush=True)\n",
    "        sleep(0.3)\n",
    "        if cont == 0:       # Essa condicional permite que ele aloque o 0 na variável a apresentar no final\n",
    "            maior = valor\n",
    "        else:\n",
    "            if valor > maior:\n",
    "                maior = valor\n",
    "        cont += 1\n",
    "    print(f'Foram informados {cont} valores ao todo.')\n",
    "    print(f'O maior valor informado foi {maior}.')\n",
    "    \n",
    "#Programa principal\n",
    "maior(2, 9, 5, 7, 1)\n",
    "maior(4, 7, 0)\n",
    "maior(1, 2)\n",
    "maior()"
   ]
  },
  {
   "cell_type": "markdown",
   "id": "02311098",
   "metadata": {},
   "source": [
    "### OBSERVAÇÕES\n",
    "#### Na minha programação coloquei os números de forma dinâmica, por esse motivo ficou maior do que a feita pelo Gustavo. A minha programação pode ficar melhor se eu usar OOP. "
   ]
  }
 ],
 "metadata": {
  "kernelspec": {
   "display_name": "Python 3",
   "language": "python",
   "name": "python3"
  },
  "language_info": {
   "codemirror_mode": {
    "name": "ipython",
    "version": 3
   },
   "file_extension": ".py",
   "mimetype": "text/x-python",
   "name": "python",
   "nbconvert_exporter": "python",
   "pygments_lexer": "ipython3",
   "version": "3.8.8"
  }
 },
 "nbformat": 4,
 "nbformat_minor": 5
}
