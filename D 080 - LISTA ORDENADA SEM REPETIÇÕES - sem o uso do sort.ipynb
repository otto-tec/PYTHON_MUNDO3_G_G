{
 "cells": [
  {
   "cell_type": "markdown",
   "id": "372104fc",
   "metadata": {},
   "source": [
    "## DESAFIO 080\n",
    "### Crie um programa onde o usuário possa digitar cinco valores numéricos e cadasre-os em uma lista, já na posição correta de inserção (sem usar o sort()). No final, mostre  a lista ordenada na tela."
   ]
  },
  {
   "cell_type": "code",
   "execution_count": 2,
   "id": "cd89390b",
   "metadata": {},
   "outputs": [
    {
     "name": "stdout",
     "output_type": "stream",
     "text": [
      "Digite um valor: 8\n",
      "Adicionado ao final da lista...\n",
      "Digite um valor: 1\n",
      "Adicionado na posição 0 da lista...\n",
      "Digite um valor: 7\n",
      "Adicionado na posição 1 da lista...\n",
      "Digite um valor: 10\n",
      "Adicionado ao final da lista...\n",
      "Digite um valor: 0\n",
      "Adicionado na posição 0 da lista...\n",
      "-=-=-=-=-=-=-=-=-=-=-=-=-=-=-=-=-=-=-=-=-=-=-=-=-=-=-=-=-=-=\n",
      "Os valores digitados em ordem foram [0, 1, 7, 8, 10]\n"
     ]
    }
   ],
   "source": [
    "lista = []\n",
    "for c in range(0, 5):\n",
    "    n = int(input('Digite um valor: '))\n",
    "    if c == 0 or n > lista[-1]:\n",
    "        lista.append(n)\n",
    "        print('Adicionado ao final da lista...')\n",
    "    else:\n",
    "        pos = 0 \n",
    "        while pos < len(lista):\n",
    "            if n <= lista[pos]:\n",
    "                lista.insert(pos, n)\n",
    "                print(f'Adicionado na posição {pos} da lista...')\n",
    "                break\n",
    "            pos += 1\n",
    "print('-=' * 30)\n",
    "print(f'Os valores digitados em ordem foram {lista}')"
   ]
  },
  {
   "cell_type": "code",
   "execution_count": null,
   "id": "e413b13a",
   "metadata": {},
   "outputs": [],
   "source": []
  }
 ],
 "metadata": {
  "kernelspec": {
   "display_name": "Python 3",
   "language": "python",
   "name": "python3"
  },
  "language_info": {
   "codemirror_mode": {
    "name": "ipython",
    "version": 3
   },
   "file_extension": ".py",
   "mimetype": "text/x-python",
   "name": "python",
   "nbconvert_exporter": "python",
   "pygments_lexer": "ipython3",
   "version": "3.8.8"
  }
 },
 "nbformat": 4,
 "nbformat_minor": 5
}
