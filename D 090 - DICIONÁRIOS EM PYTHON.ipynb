{
 "cells": [
  {
   "cell_type": "markdown",
   "id": "01bb13a5",
   "metadata": {},
   "source": [
    "## DESAFIO 090\n",
    "### Faça um programa que leia nome e média de um aluno, guardando também a situação em um dicionário. No final, mostre o conteúdo da estrutura na tela."
   ]
  },
  {
   "cell_type": "code",
   "execution_count": 7,
   "id": "d683d6b3",
   "metadata": {},
   "outputs": [
    {
     "name": "stdout",
     "output_type": "stream",
     "text": [
      "****************************************\n",
      "         CRIANDO UM DICIONARIO          \n",
      "****************************************\n",
      "Nome: Otto\n",
      "Média de Otto: 9.8\n",
      "Otto\n",
      "- O nome é igual a Otto\n",
      "- A média é igual a 9.8\n",
      "Status do aluno(a): Aprovado\n"
     ]
    }
   ],
   "source": [
    "# PROGRAMA QUE EU FIZ\n",
    "import time\n",
    "print('*' * 40)\n",
    "print('CRIANDO UM DICIONARIO'.center(40))\n",
    "print('*' * 40)\n",
    "time.sleep(0.5)\n",
    "\n",
    "dicio = {}\n",
    "dicio['nome'] = input('Nome: ')\n",
    "dicio['media'] = float(input(f'Média de {dicio[\"nome\"]}: '))\n",
    "print(dicio[\"nome\"])\n",
    "                       \n",
    "print(f'- O nome é igual a {dicio[\"nome\"]}')\n",
    "print(f'- A média é igual a {dicio[\"media\"]}')\n",
    "if dicio['media'] <= 5:\n",
    "      print('Status do aluno(a): Reprovado')\n",
    "elif dicio['media'] <=7:\n",
    "      print('Status do aluno(a): Recuperação')\n",
    "else:\n",
    "      print('Status do aluno(a): Aprovado')\n",
    "     "
   ]
  },
  {
   "cell_type": "markdown",
   "id": "5e6c1ed1",
   "metadata": {},
   "source": [
    "______"
   ]
  },
  {
   "cell_type": "code",
   "execution_count": 1,
   "id": "4678b7a2",
   "metadata": {},
   "outputs": [
    {
     "name": "stdout",
     "output_type": "stream",
     "text": [
      "Nome: Ana\n",
      "Média: 7.5\n",
      "-=-=-=-=-=-=-=-=-=-=-=-=-=-=-=-=-=-=-=-=-=-=-=-=-=-=-=-=-=-=\n",
      "  - nome é igual a Ana\n",
      "  - média é igual a 7.5\n",
      "  - situação é igual a Aprovado\n"
     ]
    }
   ],
   "source": [
    "# Programação do Gustavo\n",
    "\n",
    "aluno = dict()\n",
    "aluno['nome'] = str(input('Nome: '))\n",
    "aluno['média'] = float(input('Média: '))\n",
    "if aluno['média'] >= 7:\n",
    "    aluno['situação'] = 'Aprovado'\n",
    "elif 5 <= aluno['média'] < 7:\n",
    "    aluno['situação'] = 'Recuperação'\n",
    "else:\n",
    "    aluno['situação'] = 'Reprovado'\n",
    "print('-=' * 30)\n",
    "for k, v in aluno.items():           # AQUI ELE USOU O ITEMS (O ENUMERATE DO DICIONARIO). ASSIM FOI POSSÍVEL SEPARAR A CHAVE DO VALOR.\n",
    "    print(f'  - {k} é igual a {v}') # Ele fiz printar cada uma das chaves contidas no dicionário!!!\n",
    "\n"
   ]
  }
 ],
 "metadata": {
  "kernelspec": {
   "display_name": "Python 3",
   "language": "python",
   "name": "python3"
  },
  "language_info": {
   "codemirror_mode": {
    "name": "ipython",
    "version": 3
   },
   "file_extension": ".py",
   "mimetype": "text/x-python",
   "name": "python",
   "nbconvert_exporter": "python",
   "pygments_lexer": "ipython3",
   "version": "3.8.8"
  }
 },
 "nbformat": 4,
 "nbformat_minor": 5
}
