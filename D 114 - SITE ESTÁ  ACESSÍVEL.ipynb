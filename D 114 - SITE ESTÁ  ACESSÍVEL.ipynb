{
 "cells": [
  {
   "cell_type": "markdown",
   "id": "02c66ab2",
   "metadata": {},
   "source": [
    "## DESAFIO 114\n",
    "### Crie um código em Python que teste se o site Pudim está acessível pelo computador usado."
   ]
  },
  {
   "cell_type": "code",
   "execution_count": 3,
   "id": "41fde00c",
   "metadata": {},
   "outputs": [
    {
     "name": "stdout",
     "output_type": "stream",
     "text": [
      "Conseguiu acessar o site Pudim com sucesso!\n"
     ]
    }
   ],
   "source": [
    "import urllib\n",
    "import urllib.request\n",
    "\n",
    "try:\n",
    "    site = urllib.request.urlopen('http://www.pudim.com.br')\n",
    "except urllib.error.URLError:\n",
    "    print('O site Pudim não está acessível no momento.')\n",
    "else:\n",
    "    print('Conseguiu acessar o site Pudim com sucesso!')"
   ]
  },
  {
   "cell_type": "code",
   "execution_count": null,
   "id": "0f2c7f21",
   "metadata": {},
   "outputs": [],
   "source": []
  }
 ],
 "metadata": {
  "kernelspec": {
   "display_name": "Python 3",
   "language": "python",
   "name": "python3"
  },
  "language_info": {
   "codemirror_mode": {
    "name": "ipython",
    "version": 3
   },
   "file_extension": ".py",
   "mimetype": "text/x-python",
   "name": "python",
   "nbconvert_exporter": "python",
   "pygments_lexer": "ipython3",
   "version": "3.8.8"
  }
 },
 "nbformat": 4,
 "nbformat_minor": 5
}
