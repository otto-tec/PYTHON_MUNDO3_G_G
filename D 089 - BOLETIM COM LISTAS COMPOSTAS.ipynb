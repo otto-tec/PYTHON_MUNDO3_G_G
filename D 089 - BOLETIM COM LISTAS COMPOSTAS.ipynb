{
 "cells": [
  {
   "cell_type": "markdown",
   "id": "ebb61cba",
   "metadata": {},
   "source": [
    "## DESAFIO 089\n",
    "### Crie um programa que leia nome e duas notas de vários alunos e guarde tudo em uma lista composta. No final, mostre um boletim contendo a média de cada um e permita que o usuário possa mostrar as notas de cada aluno individualmente."
   ]
  },
  {
   "cell_type": "code",
   "execution_count": 25,
   "id": "38b129b6",
   "metadata": {},
   "outputs": [
    {
     "name": "stdout",
     "output_type": "stream",
     "text": [
      "**************************************************\n",
      "           BOLETIM COM LISTAS COMPOSTAS           \n",
      "**************************************************\n",
      "NOME: Ana\n",
      "NOTA 1: 5\n",
      "NOTA 2: 3.6\n",
      "Quer continuar?[S/N] s\n",
      "NOME: Beto\n",
      "NOTA 1: 8.3\n",
      "NOTA 2: 5.4\n",
      "Quer continuar?[S/N] s\n",
      "NOME: Magali\n",
      "NOTA 1: 7.3\n",
      "NOTA 2: 8\n",
      "Quer continuar?[S/N] n\n",
      "==================================================\n",
      "N° NOME          MÉDIA\n",
      "------------------------------\n",
      "0  Ana            4.3\n",
      "1  Beto            6.8500000000000005\n",
      "2  Magali            7.65\n",
      "------------------------------\n",
      "Mostrar notas de qual aluno?\n",
      "(999 interrompe): 0\n",
      "Notas de Ana são [5.0  3.6]\n",
      "Mostrar notas de qual aluno?\n",
      "(999 interrompe): 1\n",
      "Notas de Beto são [8.3  5.4]\n",
      "Mostrar notas de qual aluno?\n",
      "(999 interrompe): 2\n",
      "Notas de Magali são [7.3  8.0]\n",
      "Mostrar notas de qual aluno?\n",
      "(999 interrompe): 999\n"
     ]
    }
   ],
   "source": [
    "# PROGRAMA QUE EU FIZ.\n",
    "import time\n",
    "print('*' * 50)\n",
    "print('BOLETIM COM LISTAS COMPOSTAS'.center(50))\n",
    "print('*' * 50)\n",
    "time.sleep(0.5)\n",
    "\n",
    "contador = 0\n",
    "cont = ''\n",
    "l_A = []\n",
    "l_M = []\n",
    "while cont != 'N':\n",
    "    \n",
    "    l_A.append(input('NOME: '))\n",
    "    l_A.append(float(input('NOTA 1: ')))\n",
    "    l_A.append(float(input('NOTA 2: ')))\n",
    "    l_M.append(l_A[:])\n",
    "    l_A.clear()\n",
    "    contador += 1\n",
    "    cont = input('Quer continuar?[S/N] ').upper().split()[0]\n",
    "    \n",
    "\n",
    "print('=' * 50)\n",
    "print('N° NOME          MÉDIA')\n",
    "print('-' * 30)\n",
    "for i in range(0, contador):\n",
    "    media = (l_M[i][1] + l_M[i][2]) / 2\n",
    "    print(f'{i}  {l_M[i][0]}            {media}')\n",
    "print('-' * 30)\n",
    "\n",
    "while True:\n",
    "        busca = int(input('Mostrar notas de qual aluno?\\n(999 interrompe): '))\n",
    "        if busca != 999:\n",
    "            print(f'Notas de {l_M[busca][0]} são [{l_M[busca][1]}  {l_M[busca][2]}]')\n",
    "        if busca == 999:\n",
    "            break"
   ]
  },
  {
   "cell_type": "markdown",
   "id": "f4c23d58",
   "metadata": {},
   "source": [
    "_____"
   ]
  },
  {
   "cell_type": "code",
   "execution_count": 24,
   "id": "34ac51c6",
   "metadata": {},
   "outputs": [
    {
     "name": "stdout",
     "output_type": "stream",
     "text": [
      "Nome: Amanda\n",
      "Nota 1: 5.8\n",
      "Nota 2: 3\n",
      "Quer continuar? [S/N] s\n",
      "Nome: Bruno\n",
      "Nota 1: 8.5\n",
      "Nota 2: 6.2\n",
      "Quer continuar? [S/N] s\n",
      "Nome: Karen\n",
      "Nota 1: 9.1\n",
      "Nota 2: 3.9\n",
      "Quer continuar? [S/N] n\n",
      "-=-=-=-=-=-=-=-=-=-=-=-=-=-=-=-=-=-=-=-=-=-=-=-=-=-=-=-=-=-=\n",
      "N°  NOME         MÉDIA\n",
      "--------------------------\n",
      "0   Amanda         4.4\n",
      "1   Bruno          7.3\n",
      "2   Karen          6.5\n",
      "-----------------------------------\n",
      "Mostrar notas de qual aluno? (999 interrompe): 0\n",
      "Notas de Amanda são [5.8, 3.0]\n",
      "-----------------------------------\n",
      "Mostrar notas de qual aluno? (999 interrompe): 2\n",
      "Notas de Karen são [9.1, 3.9]\n",
      "-----------------------------------\n",
      "Mostrar notas de qual aluno? (999 interrompe): 1\n",
      "Notas de Bruno são [8.5, 6.2]\n",
      "-----------------------------------\n",
      "Mostrar notas de qual aluno? (999 interrompe): 999\n",
      "FINALIZANDO...\n",
      "<<< VOLTE SEMPRE >>>\n"
     ]
    }
   ],
   "source": [
    "# PROGRAMA FEITO PELO GUSTAVO\n",
    "ficha = list()\n",
    "while True:\n",
    "    nome = str(input('Nome: '))\n",
    "    nota1 = float(input('Nota 1: '))\n",
    "    nota2 = float(input('Nota 2: '))\n",
    "    media = (nota1 + nota2) / 2\n",
    "    ficha.append([nome, [nota1, nota2], media]) # Aqui ele cria uma lista principal já aderindo as variáveis\n",
    "    resp = str(input('Quer continuar? [S/N] '))\n",
    "    if resp in 'Nn':\n",
    "        break\n",
    "print('-=' * 30)\n",
    "print(f'{\"N°\":<4}{\"NOME\":<10}{\"MÉDIA\":>8}') # Aqui está o pulo do gato. Nessa parte ele formatou a estrutura do cabeçalho da tabela.\n",
    "print('-' * 26)                    # IMPORTANTE: O PYTHON SOMENTE ACEITA A FORMATAÇÃO DENTRO DO PRINT USANDO ASPAS DUPLAS\n",
    "for i, a in enumerate(ficha):             # Novamente o ENUMERATE. O i é para o número de indice e o A tem todas as informações da lista.\n",
    "    print(f'{i:<4}{a[0]:<10}{a[2]:>8.1f}')\n",
    "while True:\n",
    "    print('-' * 35)\n",
    "    opc = int(input('Mostrar notas de qual aluno? (999 interrompe): '))\n",
    "    if opc == 999:\n",
    "        print('FINALIZANDO...')\n",
    "        break\n",
    "    if opc <= len(ficha) - 1:             # Aqui ele diz que a opção escolhida tem que ser igual ou menor do que os alunos cadastrados.\n",
    "        print(f'Notas de {ficha[opc][0]} são {ficha[opc][1]}')\n",
    "print('<<< VOLTE SEMPRE >>>')"
   ]
  },
  {
   "cell_type": "code",
   "execution_count": null,
   "id": "f03aebe1",
   "metadata": {},
   "outputs": [],
   "source": []
  }
 ],
 "metadata": {
  "kernelspec": {
   "display_name": "Python 3",
   "language": "python",
   "name": "python3"
  },
  "language_info": {
   "codemirror_mode": {
    "name": "ipython",
    "version": 3
   },
   "file_extension": ".py",
   "mimetype": "text/x-python",
   "name": "python",
   "nbconvert_exporter": "python",
   "pygments_lexer": "ipython3",
   "version": "3.8.8"
  }
 },
 "nbformat": 4,
 "nbformat_minor": 5
}
