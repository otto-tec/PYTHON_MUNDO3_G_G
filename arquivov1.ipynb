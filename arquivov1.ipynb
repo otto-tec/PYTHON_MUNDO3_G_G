{
 "cells": [
  {
   "cell_type": "code",
   "execution_count": null,
   "id": "fefdd87d",
   "metadata": {},
   "outputs": [],
   "source": [
    "import import_ipynb\n",
    "from modulov1 import *\n",
    "\n",
    "def arquivoExiste(nome):\n",
    "    try:\n",
    "        a = open(nome, 'r')\n",
    "        a.close()\n",
    "    except FileNotFoundError:\n",
    "        return False\n",
    "    else:\n",
    "        return True\n",
    "\n",
    "def criarArquivo(nome):\n",
    "    try:\n",
    "        a = open(nome, 'wt+')\n",
    "        a.close()\n",
    "    except:\n",
    "        printl('Houve um ERRO na criação do arquivo!')\n",
    "    else:\n",
    "        print(f'Arquivo {nome} criado com sucesso!')\n",
    "\n",
    "def lerArquivo(nome):\n",
    "    try:\n",
    "        a = open(nome, 'rt')\n",
    "    except:\n",
    "        print('Erro ao ler o arquivo!')\n",
    "    else:\n",
    "        cabeçalho('PESSOAS CADASTRADAS')\n",
    "        for linha in a:\n",
    "            dado = linha.split(';') #Assim transformamos dado em uma lista\n",
    "            dado[1] = dado[1].replace('\\n', '')\n",
    "            print(f'{dado[0]:<30}{dado[1]:>3} anos')\n",
    "    \n",
    "    \n",
    "    finally:\n",
    "        a.close()\n",
    "\n",
    "def cadastrar(arq, nome='desconhecido', idade=0):\n",
    "    try:\n",
    "        a = open(arq, 'a')\n",
    "    except:\n",
    "        print('Houve um Erro na abertura do arquivo!')\n",
    "    else:   \n",
    "        try:\n",
    "            a.write(f'{nome};{idade}\\n')\n",
    "        except:\n",
    "            print('Houve um ERRO na hora de escrever os dados!')\n",
    "        else:\n",
    "            print(f'Novo registro de {nome} adicionado.')\n",
    "            a.close()\n",
    "            "
   ]
  }
 ],
 "metadata": {
  "kernelspec": {
   "display_name": "Python 3",
   "language": "python",
   "name": "python3"
  },
  "language_info": {
   "codemirror_mode": {
    "name": "ipython",
    "version": 3
   },
   "file_extension": ".py",
   "mimetype": "text/x-python",
   "name": "python",
   "nbconvert_exporter": "python",
   "pygments_lexer": "ipython3",
   "version": "3.8.8"
  }
 },
 "nbformat": 4,
 "nbformat_minor": 5
}
