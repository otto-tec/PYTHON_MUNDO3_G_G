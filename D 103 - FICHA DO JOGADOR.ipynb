{
 "cells": [
  {
   "cell_type": "markdown",
   "id": "d6369e10",
   "metadata": {},
   "source": [
    "## DESAFIO 103\n",
    "### Faça um programa que tenha uma função chamada ficha(), que receba dois parâmetros opcionais: o nome de um jogador e quantos gols ele marcou. O programa deverá ser capaz de mostrar a ficha do jogador, mesmo que algum dado não tenha sido informado corretamente."
   ]
  },
  {
   "cell_type": "code",
   "execution_count": 28,
   "id": "9c13b964",
   "metadata": {},
   "outputs": [
    {
     "name": "stdout",
     "output_type": "stream",
     "text": [
      "*************************\n",
      "Nome do jogador: Joao\n",
      "Número de gols: 3\n",
      "O jogador Joao fez 3 gol(s) no campeonato.\n"
     ]
    }
   ],
   "source": [
    "# Programa que eu fiz\n",
    "from time import sleep\n",
    "def ficha(nome , gols = 0):\n",
    "    if nome == '':\n",
    "        nome = '<desconhecido>'\n",
    "    if gols*1 == False:\n",
    "        gols = 0\n",
    "    return f'O jogador {nome} fez {gols} gol(s) no campeonato.'\n",
    "\n",
    "#Programa principal\n",
    "print('*' * 25)\n",
    "sleep(0.5)\n",
    "name = input('Nome do jogador: ')\n",
    "goals = input('Número de gols: ')\n",
    "print(ficha(name, goals))\n",
    "\n"
   ]
  },
  {
   "cell_type": "code",
   "execution_count": 29,
   "id": "afece795",
   "metadata": {},
   "outputs": [
    {
     "name": "stdout",
     "output_type": "stream",
     "text": [
      "*************************\n",
      "Nome do jogador: André\n",
      "Número de gols: dois\n",
      "O jogador André fez dois gol(s) no campeonato.\n"
     ]
    }
   ],
   "source": [
    "# Programa que eu fiz\n",
    "from time import sleep\n",
    "def ficha(nome , gols = 0):\n",
    "    if nome == '':\n",
    "        nome = '<desconhecido>'\n",
    "    if gols*1 == False:\n",
    "        gols = 0\n",
    "    return f'O jogador {nome} fez {gols} gol(s) no campeonato.'\n",
    "\n",
    "#Programa principal\n",
    "print('*' * 25)\n",
    "sleep(0.5)\n",
    "name = input('Nome do jogador: ')\n",
    "goals = input('Número de gols: ')\n",
    "print(ficha(name, goals))"
   ]
  },
  {
   "cell_type": "code",
   "execution_count": 30,
   "id": "35d682a6",
   "metadata": {},
   "outputs": [
    {
     "name": "stdout",
     "output_type": "stream",
     "text": [
      "*************************\n",
      "Nome do jogador: \n",
      "Número de gols: \n",
      "O jogador <desconhecido> fez  gol(s) no campeonato.\n"
     ]
    }
   ],
   "source": [
    "# Programa que eu fiz\n",
    "from time import sleep\n",
    "def ficha(nome , gols = 0):\n",
    "    if nome == '':\n",
    "        nome = '<desconhecido>'\n",
    "    if gols*1 == False:\n",
    "        gols = 0\n",
    "    return f'O jogador {nome} fez {gols} gol(s) no campeonato.'\n",
    "\n",
    "#Programa principal\n",
    "print('*' * 25)\n",
    "sleep(0.5)\n",
    "name = input('Nome do jogador: ')\n",
    "goals = input('Número de gols: ')\n",
    "print(ficha(name, goals))"
   ]
  },
  {
   "cell_type": "markdown",
   "id": "071c3f8e",
   "metadata": {},
   "source": [
    "##### O meu programa não consegue interpretar o sistema entre str e int dos gols."
   ]
  },
  {
   "cell_type": "markdown",
   "id": "089e3888",
   "metadata": {},
   "source": [
    "______"
   ]
  },
  {
   "cell_type": "code",
   "execution_count": 32,
   "id": "f33dec9b",
   "metadata": {},
   "outputs": [
    {
     "name": "stdout",
     "output_type": "stream",
     "text": [
      "Nome do Jogador: Joao\n",
      "Número de gols: 3\n",
      "O jogador Joao fez 3 gol(s) no campeonato.\n"
     ]
    }
   ],
   "source": [
    "# Programa do Gustavo\n",
    "def ficha(jog='<desconhecido>', gol=0):\n",
    "    print(f'O jogador {jog} fez {gol} gol(s) no campeonato.')\n",
    "    \n",
    "#Programa principal\n",
    "n = str(input('Nome do Jogador: '))\n",
    "g = str(input('Número de gols: '))\n",
    "if g.isnumeric():\n",
    "    g = int(g)\n",
    "else:\n",
    "    g = 0\n",
    "if n.strip() == '':\n",
    "    ficha(gol=g)\n",
    "else:\n",
    "    ficha(n, g)"
   ]
  },
  {
   "cell_type": "code",
   "execution_count": 33,
   "id": "e6bc2bba",
   "metadata": {},
   "outputs": [
    {
     "name": "stdout",
     "output_type": "stream",
     "text": [
      "Nome do Jogador: Jose\n",
      "Número de gols: \n",
      "O jogador Jose fez 0 gol(s) no campeonato.\n"
     ]
    }
   ],
   "source": [
    "# Programa do Gustavo\n",
    "def ficha(jog='<desconhecido>', gol=0):\n",
    "    print(f'O jogador {jog} fez {gol} gol(s) no campeonato.')\n",
    "    \n",
    "#Programa principal\n",
    "n = str(input('Nome do Jogador: '))\n",
    "g = str(input('Número de gols: '))\n",
    "if g.isnumeric():\n",
    "    g = int(g)\n",
    "else:\n",
    "    g = 0\n",
    "if n.strip() == '':\n",
    "    ficha(gol=g)\n",
    "else:\n",
    "    ficha(n, g)"
   ]
  },
  {
   "cell_type": "code",
   "execution_count": 34,
   "id": "28252759",
   "metadata": {},
   "outputs": [
    {
     "name": "stdout",
     "output_type": "stream",
     "text": [
      "Nome do Jogador: Miguel\n",
      "Número de gols: tres\n",
      "O jogador Miguel fez 0 gol(s) no campeonato.\n"
     ]
    }
   ],
   "source": [
    "# Programa do Gustavo\n",
    "def ficha(jog='<desconhecido>', gol=0):\n",
    "    print(f'O jogador {jog} fez {gol} gol(s) no campeonato.')\n",
    "    \n",
    "#Programa principal\n",
    "n = str(input('Nome do Jogador: '))\n",
    "g = str(input('Número de gols: '))\n",
    "if g.isnumeric():\n",
    "    g = int(g)\n",
    "else:\n",
    "    g = 0\n",
    "if n.strip() == '':\n",
    "    ficha(gol=g)\n",
    "else:\n",
    "    ficha(n, g)"
   ]
  },
  {
   "cell_type": "code",
   "execution_count": 35,
   "id": "95edb3b0",
   "metadata": {},
   "outputs": [
    {
     "name": "stdout",
     "output_type": "stream",
     "text": [
      "Nome do Jogador: \n",
      "Número de gols: \n",
      "O jogador <desconhecido> fez 0 gol(s) no campeonato.\n"
     ]
    }
   ],
   "source": [
    "# Programa do Gustavo\n",
    "def ficha(jog='<desconhecido>', gol=0):\n",
    "    print(f'O jogador {jog} fez {gol} gol(s) no campeonato.')\n",
    "    \n",
    "#Programa principal\n",
    "n = str(input('Nome do Jogador: '))\n",
    "g = str(input('Número de gols: '))\n",
    "if g.isnumeric():\n",
    "    g = int(g)\n",
    "else:\n",
    "    g = 0\n",
    "if n.strip() == '':\n",
    "    ficha(gol=g)\n",
    "else:\n",
    "    ficha(n, g)"
   ]
  },
  {
   "cell_type": "markdown",
   "id": "62d19a6a",
   "metadata": {},
   "source": [
    "____"
   ]
  },
  {
   "cell_type": "markdown",
   "id": "3222aa97",
   "metadata": {},
   "source": [
    "### MESCLANDO OS DOIS PROGRAMAS"
   ]
  },
  {
   "cell_type": "code",
   "execution_count": 36,
   "id": "918e373a",
   "metadata": {},
   "outputs": [
    {
     "name": "stdout",
     "output_type": "stream",
     "text": [
      "*************************\n",
      "Nome do jogador: Mario\n",
      "Número de gols: tres\n",
      "O jogador Mario fez 0 gol(s) no campeonato.\n"
     ]
    }
   ],
   "source": [
    "# Programa que eu fiz\n",
    "from time import sleep\n",
    "def ficha(nome , gols = 0):\n",
    "    if nome == '':\n",
    "        nome = '<desconhecido>'\n",
    "    if gols.isnumeric():\n",
    "        gols = int(gols)\n",
    "    else:\n",
    "        gols = 0\n",
    "    return f'O jogador {nome} fez {gols} gol(s) no campeonato.'\n",
    "\n",
    "#Programa principal\n",
    "print('*' * 25)\n",
    "sleep(0.5)\n",
    "name = input('Nome do jogador: ')\n",
    "goals = input('Número de gols: ')\n",
    "print(ficha(name, goals))"
   ]
  },
  {
   "cell_type": "code",
   "execution_count": 37,
   "id": "50bfeb6a",
   "metadata": {},
   "outputs": [
    {
     "name": "stdout",
     "output_type": "stream",
     "text": [
      "*************************\n",
      "Nome do jogador: Carlos\n",
      "Número de gols: 3\n",
      "O jogador Carlos fez 3 gol(s) no campeonato.\n"
     ]
    }
   ],
   "source": [
    "# Programa que eu fiz\n",
    "from time import sleep\n",
    "def ficha(nome , gols = 0):\n",
    "    if nome == '':\n",
    "        nome = '<desconhecido>'\n",
    "    if gols.isnumeric():\n",
    "        gols = int(gols)\n",
    "    else:\n",
    "        gols = 0\n",
    "    return f'O jogador {nome} fez {gols} gol(s) no campeonato.'\n",
    "\n",
    "#Programa principal\n",
    "print('*' * 25)\n",
    "sleep(0.5)\n",
    "name = input('Nome do jogador: ')\n",
    "goals = input('Número de gols: ')\n",
    "print(ficha(name, goals))"
   ]
  },
  {
   "cell_type": "code",
   "execution_count": 38,
   "id": "af3f305e",
   "metadata": {},
   "outputs": [
    {
     "name": "stdout",
     "output_type": "stream",
     "text": [
      "*************************\n",
      "Nome do jogador: \n",
      "Número de gols: \n",
      "O jogador <desconhecido> fez 0 gol(s) no campeonato.\n"
     ]
    }
   ],
   "source": [
    "# Programa que eu fiz\n",
    "from time import sleep\n",
    "def ficha(nome , gols = 0):\n",
    "    if nome == '':\n",
    "        nome = '<desconhecido>'\n",
    "    if gols.isnumeric():\n",
    "        gols = int(gols)\n",
    "    else:\n",
    "        gols = 0\n",
    "    return f'O jogador {nome} fez {gols} gol(s) no campeonato.'\n",
    "\n",
    "#Programa principal\n",
    "print('*' * 25)\n",
    "sleep(0.5)\n",
    "name = input('Nome do jogador: ')\n",
    "goals = input('Número de gols: ')\n",
    "print(ficha(name, goals))"
   ]
  }
 ],
 "metadata": {
  "kernelspec": {
   "display_name": "Python 3",
   "language": "python",
   "name": "python3"
  },
  "language_info": {
   "codemirror_mode": {
    "name": "ipython",
    "version": 3
   },
   "file_extension": ".py",
   "mimetype": "text/x-python",
   "name": "python",
   "nbconvert_exporter": "python",
   "pygments_lexer": "ipython3",
   "version": "3.8.8"
  }
 },
 "nbformat": 4,
 "nbformat_minor": 5
}
