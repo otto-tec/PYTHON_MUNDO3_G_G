{
 "cells": [
  {
   "cell_type": "markdown",
   "id": "137b79a9",
   "metadata": {},
   "source": [
    "### Nessa versão do exercício eu atualizei o módulo moeda exatamente do jeito que o Gustavo fez. Dessa forma posso dar continuidade nos exercicios posteriores sem ter que voltar."
   ]
  },
  {
   "cell_type": "code",
   "execution_count": 2,
   "id": "8affc34f",
   "metadata": {},
   "outputs": [
    {
     "name": "stdout",
     "output_type": "stream",
     "text": [
      "Digite um preço: R$ 100\n",
      "O valor com um acrescimo de 10% é R$110,00\n",
      "O valor com o decrescimo de 30% é R$70,00\n",
      "A metade do valor R$100.0 é R$50,00\n",
      "O dobro do valor R$100.0 é R$200,00\n"
     ]
    }
   ],
   "source": [
    "import import_ipynb\n",
    "import moeda3\n",
    "\n",
    "inicio = float(input('Digite um preço: R$ '))\n",
    "\n",
    "print(f'O valor com um acrescimo de 10% é {moeda3.moeda(moeda3.aumentar(inicio, 10))}')\n",
    "print(f'O valor com o decrescimo de 30% é {moeda3.moeda(moeda3.diminuir(inicio, 30))}')\n",
    "print(f'A metade do valor R${inicio} é {moeda3.moeda(moeda3.metade(inicio))}')\n",
    "print(f'O dobro do valor R${inicio} é {moeda3.moeda(moeda3.dobro(inicio))}')"
   ]
  },
  {
   "cell_type": "markdown",
   "id": "8f59e19d",
   "metadata": {},
   "source": [
    "_________"
   ]
  }
 ],
 "metadata": {
  "kernelspec": {
   "display_name": "Python 3",
   "language": "python",
   "name": "python3"
  },
  "language_info": {
   "codemirror_mode": {
    "name": "ipython",
    "version": 3
   },
   "file_extension": ".py",
   "mimetype": "text/x-python",
   "name": "python",
   "nbconvert_exporter": "python",
   "pygments_lexer": "ipython3",
   "version": "3.8.8"
  }
 },
 "nbformat": 4,
 "nbformat_minor": 5
}
