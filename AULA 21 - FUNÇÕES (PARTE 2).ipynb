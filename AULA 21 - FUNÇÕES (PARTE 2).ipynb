{
 "cells": [
  {
   "cell_type": "markdown",
   "id": "d79f5515",
   "metadata": {},
   "source": [
    "### TÓPICOS A SEREM ABORDADOS:\n",
    "#### - Interactive Help\n",
    "#### - Docstrings\n",
    "#### - Argumentos opcionais \n",
    "#### -  Escopo de variáveis\n",
    "#### -  Retorno de resultados"
   ]
  },
  {
   "cell_type": "markdown",
   "id": "87f35053",
   "metadata": {},
   "source": [
    "____________"
   ]
  },
  {
   "cell_type": "markdown",
   "id": "21344763",
   "metadata": {},
   "source": [
    "### INTERACTIVE HELP"
   ]
  },
  {
   "cell_type": "markdown",
   "id": "66a969bb",
   "metadata": {},
   "source": [
    "___________"
   ]
  },
  {
   "cell_type": "code",
   "execution_count": 2,
   "id": "393a1f88",
   "metadata": {},
   "outputs": [
    {
     "name": "stdout",
     "output_type": "stream",
     "text": [
      "\n",
      "Welcome to Python 3.8's help utility!\n",
      "\n",
      "If this is your first time using Python, you should definitely check out\n",
      "the tutorial on the Internet at https://docs.python.org/3.8/tutorial/.\n",
      "\n",
      "Enter the name of any module, keyword, or topic to get help on writing\n",
      "Python programs and using Python modules.  To quit this help utility and\n",
      "return to the interpreter, just type \"quit\".\n",
      "\n",
      "To get a list of available modules, keywords, symbols, or topics, type\n",
      "\"modules\", \"keywords\", \"symbols\", or \"topics\".  Each module also comes\n",
      "with a one-line summary of what it does; to list the modules whose name\n",
      "or summary contain a given string such as \"spam\", type \"modules spam\".\n",
      "\n",
      "help> print\n",
      "Help on built-in function print in module builtins:\n",
      "\n",
      "print(...)\n",
      "    print(value, ..., sep=' ', end='\\n', file=sys.stdout, flush=False)\n",
      "    \n",
      "    Prints the values to a stream, or to sys.stdout by default.\n",
      "    Optional keyword arguments:\n",
      "    file:  a file-like object (stream); defaults to the current sys.stdout.\n",
      "    sep:   string inserted between values, default a space.\n",
      "    end:   string appended after the last value, default a newline.\n",
      "    flush: whether to forcibly flush the stream.\n",
      "\n",
      "help> len\n",
      "Help on built-in function len in module builtins:\n",
      "\n",
      "len(obj, /)\n",
      "    Return the number of items in a container.\n",
      "\n",
      "help> quit\n",
      "\n",
      "You are now leaving help and returning to the Python interpreter.\n",
      "If you want to ask for help on a particular object directly from the\n",
      "interpreter, you can type \"help(object)\".  Executing \"help('string')\"\n",
      "has the same effect as typing a particular string at the help> prompt.\n"
     ]
    }
   ],
   "source": [
    "# INTERACTIVE HELP\n",
    "\n",
    "help()\n"
   ]
  },
  {
   "cell_type": "code",
   "execution_count": 3,
   "id": "a34af7de",
   "metadata": {},
   "outputs": [
    {
     "name": "stdout",
     "output_type": "stream",
     "text": [
      "Help on built-in function print in module builtins:\n",
      "\n",
      "print(...)\n",
      "    print(value, ..., sep=' ', end='\\n', file=sys.stdout, flush=False)\n",
      "    \n",
      "    Prints the values to a stream, or to sys.stdout by default.\n",
      "    Optional keyword arguments:\n",
      "    file:  a file-like object (stream); defaults to the current sys.stdout.\n",
      "    sep:   string inserted between values, default a space.\n",
      "    end:   string appended after the last value, default a newline.\n",
      "    flush: whether to forcibly flush the stream.\n",
      "\n"
     ]
    }
   ],
   "source": [
    "# OUTRA MANEIRA DE ACIONAR O HELP\n",
    "help(print)"
   ]
  },
  {
   "cell_type": "markdown",
   "id": "138aaa5b",
   "metadata": {},
   "source": [
    "________"
   ]
  },
  {
   "cell_type": "markdown",
   "id": "a0b52cde",
   "metadata": {},
   "source": [
    "###                         DOCSTRING"
   ]
  },
  {
   "cell_type": "markdown",
   "id": "4d04c212",
   "metadata": {},
   "source": [
    "___________"
   ]
  },
  {
   "cell_type": "code",
   "execution_count": 10,
   "id": "e1410305",
   "metadata": {},
   "outputs": [
    {
     "name": "stdout",
     "output_type": "stream",
     "text": [
      "2..4..6..8..10..FIM!\n"
     ]
    }
   ],
   "source": [
    "\n",
    "def contador(i, f, p):\n",
    "    \"\"\" => Faz uma contagem e mostra na tela.\n",
    "    : param i: início da contagem\n",
    "    : param f: fim da contagem\n",
    "    : param p: passo da contagem\n",
    "    : return: sem retorno\"\"\"\n",
    "    c = i\n",
    "    while c <= f:\n",
    "        print(f'{c}', end='..')\n",
    "        c += p\n",
    "    print('FIM!')\n",
    "\n",
    "contador(2, 10, 2)"
   ]
  },
  {
   "cell_type": "code",
   "execution_count": 11,
   "id": "c1c95829",
   "metadata": {
    "scrolled": true
   },
   "outputs": [
    {
     "name": "stdout",
     "output_type": "stream",
     "text": [
      "Help on function contador in module __main__:\n",
      "\n",
      "contador(i, f, p)\n",
      "    => Faz uma contagem e mostra na tela.\n",
      "    : param i: início da contagem\n",
      "    : param f: fim da contagem\n",
      "    : param p: passo da contagem\n",
      "    : return: sem retorno\n",
      "\n"
     ]
    }
   ],
   "source": [
    "# A docstring é criada usando aspas duplas 3 vezes.\n",
    "help(contador)"
   ]
  },
  {
   "cell_type": "markdown",
   "id": "86491027",
   "metadata": {},
   "source": [
    "__________"
   ]
  },
  {
   "cell_type": "markdown",
   "id": "7de4bc58",
   "metadata": {},
   "source": [
    "### PARÂMETROS OPCIONAIS"
   ]
  },
  {
   "cell_type": "markdown",
   "id": "65008bda",
   "metadata": {},
   "source": [
    "____________"
   ]
  },
  {
   "cell_type": "code",
   "execution_count": 12,
   "id": "4dd2d6ef",
   "metadata": {},
   "outputs": [
    {
     "name": "stdout",
     "output_type": "stream",
     "text": [
      "A soma vale 10\n"
     ]
    }
   ],
   "source": [
    "# USADO QUANDO OS VALORES SOLICITADOS SÃO DIFERENTES DO ESCRITO\n",
    "def somar(a, b, c):\n",
    "    s = a + b + c\n",
    "    print(f'A soma vale {s}')\n",
    "    \n",
    "somar(3, 2, 5)"
   ]
  },
  {
   "cell_type": "code",
   "execution_count": 13,
   "id": "d94abc54",
   "metadata": {},
   "outputs": [
    {
     "ename": "TypeError",
     "evalue": "somar() missing 1 required positional argument: 'c'",
     "output_type": "error",
     "traceback": [
      "\u001b[1;31m---------------------------------------------------------------------------\u001b[0m",
      "\u001b[1;31mTypeError\u001b[0m                                 Traceback (most recent call last)",
      "\u001b[1;32m<ipython-input-13-53058b72709d>\u001b[0m in \u001b[0;36m<module>\u001b[1;34m\u001b[0m\n\u001b[1;32m----> 1\u001b[1;33m \u001b[0msomar\u001b[0m\u001b[1;33m(\u001b[0m\u001b[1;36m3\u001b[0m\u001b[1;33m,\u001b[0m \u001b[1;36m2\u001b[0m\u001b[1;33m)\u001b[0m\u001b[1;33m\u001b[0m\u001b[1;33m\u001b[0m\u001b[0m\n\u001b[0m",
      "\u001b[1;31mTypeError\u001b[0m: somar() missing 1 required positional argument: 'c'"
     ]
    }
   ],
   "source": [
    "somar(3, 2)"
   ]
  },
  {
   "cell_type": "markdown",
   "id": "8ee9b6c7",
   "metadata": {},
   "source": [
    "#### Como pode ver ele solicita o elemento faltante. Porem existe uma forma de se trabalhar com menos declarações na função. Segue exemplo abaixo."
   ]
  },
  {
   "cell_type": "code",
   "execution_count": 15,
   "id": "948356a2",
   "metadata": {},
   "outputs": [
    {
     "name": "stdout",
     "output_type": "stream",
     "text": [
      "A soma vale 12\n"
     ]
    }
   ],
   "source": [
    "def somei(a, b, c = 0):\n",
    "    s = a + b + c\n",
    "    print(f'A soma vale {s}')\n",
    "    \n",
    "somei(8, 4)"
   ]
  },
  {
   "cell_type": "code",
   "execution_count": 16,
   "id": "3ff3e55a",
   "metadata": {},
   "outputs": [
    {
     "name": "stdout",
     "output_type": "stream",
     "text": [
      "A soma vale 0\n",
      "A soma vale 5\n",
      "A soma vale 11\n",
      "A soma vale 20\n"
     ]
    }
   ],
   "source": [
    "# Pode-se fazer isso com todos.\n",
    "def somei(a = 0, b = 0, c = 0):\n",
    "    s = a + b + c\n",
    "    print(f'A soma vale {s}')\n",
    "    \n",
    "somei()\n",
    "somei(5)\n",
    "somei(5, 6)\n",
    "somei(5, 6, 9)"
   ]
  },
  {
   "cell_type": "markdown",
   "id": "9293c826",
   "metadata": {},
   "source": [
    "__________"
   ]
  },
  {
   "cell_type": "markdown",
   "id": "87c909fd",
   "metadata": {},
   "source": [
    "### ESCOPO DE VARIÁVEIS"
   ]
  },
  {
   "cell_type": "markdown",
   "id": "2b8d7a28",
   "metadata": {},
   "source": [
    "___________"
   ]
  },
  {
   "cell_type": "code",
   "execution_count": 18,
   "id": "370fb3e7",
   "metadata": {},
   "outputs": [
    {
     "name": "stdout",
     "output_type": "stream",
     "text": [
      "A dentro vale 5\n",
      "B dentro vale 9\n",
      "C dentro vale 2\n"
     ]
    }
   ],
   "source": [
    "def teste(b):\n",
    "    b += 4                      #Escopo locas\n",
    "    c = 2                       #Escopo local\n",
    "    print(f'A dentro vale {a}')\n",
    "    print(f'B dentro vale {b}')\n",
    "    print(f'C dentro vale {c}')\n",
    "    \n",
    "a = 5                           #Escopo global\n",
    "teste(a)\n"
   ]
  },
  {
   "cell_type": "code",
   "execution_count": 20,
   "id": "cd5d32c8",
   "metadata": {},
   "outputs": [
    {
     "name": "stdout",
     "output_type": "stream",
     "text": [
      "A dentro vale 8\n",
      "B dentro vale 9\n",
      "C dentro vale 2\n",
      "A de fora vale 5\n"
     ]
    }
   ],
   "source": [
    "#MAS O QUE ACONTECE SE A MESMA VARIÁVEL FOR DECLARADA NA GLOBAL E LOCAL\n",
    "\n",
    "def teste(b):\n",
    "    a = 8\n",
    "    b += 4                      #Escopo locas\n",
    "    c = 2                       #Escopo local\n",
    "    print(f'A dentro vale {a}')\n",
    "    print(f'B dentro vale {b}')\n",
    "    print(f'C dentro vale {c}')\n",
    "    \n",
    "a = 5                           #Escopo global\n",
    "teste(a)\n",
    "print(f'A de fora vale {a}')\n"
   ]
  },
  {
   "cell_type": "code",
   "execution_count": 21,
   "id": "d3b8c55a",
   "metadata": {},
   "outputs": [
    {
     "name": "stdout",
     "output_type": "stream",
     "text": [
      "A dentro vale 8\n",
      "B dentro vale 9\n",
      "C dentro vale 2\n",
      "A de fora vale 8\n"
     ]
    }
   ],
   "source": [
    "#TAMBÉM EXISTE UMA FORMA DE TRANSFORMAR A VARIÁVEL GLOBAL DENTRO DA FUNÇÃO\n",
    "# SEGUE EXEMPLO\n",
    "def teste(b):\n",
    "    global a\n",
    "    a = 8\n",
    "    b += 4                      #Escopo locas\n",
    "    c = 2                       #Escopo local\n",
    "    print(f'A dentro vale {a}')\n",
    "    print(f'B dentro vale {b}')\n",
    "    print(f'C dentro vale {c}')\n",
    "    \n",
    "a = 5                           #Escopo global\n",
    "teste(a)\n",
    "print(f'A de fora vale {a}')"
   ]
  },
  {
   "cell_type": "markdown",
   "id": "fe846155",
   "metadata": {},
   "source": [
    " Perceba que o A de dentro mudou para 8."
   ]
  },
  {
   "cell_type": "markdown",
   "id": "b5b3b601",
   "metadata": {},
   "source": [
    "________"
   ]
  },
  {
   "cell_type": "markdown",
   "id": "7d596f3f",
   "metadata": {},
   "source": [
    "### RETORNANDO VALORES"
   ]
  },
  {
   "cell_type": "markdown",
   "id": "ee5b985f",
   "metadata": {},
   "source": [
    "________"
   ]
  },
  {
   "cell_type": "code",
   "execution_count": 22,
   "id": "52baf394",
   "metadata": {},
   "outputs": [
    {
     "name": "stdout",
     "output_type": "stream",
     "text": [
      "Meus cálculos deram 10, 8 e 4.\n"
     ]
    }
   ],
   "source": [
    "# Para se ter maior flexibilidade com as variáveis de uma função o ideal é usar o return.\n",
    "def somar(a = 0, b = 0, c = 0):\n",
    "    s = a + b + c\n",
    "    return s\n",
    "\n",
    "r1 = somar(3, 2, 5)\n",
    "r2 = somar(1, 7)\n",
    "r3 = somar(4)\n",
    "print(f'Meus cálculos deram {r1}, {r2} e {r3}.')\n"
   ]
  },
  {
   "cell_type": "markdown",
   "id": "ee13d7a5",
   "metadata": {},
   "source": [
    "#### Se não fosse utilizado o return não seria possível escrever esse print."
   ]
  }
 ],
 "metadata": {
  "kernelspec": {
   "display_name": "Python 3",
   "language": "python",
   "name": "python3"
  },
  "language_info": {
   "codemirror_mode": {
    "name": "ipython",
    "version": 3
   },
   "file_extension": ".py",
   "mimetype": "text/x-python",
   "name": "python",
   "nbconvert_exporter": "python",
   "pygments_lexer": "ipython3",
   "version": "3.8.8"
  }
 },
 "nbformat": 4,
 "nbformat_minor": 5
}
