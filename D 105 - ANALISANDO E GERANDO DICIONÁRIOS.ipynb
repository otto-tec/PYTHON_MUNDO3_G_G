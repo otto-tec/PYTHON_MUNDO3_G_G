{
 "cells": [
  {
   "cell_type": "markdown",
   "id": "797247a7",
   "metadata": {},
   "source": [
    "## DESAFIO 105\n",
    "### Faça um programa que tenha uma função notas() que pode receber várias notas de alunos e vai retornar um dicionário com as seguintes informações:\n",
    "#### - Quantidade de notas\n",
    "#### - A maior nota \n",
    "#### - A menor nota\n",
    "#### - A situação (opcional)\n",
    "#### - A média da turma\n",
    "#### Adicione também as docstrings."
   ]
  },
  {
   "cell_type": "code",
   "execution_count": 29,
   "id": "7ff621e8",
   "metadata": {},
   "outputs": [
    {
     "name": "stdout",
     "output_type": "stream",
     "text": [
      "{'total': 3, 'maior': 10, 'menor': 6, 'média': 8.0}\n"
     ]
    }
   ],
   "source": [
    "# PROGRAMA QUE EU FIZ\n",
    "def notas(*num, sit = False):\n",
    "    resp = dict()\n",
    "    tot = num\n",
    "    resp['total'] = len(num)\n",
    "    resp['maior'] = max(num)\n",
    "    resp['menor'] = min(num)\n",
    "    media = sum(num) / len(num)\n",
    "    resp['média'] = media\n",
    "    if sit:\n",
    "        if resp['média'] <= 5:\n",
    "            resp['situação'] = 'Ruim'\n",
    "        elif resp['média'] <= 7:\n",
    "            resp['situação'] = 'Razoavel'\n",
    "        elif resp['média'] <= 10:\n",
    "            resp['situação'] = 'Boa'\n",
    "    return resp\n",
    "\n",
    "# PROGRAMA PRINCIPAL\n",
    "resp = notas(8, 10, 6 )\n",
    "print(resp)"
   ]
  },
  {
   "cell_type": "markdown",
   "id": "1fe6abe3",
   "metadata": {},
   "source": [
    "________"
   ]
  },
  {
   "cell_type": "code",
   "execution_count": 30,
   "id": "a9f13b46",
   "metadata": {},
   "outputs": [
    {
     "name": "stdout",
     "output_type": "stream",
     "text": [
      "{'total': 3, 'maior': 10, 'menor': 6, 'média': 8.0, 'situação': 'Boa'}\n"
     ]
    }
   ],
   "source": [
    "# PROGRAMA QUE EU FIZ\n",
    "def notas(*num, sit = False):\n",
    "    resp = dict()\n",
    "    tot = num\n",
    "    resp['total'] = len(num)\n",
    "    resp['maior'] = max(num)\n",
    "    resp['menor'] = min(num)\n",
    "    media = sum(num) / len(num)\n",
    "    resp['média'] = media\n",
    "    if sit:\n",
    "        if resp['média'] <= 5:\n",
    "            resp['situação'] = 'Ruim'\n",
    "        elif resp['média'] <= 7:\n",
    "            resp['situação'] = 'Razoavel'\n",
    "        elif resp['média'] <= 10:\n",
    "            resp['situação'] = 'Boa'\n",
    "    return resp\n",
    "\n",
    "# PROGRAMA PRINCIPAL\n",
    "resp = notas(8, 10, 6, sit = True)\n",
    "print(resp)"
   ]
  },
  {
   "cell_type": "code",
   "execution_count": 31,
   "id": "6fda5188",
   "metadata": {},
   "outputs": [
    {
     "name": "stdout",
     "output_type": "stream",
     "text": [
      "{'total': 3, 'maior': 5.5, 'menor': 1.5, 'média': 3.1666666666666665, 'situação': 'RUIM'}\n",
      "Help on function notas in module __main__:\n",
      "\n",
      "notas(*n, sit=False)\n",
      "    -> Função para analisar notas e situações de vários alunos.\n",
      "    : param n: uma ou mais notas dos alunos (aceita várias)\n",
      "    : param sit: valor opcional, indicando se deve ou não aadicionar a situação.\n",
      "    : return: dicionário com várias informações sobre a situação da turma.\n",
      "\n"
     ]
    }
   ],
   "source": [
    "# PROGRAMA QUE O GUSTAVO FEZ\n",
    "def notas(*n, sit = False):\n",
    "    \"\"\"\n",
    "    -> Função para analisar notas e situações de vários alunos.\n",
    "    : param n: uma ou mais notas dos alunos (aceita várias)\n",
    "    : param sit: valor opcional, indicando se deve ou não aadicionar a situação.\n",
    "    : return: dicionário com várias informações sobre a situação da turma.\"\"\"\n",
    "    \n",
    "    r = dict()\n",
    "    r['total'] = len(n)\n",
    "    r['maior'] = max(n)\n",
    "    r['menor'] = min(n)\n",
    "    r['média'] = sum(n) / len(n)\n",
    "    if sit:\n",
    "        if r['média'] >= 7:\n",
    "            r['situação'] = 'BOA'\n",
    "        elif r['média'] >= 5:\n",
    "            r['situação'] = 'RAZOÁVEL'\n",
    "        else:\n",
    "            r['situação'] = 'RUIM'\n",
    "    return r\n",
    "\n",
    "#Programa Principal\n",
    "resp = notas(5.5, 2.5, 1.5, sit=True)\n",
    "print(resp)\n",
    "help(notas)"
   ]
  },
  {
   "cell_type": "markdown",
   "id": "33d505d3",
   "metadata": {},
   "source": [
    "### OBSERVAÇÕES:\n",
    "As programações ficaram quase identicas, a única diferença é que eu esqueci de adicionar a docstring!"
   ]
  }
 ],
 "metadata": {
  "kernelspec": {
   "display_name": "Python 3",
   "language": "python",
   "name": "python3"
  },
  "language_info": {
   "codemirror_mode": {
    "name": "ipython",
    "version": 3
   },
   "file_extension": ".py",
   "mimetype": "text/x-python",
   "name": "python",
   "nbconvert_exporter": "python",
   "pygments_lexer": "ipython3",
   "version": "3.8.8"
  }
 },
 "nbformat": 4,
 "nbformat_minor": 5
}
