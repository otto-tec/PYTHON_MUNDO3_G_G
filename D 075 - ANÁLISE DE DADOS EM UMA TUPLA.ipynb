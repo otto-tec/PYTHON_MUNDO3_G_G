{
 "cells": [
  {
   "cell_type": "markdown",
   "id": "2e231b39",
   "metadata": {},
   "source": [
    "## DESAFIO 075\n",
    "### Desenvolva um programa que leia quatro valores pelo teclado e guarde-os em uma tupla. No final, mostre:\n",
    "#### A) Quantas vezes apareceu o valor 9\n",
    "#### B) Em que posição foi digitado o primeiro valor 3.\n",
    "#### C) Quais foram os números pares.\n"
   ]
  },
  {
   "cell_type": "code",
   "execution_count": 14,
   "id": "b439e201",
   "metadata": {},
   "outputs": [
    {
     "name": "stdout",
     "output_type": "stream",
     "text": [
      "Digite um número:1\n",
      "Digite outro número:2\n",
      "Digite mais um número:3\n",
      "Digite o último número:4\n",
      "Você digitou os valores [1, 2, 3, 4]\n",
      "O valor 9 apareceu 0 vezes\n",
      "O valor 3 apareceu na 3° posição\n",
      "Os valores pares digitados foram \n",
      "2 ,4 ,"
     ]
    }
   ],
   "source": [
    "n1 = int(input('Digite um número:'))\n",
    "n2 = int(input('Digite outro número:'))\n",
    "n3 = int(input('Digite mais um número:'))\n",
    "n4 = int(input('Digite o último número:'))\n",
    "tupla = (n1, n2, n3, n4) # Muito simples. Basta colocar entre aspas que vira uma tupla\n",
    " \n",
    "print(f'Você digitou os valores {tupla}')\n",
    "print(f'O valor 9 apareceu {tupla.count(9)} vezes')\n",
    "print(f'O valor {3} apareceu na {tupla.index(3)+1}° posição')\n",
    "print('Os valores pares digitados foram ')\n",
    "\n",
    "for n in tupla:\n",
    "    if n % 2 == 0:\n",
    "        print(n,',', end='')\n"
   ]
  },
  {
   "cell_type": "markdown",
   "id": "26ab07d0",
   "metadata": {},
   "source": [
    "## ATENÇÃO\n",
    "### Na parte do FOR eu copiei do Gustavo. Descobri que nem lista, nem tupla aceitam operadores. Para trabalhar com as mesmas é necessário transforma-las. O FOR fez esse processo e permitiu rastrear todos os indices da lista também."
   ]
  },
  {
   "cell_type": "code",
   "execution_count": null,
   "id": "74221706",
   "metadata": {},
   "outputs": [],
   "source": []
  }
 ],
 "metadata": {
  "kernelspec": {
   "display_name": "Python 3",
   "language": "python",
   "name": "python3"
  },
  "language_info": {
   "codemirror_mode": {
    "name": "ipython",
    "version": 3
   },
   "file_extension": ".py",
   "mimetype": "text/x-python",
   "name": "python",
   "nbconvert_exporter": "python",
   "pygments_lexer": "ipython3",
   "version": "3.8.8"
  }
 },
 "nbformat": 4,
 "nbformat_minor": 5
}
