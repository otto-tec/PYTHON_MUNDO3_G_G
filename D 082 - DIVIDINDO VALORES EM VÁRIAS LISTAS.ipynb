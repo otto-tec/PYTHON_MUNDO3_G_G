{
 "cells": [
  {
   "cell_type": "markdown",
   "id": "42accd5b",
   "metadata": {},
   "source": [
    "## DESAFIO 082\n",
    "### Crie um programa que vai ler vários números e colocar em uma lista. Depois disso, crie duas listas extras que vão conter apenas os valores pares e os valores ímpares digitados, respectivamente. Ao final, mostre o conteúdo das três listas geradas."
   ]
  },
  {
   "cell_type": "code",
   "execution_count": 40,
   "id": "bda258c2",
   "metadata": {},
   "outputs": [
    {
     "name": "stdout",
     "output_type": "stream",
     "text": [
      "============================================================\n",
      "             CLASSIFICANDO VALORES DE UMA LISTA             \n",
      "============================================================\n",
      "Insira um número inteiro: 3\n",
      "Deseja continuar? [S/N] s\n",
      "Insira um número inteiro: 2\n",
      "Deseja continuar? [S/N] s\n",
      "Insira um número inteiro: 5\n",
      "Deseja continuar? [S/N] s\n",
      "Insira um número inteiro: 1\n",
      "Deseja continuar? [S/N] s\n",
      "Insira um número inteiro: 4\n",
      "Deseja continuar? [S/N] n\n",
      "============================================================\n",
      "A lista de números digitada foi: [3, 2, 5, 1, 4]\n",
      "------------------------------------------------------------\n",
      "A lista de números em ordem cresc. é: [1, 2, 3, 4, 5]\n",
      "------------------------------------------------------------\n",
      "A lista somente com os números pares é: [2, 4]\n",
      "------------------------------------------------------------\n",
      "A lista somente com os números impares é: [3, 5, 1]\n"
     ]
    }
   ],
   "source": [
    "# Fiz a parte que cria a lista e coloca em ordem crescente. A outra parte peguei do Gustavo.\n",
    "import time \n",
    "print('=' * 60)\n",
    "print('CLASSIFICANDO VALORES DE UMA LISTA'.center(60))\n",
    "print('=' * 60)\n",
    "time.sleep(0.5)\n",
    "\n",
    "n = list()\n",
    "pares = list()\n",
    "impares = list()\n",
    "s = 'S'\n",
    "while True:\n",
    "    if s == 'S':\n",
    "        n.append(int(input('Insira um número inteiro: ')))\n",
    "        s = input('Deseja continuar? [S/N] ').upper().split()[0]\n",
    "        \n",
    "    if s == 'N':\n",
    "        break\n",
    "    elif s not in  'NS':\n",
    "        print('Você digitou um caracter inválido!')\n",
    "        s = input('Deseja continuar? [S/N] ').upper().split()[0]\n",
    "\n",
    "for i, v in enumerate(n):\n",
    "    if v % 2 == 0:\n",
    "        pares.append(v)\n",
    "    elif v % 2 == 1:\n",
    "        impares.append(v)\n",
    "    \n",
    "print('=' * 60)\n",
    "print(f'A lista de números digitada foi: {n}')\n",
    "print('-' * 60)\n",
    "n.sort()\n",
    "print(f'A lista de números em ordem cresc. é: {n}')\n",
    "print('-' * 60)\n",
    "print(f'A lista somente com os números pares é: {pares}')\n",
    "print('-' * 60)\n",
    "print(f'A lista somente com os números impares é: {impares}')\n"
   ]
  },
  {
   "cell_type": "code",
   "execution_count": 36,
   "id": "d93366b1",
   "metadata": {},
   "outputs": [
    {
     "name": "stdout",
     "output_type": "stream",
     "text": [
      "Digite um número: 1\n",
      "Quer continuar? [S/N] s\n",
      "Digite um número: 2\n",
      "Quer continuar? [S/N] s\n",
      "Digite um número: 3\n",
      "Quer continuar? [S/N] s\n",
      "Digite um número: 4\n",
      "Quer continuar? [S/N] s\n",
      "Digite um número: 5\n",
      "Quer continuar? [S/N] n\n",
      "-=-=-=-=-=-=-=-=-=-=-=-=-=-=-=-=-=-=-=-=-=-=-=-=-=-=-=-=-=-=\n",
      "A lista completa é [1, 2, 3, 4, 5]\n",
      "A lista de pares é [2, 4]\n",
      "A lista de impares é [1, 3, 5]\n"
     ]
    }
   ],
   "source": [
    "# Programação totalmente feita pelo Gustavo.\n",
    "num = list()\n",
    "pares = list()\n",
    "impares = list()\n",
    "while True:\n",
    "    num.append(int(input('Digite um número: ')))\n",
    "    resp = str(input('Quer continuar? [S/N] '))\n",
    "    if resp in 'Nn':\n",
    "        break\n",
    "for i, v in enumerate(num):\n",
    "    if v % 2 == 0:\n",
    "        pares.append(v)\n",
    "    elif v % 2 == 1:\n",
    "        impares.append(v)\n",
    "\n",
    "print('-=' * 30)\n",
    "print(f'A lista completa é {num}')\n",
    "print(f'A lista de pares é {pares}')\n",
    "print(f'A lista de impares é {impares}')"
   ]
  },
  {
   "cell_type": "markdown",
   "id": "5acdeac9",
   "metadata": {},
   "source": [
    "## IMPORTANTE\n",
    "### Minha programação estava dando errado devido a colocar a entrada das variáveis na mesma linha:\n",
    "\n",
    "### n = par = impar = list()    ====> Dessa forma NÃO FUNCIONA!!!\n",
    "\n",
    "#### Talvez dê certo mesmo quando se coloca uma string, mas transformando em lista, tupla ou dicionário creio que não."
   ]
  },
  {
   "cell_type": "code",
   "execution_count": null,
   "id": "f310371e",
   "metadata": {},
   "outputs": [],
   "source": []
  }
 ],
 "metadata": {
  "kernelspec": {
   "display_name": "Python 3",
   "language": "python",
   "name": "python3"
  },
  "language_info": {
   "codemirror_mode": {
    "name": "ipython",
    "version": 3
   },
   "file_extension": ".py",
   "mimetype": "text/x-python",
   "name": "python",
   "nbconvert_exporter": "python",
   "pygments_lexer": "ipython3",
   "version": "3.8.8"
  }
 },
 "nbformat": 4,
 "nbformat_minor": 5
}
