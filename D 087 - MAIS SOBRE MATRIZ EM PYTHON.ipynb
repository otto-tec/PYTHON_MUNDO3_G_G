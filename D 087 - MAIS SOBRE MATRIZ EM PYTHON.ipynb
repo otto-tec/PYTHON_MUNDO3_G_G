{
 "cells": [
  {
   "cell_type": "markdown",
   "id": "6dea4ff2",
   "metadata": {},
   "source": [
    "## DESAFIO 087\n",
    "### Aprimore o desafio anterior, mostrando no final:\n",
    "#### A) A soma de todos os valores pares digitados\n",
    "#### B) A soma dos valores da teceira coluna.\n",
    "#### C) O maior valor da segunda linha."
   ]
  },
  {
   "cell_type": "code",
   "execution_count": 18,
   "id": "e7c506d4",
   "metadata": {},
   "outputs": [
    {
     "name": "stdout",
     "output_type": "stream",
     "text": [
      "************************************************************\n",
      "             MATRIZ - MANIPULAÇÃO DE ELEMENTOS              \n",
      "************************************************************\n",
      "Digite um valor para [0, 0]: 8\n",
      "Digite um valor para [0, 1]: 6\n",
      "Digite um valor para [0, 2]: 12\n",
      "Digite um valor para [1, 0]: 8\n",
      "Digite um valor para [1, 1]: 7\n",
      "Digite um valor para [1, 2]: 5\n",
      "Digite um valor para [2, 0]: 4\n",
      "Digite um valor para [2, 1]: 3\n",
      "Digite um valor para [2, 2]: 2\n",
      "-=-=-=-=-=-=-=-=-=-=-=-=-=-=-=-=-=-=-=-=-=-=-=-=-=-=-=-=-=-=\n",
      "[  8  ][  6  ][ 12  ]\n",
      "[  8  ][  7  ][  5  ]\n",
      "[  4  ][  3  ][  2  ]\n",
      "============================================================\n",
      "      A soma de todos os valores pares digitados é 40       \n",
      "____________________________________________________________\n",
      "         A soma dos valores da terceira coluna é 19         \n",
      "____________________________________________________________\n",
      "             O maior valor da segunda linha é 8             \n"
     ]
    }
   ],
   "source": [
    "# Programação que eu fiz.\n",
    "import time, re\n",
    "print('*' * 60)\n",
    "print('MATRIZ - MANIPULAÇÃO DE ELEMENTOS'.center(60))\n",
    "print('*' * 60)\n",
    "time.sleep(0.5)\n",
    "\n",
    "sum_val = sum_th = 0\n",
    "max_val = 0\n",
    "\n",
    "matriz = [[0, 0, 0], [0, 0, 0], [0, 0, 0]] # Aqui ele já criou uma lista com todas as linhas e indexadores\n",
    "for l in range(0, 3):                      # Esse for é para a linha\n",
    "    for c in range(0,3):                   # Esse for é para a coluna\n",
    "        matriz[l][c] = int(input(f'Digite um valor para [{l}, {c}]: '))\n",
    "        if matriz[l][c] % 2 == 0:          # Somando os números pares da matriz\n",
    "            sum_val += matriz[l][c]\n",
    "        if matriz[l][2] > 0:               # Somando os números da terceira coluna\n",
    "            sum_th += matriz[l][2]\n",
    "        if matriz[1][c] > max_val:         # Obtendo o maior valor da segunda linha\n",
    "            max_val = matriz[1][c]\n",
    "\n",
    "print('-=' * 30)\n",
    "for l in range(0, 3):                      # Esse sistema é para o posicionamento no print\n",
    "        for c in range(0, 3):\n",
    "            print(f'[{matriz[l][c]:^5}]', end='') # Esse ^5 é para deixar 5 casas de apresentação. \n",
    "                                                  #Assim os números ficam alinhados quando mostrados na matriz\n",
    "        print()                            # Esse print vazio serve para que ele pule uma linha\n",
    "        \n",
    "print('=' * 60)\n",
    "print(f'A soma de todos os valores pares digitados é {sum_val}'.center(60))\n",
    "print('_' * 60)\n",
    "print(f'A soma dos valores da terceira coluna é {sum_th}'.center(60))\n",
    "print('_' * 60)\n",
    "print(f'O maior valor da segunda linha é {max_val}'.center(60))"
   ]
  },
  {
   "cell_type": "markdown",
   "id": "9b09c126",
   "metadata": {},
   "source": [
    " ______"
   ]
  },
  {
   "cell_type": "code",
   "execution_count": 22,
   "id": "3f0389dd",
   "metadata": {
    "scrolled": true
   },
   "outputs": [
    {
     "name": "stdout",
     "output_type": "stream",
     "text": [
      "Digite um valor para [0, 0]: 1\n",
      "Digite um valor para [0, 1]: 2\n",
      "Digite um valor para [0, 2]: 3\n",
      "Digite um valor para [1, 0]: 4\n",
      "Digite um valor para [1, 1]: 5\n",
      "Digite um valor para [1, 2]: 6\n",
      "Digite um valor para [2, 0]: 7\n",
      "Digite um valor para [2, 1]: 8\n",
      "Digite um valor para [2, 2]: 9\n",
      "-=-=-=-=-=-=-=-=-=-=-=-=-=-=-=-=-=-=-=-=-=-=-=-=-=-=-=-=-=-=\n",
      "[  1  ][  2  ][  3  ]\n",
      "[  4  ][  5  ][  6  ]\n",
      "[  7  ][  8  ][  9  ]\n",
      "-=-=-=-=-=-=-=-=-=-=-=-=-=-=-=-=-=-=-=-=-=-=-=-=-=-=-=-=-=-=\n",
      "A soma dos valores pares é 20\n",
      "A soma dos valores da terceira coluna é 18\n",
      "O maior valor da segunda linha é 6\n"
     ]
    }
   ],
   "source": [
    "# Programação que o Gustavo fez.\n",
    "\n",
    "matriz = [[0, 0, 0], [0, 0, 0], [0, 0, 0]] # Aqui ele já criou uma lista com todas as linhas e indexadores\n",
    "spar = mai = scol = 0\n",
    "for l in range(0, 3):                      # Esse for é para a linha\n",
    "    for c in range(0,3):                   # Esse for é para a coluna\n",
    "        matriz[l][c] = int(input(f'Digite um valor para [{l}, {c}]: '))     \n",
    "print('-=' * 30)\n",
    "for l in range(0, 3):                      # Esse sistema é para o posicionamento no print\n",
    "        for c in range(0, 3):\n",
    "            print(f'[{matriz[l][c]:^5}]', end='') # Esse ^5 é para deixar 5 casas de apresentação. \n",
    "            if matriz[l][c] % 2 == 0:\n",
    "                spar += matriz[l][c]\n",
    "        print()                            # Esse print vazio serve para que ele pule uma linha\n",
    "        \n",
    "print('-=' * 30)\n",
    "print(f'A soma dos valores pares é {spar}')\n",
    "for l in range(0, 3):\n",
    "    scol += matriz[l][2]\n",
    "print(f'A soma dos valores da terceira coluna é {scol}')\n",
    "for l in range(0, 3):\n",
    "    if c == 0:\n",
    "        mai = matriz[1][c]\n",
    "    elif matriz[1][c] > mai:\n",
    "        mai = matriz[1][c]\n",
    "print(f'O maior valor da segunda linha é {mai}')\n"
   ]
  },
  {
   "cell_type": "markdown",
   "id": "84ea5774",
   "metadata": {},
   "source": [
    "### OBSERVAÇÕES:\n",
    "#### Na programação do Guanabara foi colocado outros laços FOR para gerarem o resultado esperado nas saidas. Eu fiz diferente, usei os próprios laços já declarados para trabalhar com as minhas condicionais. Deixei o programa mais enxuto e organizado. Parabens Otto!"
   ]
  },
  {
   "cell_type": "code",
   "execution_count": null,
   "id": "5231173b",
   "metadata": {},
   "outputs": [],
   "source": []
  }
 ],
 "metadata": {
  "kernelspec": {
   "display_name": "Python 3",
   "language": "python",
   "name": "python3"
  },
  "language_info": {
   "codemirror_mode": {
    "name": "ipython",
    "version": 3
   },
   "file_extension": ".py",
   "mimetype": "text/x-python",
   "name": "python",
   "nbconvert_exporter": "python",
   "pygments_lexer": "ipython3",
   "version": "3.8.8"
  }
 },
 "nbformat": 4,
 "nbformat_minor": 5
}
