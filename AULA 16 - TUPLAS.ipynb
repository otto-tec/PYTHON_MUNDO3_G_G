{
 "cells": [
  {
   "cell_type": "markdown",
   "id": "017e8f31",
   "metadata": {},
   "source": [
    "## VARIÁVEIS COMPOSTAS\n",
    "### Existem 3 tipos de variáveis compostas:\n",
    "#### LISTAS\n",
    "#### TUPLAS \n",
    "#### DICIONÁRIOS"
   ]
  },
  {
   "cell_type": "markdown",
   "id": "a578313f",
   "metadata": {},
   "source": [
    "##### Nesta aula iremos estudar tuplas (as tuplas são imutáveis)"
   ]
  },
  {
   "cell_type": "code",
   "execution_count": 6,
   "id": "c6932a6f",
   "metadata": {},
   "outputs": [
    {
     "name": "stdout",
     "output_type": "stream",
     "text": [
      "('Hamburguer', 'Suco', 'Pizza', 'Pudim')\n",
      "****************************************\n",
      "Hamburguer\n",
      "------------------------------\n",
      "Suco\n",
      "------------------------------\n",
      "Pizza\n",
      "------------------------------\n",
      "Pudim\n",
      "------------------------------\n",
      "('Suco', 'Pizza')\n",
      "('Pizza', 'Pudim')\n",
      "('Hamburguer', 'Suco')\n",
      "Pizza\n",
      "('Suco', 'Pizza', 'Pudim')\n"
     ]
    }
   ],
   "source": [
    "# Quando coloca-se uma lista em um laço for, ele somente mostra o 1° indice\n",
    "\n",
    "lanche = ('Hamburguer', 'Suco', 'Pizza', 'Pudim')\n",
    "print(lanche)\n",
    "print('*' * 40)\n",
    "for c in lanche:\n",
    "    print(c)\n",
    "    print('-' * 30)\n",
    "\n",
    "# Técnicas de fatiamento\n",
    "print(lanche[1:3]) # o indice 3 não conta\n",
    "print(lanche[2:])  # do indice 2 até o final\n",
    "print(lanche[:2])  # Vai do indice 0 até o 1\n",
    "print(lanche[-2])  # De trás para frente, o 2° elemento é a Pizza\n",
    "print(lanche[-3:]) # Esse caso é interessante pois começa de trás para frente e em sequencia conta da esquerda para direita.\n"
   ]
  },
  {
   "cell_type": "code",
   "execution_count": 7,
   "id": "47d74efb",
   "metadata": {},
   "outputs": [
    {
     "ename": "TypeError",
     "evalue": "'tuple' object does not support item assignment",
     "output_type": "error",
     "traceback": [
      "\u001b[1;31m---------------------------------------------------------------------------\u001b[0m",
      "\u001b[1;31mTypeError\u001b[0m                                 Traceback (most recent call last)",
      "\u001b[1;32m<ipython-input-7-f304ef6d5a93>\u001b[0m in \u001b[0;36m<module>\u001b[1;34m\u001b[0m\n\u001b[0;32m      1\u001b[0m \u001b[0mlanche\u001b[0m \u001b[1;33m=\u001b[0m \u001b[1;33m(\u001b[0m\u001b[1;34m'Hamburguer'\u001b[0m\u001b[1;33m,\u001b[0m \u001b[1;34m'Suco'\u001b[0m\u001b[1;33m,\u001b[0m \u001b[1;34m'Pizza'\u001b[0m\u001b[1;33m,\u001b[0m \u001b[1;34m'Pudim'\u001b[0m\u001b[1;33m)\u001b[0m\u001b[1;33m\u001b[0m\u001b[1;33m\u001b[0m\u001b[0m\n\u001b[0;32m      2\u001b[0m \u001b[1;33m\u001b[0m\u001b[0m\n\u001b[1;32m----> 3\u001b[1;33m \u001b[0mlanche\u001b[0m\u001b[1;33m[\u001b[0m\u001b[1;36m1\u001b[0m\u001b[1;33m]\u001b[0m \u001b[1;33m=\u001b[0m \u001b[1;34m'Refrigerante'\u001b[0m\u001b[1;33m\u001b[0m\u001b[1;33m\u001b[0m\u001b[0m\n\u001b[0m\u001b[0;32m      4\u001b[0m \u001b[0mprint\u001b[0m\u001b[1;33m(\u001b[0m\u001b[0mlanche\u001b[0m\u001b[1;33m[\u001b[0m\u001b[1;36m1\u001b[0m\u001b[1;33m]\u001b[0m\u001b[1;33m)\u001b[0m\u001b[1;33m\u001b[0m\u001b[1;33m\u001b[0m\u001b[0m\n",
      "\u001b[1;31mTypeError\u001b[0m: 'tuple' object does not support item assignment"
     ]
    }
   ],
   "source": [
    "lanche = ('Hamburguer', 'Suco', 'Pizza', 'Pudim')\n",
    "\n",
    "lanche[1] = 'Refrigerante'\n",
    "print(lanche[1])"
   ]
  },
  {
   "cell_type": "markdown",
   "id": "acb35b8f",
   "metadata": {},
   "source": [
    "#### O erro acima mostra que não podemos mudar um indice de uma tupla. Elas são imutáveis."
   ]
  },
  {
   "cell_type": "code",
   "execution_count": 9,
   "id": "fd00a50d",
   "metadata": {},
   "outputs": [
    {
     "name": "stdout",
     "output_type": "stream",
     "text": [
      "Eu vou comer Hamburguer\n",
      "Eu vou comer Suco\n",
      "Eu vou comer Pizza\n",
      "Eu vou comer Pudim\n",
      "Eu vou comer Batata Frita\n",
      "Comi pra caramba!\n"
     ]
    }
   ],
   "source": [
    "# Testes utilizando tupla\n",
    "\n",
    "lanche = ('Hamburguer', 'Suco', 'Pizza', 'Pudim', 'Batata Frita')\n",
    "\n",
    "for cont in range(0, len(lanche)):\n",
    "    print(f'Eu vou comer {lanche[cont]}')\n",
    "print('Comi pra caramba!')\n"
   ]
  },
  {
   "cell_type": "code",
   "execution_count": 10,
   "id": "5f281150",
   "metadata": {},
   "outputs": [
    {
     "name": "stdout",
     "output_type": "stream",
     "text": [
      "Eu vou comer Hamburguer\n",
      "Eu vou comer Suco\n",
      "Eu vou comer Pizza\n",
      "Eu vou comer Pudim\n",
      "Eu vou comer Batata Frita\n",
      "Comi pra caramba!\n"
     ]
    }
   ],
   "source": [
    "# Outra forma de usar o laço for\n",
    "lanche = ('Hamburguer', 'Suco', 'Pizza', 'Pudim', 'Batata Frita')\n",
    "\n",
    "for comida in lanche:\n",
    "    print(f'Eu vou comer {comida}')\n",
    "print('Comi pra caramba!')\n",
    "\n"
   ]
  },
  {
   "cell_type": "code",
   "execution_count": 11,
   "id": "8a2f8b0d",
   "metadata": {},
   "outputs": [
    {
     "name": "stdout",
     "output_type": "stream",
     "text": [
      "Eu vou comer Hamburguer na posição 0\n",
      "Eu vou comer Suco na posição 1\n",
      "Eu vou comer Pizza na posição 2\n",
      "Eu vou comer Pudim na posição 3\n",
      "Eu vou comer Batata Frita na posição 4\n",
      "Comi pra caramba!\n"
     ]
    }
   ],
   "source": [
    "# Usando o for para mostrar uma posição\n",
    "lanche = ('Hamburguer', 'Suco', 'Pizza', 'Pudim', 'Batata Frita')\n",
    "\n",
    "for cont in range(0, len(lanche)):\n",
    "    print(f'Eu vou comer {lanche[cont]} na posição {cont}')\n",
    "print('Comi pra caramba!')"
   ]
  },
  {
   "cell_type": "code",
   "execution_count": 12,
   "id": "699be61a",
   "metadata": {},
   "outputs": [
    {
     "name": "stdout",
     "output_type": "stream",
     "text": [
      "Eu vou comer Hamburguer na posição 0\n",
      "Eu vou comer Suco na posição 1\n",
      "Eu vou comer Pizza na posição 2\n",
      "Eu vou comer Pudim na posição 3\n",
      "Eu vou comer Batata Frita na posição 4\n",
      "Comi pra caramba!\n"
     ]
    }
   ],
   "source": [
    "#Usando o for para mostrar uma posição baseado no 2° exemplo de for\n",
    "\n",
    "lanche = ('Hamburguer', 'Suco', 'Pizza', 'Pudim', 'Batata Frita')\n",
    "\n",
    "for pos, comida in enumerate(lanche):\n",
    "    print(f'Eu vou comer {comida} na posição {pos}')\n",
    "print('Comi pra caramba!')\n",
    "\n"
   ]
  },
  {
   "cell_type": "code",
   "execution_count": 13,
   "id": "dc4a3994",
   "metadata": {},
   "outputs": [
    {
     "name": "stdout",
     "output_type": "stream",
     "text": [
      "['Batata Frita', 'Hamburguer', 'Pizza', 'Pudim', 'Suco']\n",
      "('Hamburguer', 'Suco', 'Pizza', 'Pudim', 'Batata Frita')\n"
     ]
    }
   ],
   "source": [
    "# Mostrando uma tupla em ordem\n",
    "\n",
    "lanche = ('Hamburguer', 'Suco', 'Pizza', 'Pudim', 'Batata Frita')\n",
    "\n",
    "print(sorted(lanche))\n",
    "print(lanche)\n"
   ]
  },
  {
   "cell_type": "markdown",
   "id": "bd25da1e",
   "metadata": {},
   "source": [
    "#### Como você pode perceber na programação acima, a tupla pode ser organizada. Mas a tupla não muda a sua estrutura, isso é possivel perceber vendo-se no print abaixo."
   ]
  },
  {
   "cell_type": "code",
   "execution_count": 15,
   "id": "7c6d4a7d",
   "metadata": {},
   "outputs": [
    {
     "name": "stdout",
     "output_type": "stream",
     "text": [
      "(2, 5, 4, 5, 8, 1, 2)\n",
      "====================\n",
      "(5, 8, 1, 2, 2, 5, 4)\n"
     ]
    }
   ],
   "source": [
    "# Associando 2 tuplas\n",
    "\n",
    "a = (2, 5, 4)\n",
    "b = (5, 8, 1, 2)\n",
    "c = a + b\n",
    "print(c)\n",
    "print('=' * 20)\n",
    "d = b + a\n",
    "print(d)"
   ]
  },
  {
   "cell_type": "markdown",
   "id": "82c6285c",
   "metadata": {},
   "source": [
    "#### Perceba que no exemplo acima ele faz praticamente uma concatenação.  É possível verificar também que ela respeita a ordem a ser apresentada (a + b) é diferente de (b + a)"
   ]
  },
  {
   "cell_type": "code",
   "execution_count": 16,
   "id": "c9a8a3d2",
   "metadata": {},
   "outputs": [
    {
     "name": "stdout",
     "output_type": "stream",
     "text": [
      "2\n"
     ]
    }
   ],
   "source": [
    "# Sabendo quantos elementos iguais temos em uma tupla\n",
    "\n",
    "a = (2, 5, 4)\n",
    "b = (5, 8, 1, 2)\n",
    "c = a + b\n",
    "print(c.count(5))"
   ]
  },
  {
   "cell_type": "code",
   "execution_count": 18,
   "id": "ced816b1",
   "metadata": {},
   "outputs": [
    {
     "name": "stdout",
     "output_type": "stream",
     "text": [
      "(2, 5, 4, 5, 8, 1, 2)\n",
      "1\n"
     ]
    }
   ],
   "source": [
    "# Sabendo a posição que é mostrado um elemento. Se houver mais de 1 igual, ele irá mostrar o 1° da tupla.\n",
    "\n",
    "a = (2, 5, 4)\n",
    "b = (5, 8, 1, 2)\n",
    "c = a + b\n",
    "print(c)\n",
    "print(c.index(5))"
   ]
  },
  {
   "cell_type": "code",
   "execution_count": 20,
   "id": "85218209",
   "metadata": {},
   "outputs": [
    {
     "name": "stdout",
     "output_type": "stream",
     "text": [
      "(2, 5, 4, 5, 8, 1, 2)\n",
      "3\n"
     ]
    }
   ],
   "source": [
    "# Mesma aplicação porem quando você quer que ele 'Pule' o rastreio\n",
    "\n",
    "a = (2, 5, 4)\n",
    "b = (5, 8, 1, 2)\n",
    "c = a + b\n",
    "print(c)\n",
    "print(c.index(5, 2))"
   ]
  },
  {
   "cell_type": "markdown",
   "id": "6f4c70d9",
   "metadata": {},
   "source": [
    "#### É possível criar tuplas com diferentes tipos de dados. Exemplo:"
   ]
  },
  {
   "cell_type": "code",
   "execution_count": 21,
   "id": "6b4fc4d1",
   "metadata": {},
   "outputs": [
    {
     "name": "stdout",
     "output_type": "stream",
     "text": [
      "('Gustavo', 39, 'M', 99.88)\n"
     ]
    }
   ],
   "source": [
    "pessoa = ('Gustavo', 39, 'M', 99.88)\n",
    "print(pessoa)"
   ]
  },
  {
   "cell_type": "code",
   "execution_count": 22,
   "id": "4411b434",
   "metadata": {},
   "outputs": [
    {
     "ename": "NameError",
     "evalue": "name 'pessoa' is not defined",
     "output_type": "error",
     "traceback": [
      "\u001b[1;31m---------------------------------------------------------------------------\u001b[0m",
      "\u001b[1;31mNameError\u001b[0m                                 Traceback (most recent call last)",
      "\u001b[1;32m<ipython-input-22-7593013e740b>\u001b[0m in \u001b[0;36m<module>\u001b[1;34m\u001b[0m\n\u001b[0;32m      3\u001b[0m \u001b[0mpessoa\u001b[0m \u001b[1;33m=\u001b[0m \u001b[1;33m(\u001b[0m\u001b[1;34m'Gustavo'\u001b[0m\u001b[1;33m,\u001b[0m \u001b[1;36m39\u001b[0m\u001b[1;33m,\u001b[0m \u001b[1;34m'M'\u001b[0m\u001b[1;33m,\u001b[0m \u001b[1;36m99.88\u001b[0m\u001b[1;33m)\u001b[0m\u001b[1;33m\u001b[0m\u001b[1;33m\u001b[0m\u001b[0m\n\u001b[0;32m      4\u001b[0m \u001b[1;32mdel\u001b[0m\u001b[1;33m(\u001b[0m\u001b[0mpessoa\u001b[0m\u001b[1;33m)\u001b[0m\u001b[1;33m\u001b[0m\u001b[1;33m\u001b[0m\u001b[0m\n\u001b[1;32m----> 5\u001b[1;33m \u001b[0mprint\u001b[0m\u001b[1;33m(\u001b[0m\u001b[0mpessoa\u001b[0m\u001b[1;33m)\u001b[0m\u001b[1;33m\u001b[0m\u001b[1;33m\u001b[0m\u001b[0m\n\u001b[0m",
      "\u001b[1;31mNameError\u001b[0m: name 'pessoa' is not defined"
     ]
    }
   ],
   "source": [
    "# Pode-se apagar uma tupla. Veja\n",
    "\n",
    "pessoa = ('Gustavo', 39, 'M', 99.88)\n",
    "del(pessoa)\n",
    "print(pessoa)"
   ]
  },
  {
   "cell_type": "markdown",
   "id": "aa45de7e",
   "metadata": {},
   "source": [
    "#### Acima ele diz que a tupla pessoa é indefinida. Isso se deve porque apagamos ela, em sequencia mandamos imprimir. O sistema diz: Você quer imprimir o que? Não há nada para imprimir!!\n",
    "#### Observação: Ele não aceita deletar 1 item apenas da tupla, ou é tudo ou nada."
   ]
  },
  {
   "cell_type": "code",
   "execution_count": null,
   "id": "ef73402c",
   "metadata": {},
   "outputs": [],
   "source": []
  }
 ],
 "metadata": {
  "kernelspec": {
   "display_name": "Python 3",
   "language": "python",
   "name": "python3"
  },
  "language_info": {
   "codemirror_mode": {
    "name": "ipython",
    "version": 3
   },
   "file_extension": ".py",
   "mimetype": "text/x-python",
   "name": "python",
   "nbconvert_exporter": "python",
   "pygments_lexer": "ipython3",
   "version": "3.8.8"
  }
 },
 "nbformat": 4,
 "nbformat_minor": 5
}
