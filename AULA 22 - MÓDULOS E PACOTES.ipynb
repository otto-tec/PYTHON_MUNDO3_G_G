{
 "cells": [
  {
   "cell_type": "markdown",
   "id": "b27bb66b",
   "metadata": {},
   "source": [
    "## MODULARIZAÇÃO\n",
    "### FOCO:\n",
    "\n",
    "#### Dividir um programa grande\n",
    "#### aumentar a legibilidade\n",
    "#### facilitar a manutenção"
   ]
  },
  {
   "cell_type": "markdown",
   "id": "0524b4ac",
   "metadata": {},
   "source": [
    "_________"
   ]
  },
  {
   "cell_type": "markdown",
   "id": "f777b176",
   "metadata": {},
   "source": [
    "## ABAIXO TEM UMA APLICAÇÃO PRÁTICA DE CRIAÇÃO DE MÓDULO"
   ]
  },
  {
   "cell_type": "markdown",
   "id": "1b46150c",
   "metadata": {},
   "source": [
    "________"
   ]
  },
  {
   "cell_type": "code",
   "execution_count": 3,
   "id": "aa59a81a",
   "metadata": {},
   "outputs": [
    {
     "name": "stdout",
     "output_type": "stream",
     "text": [
      "Digite um valor: 5\n",
      "O fatorial de 5 é 120\n",
      "O dobro de 5 é 10\n"
     ]
    }
   ],
   "source": [
    "# PARA CONSEGUIR CRIAR MÓDULOS COM O JUPYTER É NECESSÁRIO IMPORTAR UMA BIBLIOTECA (PRIMEIRO NO ANACONDA): pip install import-ipynb\n",
    "import import_ipynb\n",
    "import modulo       # Esse é um conjunto de funções que eu criei em outro arquivo (modulo.ipynb). Tem que estar na mesma pasta.\n",
    "\n",
    "num = int(input('Digite um valor: '))\n",
    "fat = modulo.fatorial(num)\n",
    "print(f'O fatorial de {num} é {fat}')\n",
    "print(f'O dobro de {num} é {modulo.dobro(num)}')"
   ]
  },
  {
   "cell_type": "markdown",
   "id": "b2f176ef",
   "metadata": {},
   "source": [
    "______"
   ]
  },
  {
   "cell_type": "markdown",
   "id": "3550f289",
   "metadata": {},
   "source": [
    "### VANTAGENS\n",
    "#### \n",
    "#### Organização do código\n",
    "#### Facilicade na manutenção\n",
    "#### Ocultação de código detalhado\n",
    "#### Reutilização em outros projetos"
   ]
  },
  {
   "cell_type": "markdown",
   "id": "cf1600b9",
   "metadata": {},
   "source": [
    "__________"
   ]
  },
  {
   "cell_type": "markdown",
   "id": "290fd92e",
   "metadata": {},
   "source": [
    "### OBSERVAÇÃO:\n",
    "##### Quando temos um código muito grande para fazer, ao invés de usarmos módulo utilizados PACOTES. Em outras programações é chamado de BIBLIOTECAS."
   ]
  }
 ],
 "metadata": {
  "kernelspec": {
   "display_name": "Python 3",
   "language": "python",
   "name": "python3"
  },
  "language_info": {
   "codemirror_mode": {
    "name": "ipython",
    "version": 3
   },
   "file_extension": ".py",
   "mimetype": "text/x-python",
   "name": "python",
   "nbconvert_exporter": "python",
   "pygments_lexer": "ipython3",
   "version": "3.8.8"
  }
 },
 "nbformat": 4,
 "nbformat_minor": 5
}
