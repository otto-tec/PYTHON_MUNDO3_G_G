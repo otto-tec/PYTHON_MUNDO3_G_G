{
 "cells": [
  {
   "cell_type": "markdown",
   "id": "5608aa74",
   "metadata": {},
   "source": [
    "## DESAFIO 107\n",
    "### Crie um módulo chamado moeda.py que tenha as funções incorporadas aumentar(), diminuir(), dobro() e metade().\n",
    "### Faça também um programa que importe esse módulo e use algumas dessas funções."
   ]
  },
  {
   "cell_type": "code",
   "execution_count": 2,
   "id": "d891c7e0",
   "metadata": {},
   "outputs": [
    {
     "name": "stdout",
     "output_type": "stream",
     "text": [
      "Digite um preço: R$ 200\n",
      "O valor com um acrescimo de 10% é R$ 220.0\n",
      "O valor com o decrescimo de 30% é R$ 140.0\n",
      "A metade do valor R$200.0 é R$ 100.0\n",
      "O dobro do valor R$200.0 é R$ 400.0\n"
     ]
    }
   ],
   "source": [
    "import import_ipynb\n",
    "import moeda\n",
    "\n",
    "inicio = float(input('Digite um preço: R$ '))\n",
    "\n",
    "print(f'O valor com um acrescimo de 10% é R$ {moeda.aumentar(inicio, 10)}')\n",
    "print(f'O valor com o decrescimo de 30% é R$ {moeda.diminuir(inicio, 30)}')\n",
    "print(f'A metade do valor R${inicio} é R$ {moeda.metade(inicio)}')\n",
    "print(f'O dobro do valor R${inicio} é R$ {moeda.dobro(inicio)}')\n",
    "\n"
   ]
  },
  {
   "cell_type": "markdown",
   "id": "ee8b2087",
   "metadata": {},
   "source": [
    "______"
   ]
  },
  {
   "cell_type": "markdown",
   "id": "cce511b7",
   "metadata": {},
   "source": [
    "### OBSERVAÇÃO:\n",
    "#### O módulo moeda teve a função diminuir e aumentar com uma entrada dinâmica, neste caso a taxa. Dessa forma aumentar e diminuir se aplicará a qualquer taxa que escolhermos."
   ]
  }
 ],
 "metadata": {
  "kernelspec": {
   "display_name": "Python 3",
   "language": "python",
   "name": "python3"
  },
  "language_info": {
   "codemirror_mode": {
    "name": "ipython",
    "version": 3
   },
   "file_extension": ".py",
   "mimetype": "text/x-python",
   "name": "python",
   "nbconvert_exporter": "python",
   "pygments_lexer": "ipython3",
   "version": "3.8.8"
  }
 },
 "nbformat": 4,
 "nbformat_minor": 5
}
