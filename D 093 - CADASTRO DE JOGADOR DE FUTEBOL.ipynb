{
 "cells": [
  {
   "cell_type": "markdown",
   "id": "269d7a06",
   "metadata": {},
   "source": [
    "## DESAFIO 093\n",
    "### Crie um programa que gerencie o aproveitamento de um jogador de futebol. O programa vai ler o nome do jogador e quantas partidas ele jogou. Depois vai ler a quantidade de gols feitos em cada partida. No final, tudo isso será guardado em um dicionário, incluindo o total de gols feitos durante o campeonato."
   ]
  },
  {
   "cell_type": "code",
   "execution_count": 30,
   "id": "2465b5e4",
   "metadata": {},
   "outputs": [
    {
     "name": "stdout",
     "output_type": "stream",
     "text": [
      "****************************************\n",
      "         ANALISE DE RENDIMENTO          \n",
      "****************************************\n",
      "Nome do jogador: Otto\n",
      "Quantos jogos a analisar?: 4\n",
      "Gols na 1° partida: 5\n",
      "Gols na 2° partida: 3\n",
      "Gols na 3° partida: 4\n",
      "Gols na 4° partida: 2\n",
      "==================================================\n",
      "{'nome': 'Otto', 'gols': [5, 3, 4, 2], 'total': 14}\n",
      "==================================================\n",
      "O campo nome tem o valor Otto\n",
      "O campo gols tem o valor [5, 3, 4, 2]\n",
      "O campo total tem o valor 14\n",
      "==================================================\n",
      "O jogador Otto jogou 4 partidas.\n",
      " => Na partida 1, fez 5 gols.\n",
      " => Na partida 2, fez 3 gols.\n",
      " => Na partida 3, fez 4 gols.\n",
      " => Na partida 4, fez 2 gols.\n",
      "Foi um total de 14 gols.\n",
      "**************************************************\n",
      ">>>>> FIM DA ANÁLISE <<<<<\n"
     ]
    }
   ],
   "source": [
    "# PROGRAMA QUE EU FIZ\n",
    "from time import sleep\n",
    "print('*' * 40)\n",
    "print('ANALISE DE RENDIMENTO'.center(40))\n",
    "print('*' * 40)\n",
    "sleep(0.5)\n",
    "analyse = {}\n",
    "data = []\n",
    "sum_ = goals = 0\n",
    "analyse['nome'] = input('Nome do jogador: ') \n",
    "games = int(input('Quantos jogos a analisar?: '))\n",
    "for i in range(0, games):\n",
    "    goals = int(input(f'Gols na {i + 1}° partida: '))\n",
    "    data.append(goals)\n",
    "    sum_ += goals \n",
    "analyse['gols'] = data\n",
    "analyse['total'] = sum_\n",
    "print('=' * 50)\n",
    "print(f'{analyse}'.center(50))\n",
    "print('=' * 50)\n",
    "for k,v in analyse.items():\n",
    "    print(f'O campo {k} tem o valor {v}')\n",
    "print('=' * 50)\n",
    "print(f'O jogador {analyse[\"nome\"]} jogou {games} partidas.')\n",
    "for i, n in enumerate(data):\n",
    "    print(f' => Na partida {i + 1}, fez {n} gols.')\n",
    "print(f'Foi um total de {sum_} gols.')\n",
    "print('*' * 50)\n",
    "print('>>>>> FIM DA ANÁLISE <<<<<')"
   ]
  },
  {
   "cell_type": "markdown",
   "id": "6d19518a",
   "metadata": {},
   "source": [
    "_____"
   ]
  },
  {
   "cell_type": "code",
   "execution_count": 32,
   "id": "42f9f69b",
   "metadata": {},
   "outputs": [
    {
     "name": "stdout",
     "output_type": "stream",
     "text": [
      "Nome do jogador: Otto\n",
      "Quantas partidas Otto jogou? 4\n",
      "   Quantos gols na partida 0?) 5\n",
      "   Quantos gols na partida 1?) 3\n",
      "   Quantos gols na partida 2?) 4\n",
      "   Quantos gols na partida 3?) 2\n",
      "-=-=-=-=-=-=-=-=-=-=-=-=-=-=-=-=-=-=-=-=-=-=-=-=-=-=-=-=-=-=\n",
      "{'nome': 'Otto', 'gols': [5, 3, 4, 2], 'total': 14}\n",
      "-=-=-=-=-=-=-=-=-=-=-=-=-=-=-=-=-=-=-=-=-=-=-=-=-=-=-=-=-=-=\n",
      "O campo nome tem o valor Otto\n",
      "O campo gols tem o valor [5, 3, 4, 2]\n",
      "O campo total tem o valor 14\n",
      "-=-=-=-=-=-=-=-=-=-=-=-=-=-=-=-=-=-=-=-=-=-=-=-=-=-=-=-=-=-=\n",
      "O jogador Otto jogou 4 partidas.\n",
      "   => Na partida 0, fez 5 gols.\n",
      "   => Na partida 1, fez 3 gols.\n",
      "   => Na partida 2, fez 4 gols.\n",
      "   => Na partida 3, fez 2 gols.\n",
      "Foi um total de 14 gols.\n"
     ]
    }
   ],
   "source": [
    "# PROGRAMA FEITO PELO GUSTAVO\n",
    "jogador = dict()\n",
    "partidas = list()\n",
    "jogador['nome'] = str(input('Nome do jogador: '))\n",
    "tot = int(input(f'Quantas partidas {jogador[\"nome\"]} jogou? '))\n",
    "for c in range(0, tot):\n",
    "    partidas.append(int(input(f'   Quantos gols na partida {c}?) ')))\n",
    "jogador['gols'] = partidas[:]\n",
    "jogador['total'] = sum(partidas)\n",
    "print('-=' * 30)\n",
    "print(jogador)\n",
    "print('-=' * 30)\n",
    "for k, v in jogador.items():\n",
    "    print(f'O campo {k} tem o valor {v}')\n",
    "print('-=' * 30)\n",
    "print(f'O jogador {jogador[\"nome\"]} jogou {len(jogador[\"gols\"])} partidas.')\n",
    "for i, v in enumerate(jogador['gols']):\n",
    "    print(f'   => Na partida {i}, fez {v} gols.')\n",
    "print(f'Foi um total de {jogador[\"total\"]} gols.')"
   ]
  },
  {
   "cell_type": "markdown",
   "id": "40514196",
   "metadata": {},
   "source": [
    "____"
   ]
  },
  {
   "cell_type": "code",
   "execution_count": null,
   "id": "d6908dbb",
   "metadata": {},
   "outputs": [],
   "source": []
  },
  {
   "cell_type": "code",
   "execution_count": null,
   "id": "6a9d9c94",
   "metadata": {},
   "outputs": [],
   "source": []
  }
 ],
 "metadata": {
  "kernelspec": {
   "display_name": "Python 3",
   "language": "python",
   "name": "python3"
  },
  "language_info": {
   "codemirror_mode": {
    "name": "ipython",
    "version": 3
   },
   "file_extension": ".py",
   "mimetype": "text/x-python",
   "name": "python",
   "nbconvert_exporter": "python",
   "pygments_lexer": "ipython3",
   "version": "3.8.8"
  }
 },
 "nbformat": 4,
 "nbformat_minor": 5
}
