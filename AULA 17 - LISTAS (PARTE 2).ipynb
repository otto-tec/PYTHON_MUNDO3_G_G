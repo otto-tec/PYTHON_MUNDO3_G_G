{
 "cells": [
  {
   "cell_type": "markdown",
   "id": "c4a6dd64",
   "metadata": {},
   "source": [
    "### Como colocar uma lista dentro de outra lista? Segue exemplo:"
   ]
  },
  {
   "cell_type": "code",
   "execution_count": 2,
   "id": "3a426268",
   "metadata": {},
   "outputs": [
    {
     "name": "stdout",
     "output_type": "stream",
     "text": [
      "[['Pedro', '25'], ['Maria', '32']]\n"
     ]
    }
   ],
   "source": [
    "dados = ['Pedro', '25']\n",
    "dados2 = ['Maria', '32']\n",
    "pessoas = list()\n",
    "pessoas.append(dados[:]) # Essa informação dentro do conchetes fatia a lista dados( cria uma cópia)\n",
    "pessoas.append(dados2[:])\n",
    "\n",
    "print(pessoas)"
   ]
  },
  {
   "cell_type": "markdown",
   "id": "684f5f1c",
   "metadata": {},
   "source": [
    "### Podemos também retirar 1 item que esteja dentro de uma lista, que está dentro da principal. Veja:"
   ]
  },
  {
   "cell_type": "code",
   "execution_count": 5,
   "id": "603b145c",
   "metadata": {},
   "outputs": [
    {
     "name": "stdout",
     "output_type": "stream",
     "text": [
      "Pedro\n",
      "------------------------------\n",
      "32\n",
      "------------------------------\n",
      "['Pedro', '25']\n"
     ]
    }
   ],
   "source": [
    "print(pessoas[0][0]) #Se refere ao indice 0 de pessoas, o outro 0 é o indice da lista 0.\n",
    "print('-' * 30)\n",
    "print(pessoas[1][1]) # Mesma lógica, nesse caso irá aparecer a idade de Maria\n",
    "print('-' * 30)\n",
    "print(pessoas[0]) # Nesse caso mostra a lista inteira dentro do indice 0 de pessoas\n"
   ]
  },
  {
   "cell_type": "markdown",
   "id": "9aab2f3f",
   "metadata": {},
   "source": [
    "### Temos que nos atentarmos que caso não seja efetuada uma cópia da lista dentro da outra, inevitavelmente ela irá alterar as duas listas. Segue exemplo:"
   ]
  },
  {
   "cell_type": "code",
   "execution_count": 7,
   "id": "26f02739",
   "metadata": {},
   "outputs": [
    {
     "name": "stdout",
     "output_type": "stream",
     "text": [
      "['gustavo', 40]\n",
      "------------------------------\n",
      "[['Maria', 22], ['Maria', 22]]\n"
     ]
    }
   ],
   "source": [
    "teste = list()\n",
    "teste.append('gustavo')\n",
    "teste.append(40)\n",
    "print(teste)\n",
    "\n",
    "galera = list()\n",
    "galera.append(teste)\n",
    "teste[0] = 'Maria'\n",
    "teste[1] = 22\n",
    "galera.append(teste)\n",
    "print('-' *30)\n",
    "print(galera)"
   ]
  },
  {
   "cell_type": "markdown",
   "id": "d049f19f",
   "metadata": {},
   "source": [
    "### Para eliminar esse problema temos que fatiar a lista. Segue exemplo"
   ]
  },
  {
   "cell_type": "code",
   "execution_count": 8,
   "id": "e78686f7",
   "metadata": {},
   "outputs": [
    {
     "name": "stdout",
     "output_type": "stream",
     "text": [
      "['gustavo', 40]\n",
      "------------------------------\n",
      "[['gustavo', 40], ['Maria', 22]]\n"
     ]
    }
   ],
   "source": [
    "teste = list()\n",
    "teste.append('gustavo')\n",
    "teste.append(40)\n",
    "print(teste)\n",
    "\n",
    "galera = list()\n",
    "galera.append(teste[:])\n",
    "teste[0] = 'Maria'\n",
    "teste[1] = 22\n",
    "galera.append(teste[:])\n",
    "print('-' *30)\n",
    "print(galera)"
   ]
  },
  {
   "cell_type": "markdown",
   "id": "2d5be623",
   "metadata": {},
   "source": [
    "### Podemos fazer algumas variações usando o laço for"
   ]
  },
  {
   "cell_type": "code",
   "execution_count": 10,
   "id": "51e04dea",
   "metadata": {},
   "outputs": [
    {
     "name": "stdout",
     "output_type": "stream",
     "text": [
      "['João', 19]\n",
      "['Ana', 33]\n",
      "['Joaquim', 13]\n",
      "['Maria', 45]\n"
     ]
    }
   ],
   "source": [
    "povo = [['João', 19], ['Ana', 33], ['Joaquim', 13], ['Maria', 45]]\n",
    "for p in povo:\n",
    "    print(p)"
   ]
  },
  {
   "cell_type": "code",
   "execution_count": 11,
   "id": "0844a99a",
   "metadata": {},
   "outputs": [
    {
     "name": "stdout",
     "output_type": "stream",
     "text": [
      "João\n",
      "Ana\n",
      "Joaquim\n",
      "Maria\n"
     ]
    }
   ],
   "source": [
    "# Sair somente os nomes\n",
    "for p in povo:\n",
    "    print(p[0])"
   ]
  },
  {
   "cell_type": "code",
   "execution_count": 12,
   "id": "67a44712",
   "metadata": {},
   "outputs": [
    {
     "name": "stdout",
     "output_type": "stream",
     "text": [
      "19\n",
      "33\n",
      "13\n",
      "45\n"
     ]
    }
   ],
   "source": [
    "# Sair somente os números\n",
    "for p in povo:\n",
    "    print(p[1])"
   ]
  },
  {
   "cell_type": "code",
   "execution_count": 14,
   "id": "e33ac14e",
   "metadata": {},
   "outputs": [
    {
     "name": "stdout",
     "output_type": "stream",
     "text": [
      "João tem 19 anos de idade\n",
      "Ana tem 33 anos de idade\n",
      "Joaquim tem 13 anos de idade\n",
      "Maria tem 45 anos de idade\n"
     ]
    }
   ],
   "source": [
    "# Colocando o nome e a idade em texto\n",
    "for p in povo:\n",
    "    print(f'{p[0]} tem {p[1]} anos de idade')"
   ]
  },
  {
   "cell_type": "markdown",
   "id": "dda054b7",
   "metadata": {},
   "source": [
    "### Pode-se criar uma lista provisória. Segue exemplo:"
   ]
  },
  {
   "cell_type": "code",
   "execution_count": 17,
   "id": "99cbae47",
   "metadata": {},
   "outputs": [
    {
     "name": "stdout",
     "output_type": "stream",
     "text": [
      "Nome: Otto\n",
      "Idade: 33\n",
      "Nome: Luciene\n",
      "Idade: 40\n",
      "Nome: Derik\n",
      "Idade: 21\n",
      "[['Otto', 33], ['Luciene', 40], ['Derik', 21]]\n"
     ]
    }
   ],
   "source": [
    "galera_1 = list()\n",
    "dado_1 = list()\n",
    "\n",
    "for c in range(0, 3):\n",
    "    dado_1.append(input('Nome: '))\n",
    "    dado_1.append(int(input('Idade: ')))\n",
    "    galera_1.append(dado_1[:])\n",
    "    dado_1.clear()\n",
    "    \n",
    "print(galera_1)"
   ]
  },
  {
   "cell_type": "code",
   "execution_count": 19,
   "id": "d64d517d",
   "metadata": {},
   "outputs": [
    {
     "name": "stdout",
     "output_type": "stream",
     "text": [
      "Nome: Ana\n",
      "Idade: 23\n",
      "Nome: Carlos\n",
      "Idade: 20\n",
      "Nome: Claudia\n",
      "Idade: 45\n",
      "Ana é  maior de idade.\n",
      "----------------------------------------\n",
      "Carlos é menor de idade.\n",
      "----------------------------------------\n",
      "Claudia é  maior de idade.\n",
      "----------------------------------------\n",
      "Temos 2 maiores e 1 menores de idade.\n"
     ]
    }
   ],
   "source": [
    "# Criando uma condicional\n",
    "\n",
    "galera_1 = list()\n",
    "dado_1 = list()\n",
    "totmai = totmen = 0\n",
    "for c in range(0, 3):\n",
    "    dado_1.append(input('Nome: '))\n",
    "    dado_1.append(int(input('Idade: ')))\n",
    "    galera_1.append(dado_1[:])\n",
    "    dado_1.clear() #Esse é o pulo do gato. Dessa forma é possível criar indices separados na lista.\n",
    "    \n",
    "    \n",
    "for p in galera_1: # CARACTERISTICA DO FOR. ELE PEGA INDICE A INDICE DA LISTA, NÃO A LISTA TODA DE UMA VEZ!!!\n",
    "    if p[1] >= 21:  #Entra nesse caso se a pessoa tem mais de 21\n",
    "        print(f'{p[0]} é  maior de idade.')\n",
    "        print('-' * 40)\n",
    "        totmai += 1 \n",
    "    else:\n",
    "        print(f'{p[0]} é menor de idade.')\n",
    "        print('-' * 40)\n",
    "        totmen += 1\n",
    "\n",
    "print(f'Temos {totmai} maiores e {totmen} menores de idade.')\n"
   ]
  },
  {
   "cell_type": "code",
   "execution_count": null,
   "id": "60372eb3",
   "metadata": {},
   "outputs": [],
   "source": []
  }
 ],
 "metadata": {
  "kernelspec": {
   "display_name": "Python 3",
   "language": "python",
   "name": "python3"
  },
  "language_info": {
   "codemirror_mode": {
    "name": "ipython",
    "version": 3
   },
   "file_extension": ".py",
   "mimetype": "text/x-python",
   "name": "python",
   "nbconvert_exporter": "python",
   "pygments_lexer": "ipython3",
   "version": "3.8.8"
  }
 },
 "nbformat": 4,
 "nbformat_minor": 5
}
