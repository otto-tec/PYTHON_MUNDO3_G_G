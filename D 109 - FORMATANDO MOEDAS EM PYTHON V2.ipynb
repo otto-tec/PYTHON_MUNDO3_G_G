{
 "cells": [
  {
   "cell_type": "markdown",
   "id": "da61690a",
   "metadata": {},
   "source": [
    "## DESAFIO 109\n",
    "### Modifique as funções que foram criadas no desafio 107 para que elas aceitem um parâmetro a mais, informando se o valor retornado por elas vai ser ou não formatado pela função moeda(), desenvolvida no desafio 108."
   ]
  },
  {
   "cell_type": "code",
   "execution_count": 2,
   "id": "dc81e0e4",
   "metadata": {},
   "outputs": [
    {
     "name": "stdout",
     "output_type": "stream",
     "text": [
      "Digite um preço: R$ 120\n",
      "O valor com um acrescimo de 10% é R$132,00\n",
      "O valor com o decrescimo de 30% é R$84,00\n",
      "A metade do valor R$120.00 é R$60,00\n",
      "O dobro do valor R$120.00 é R$240,00\n"
     ]
    }
   ],
   "source": [
    "import import_ipynb\n",
    "import moeda4\n",
    "\n",
    "inicio = float(input('Digite um preço: R$ '))\n",
    "\n",
    "print(f'O valor com um acrescimo de 10% é {moeda4.aumentar(inicio, 10, True)}')\n",
    "print(f'O valor com o decrescimo de 30% é {moeda4.diminuir(inicio, 30, True)}')\n",
    "print(f'A metade do valor R${inicio:.2f} é {moeda4.metade(inicio, True)}')\n",
    "print(f'O dobro do valor R${inicio:.2f} é {moeda4.dobro(inicio, True)}')"
   ]
  },
  {
   "cell_type": "markdown",
   "id": "2b8761dc",
   "metadata": {},
   "source": [
    "____"
   ]
  }
 ],
 "metadata": {
  "kernelspec": {
   "display_name": "Python 3",
   "language": "python",
   "name": "python3"
  },
  "language_info": {
   "codemirror_mode": {
    "name": "ipython",
    "version": 3
   },
   "file_extension": ".py",
   "mimetype": "text/x-python",
   "name": "python",
   "nbconvert_exporter": "python",
   "pygments_lexer": "ipython3",
   "version": "3.8.8"
  }
 },
 "nbformat": 4,
 "nbformat_minor": 5
}
