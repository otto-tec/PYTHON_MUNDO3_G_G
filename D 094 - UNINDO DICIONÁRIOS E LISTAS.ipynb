{
 "cells": [
  {
   "cell_type": "markdown",
   "id": "fbab9616",
   "metadata": {},
   "source": [
    "## DESAFIO 094\n",
    "### Crie um programa que leia nome, sexo e idade de várias pessoas, guardando os dados de cada pessoa em um dicionário e todos os dicionários em uma lista. No final, mostre:\n",
    "#### A) Quantas pessoas cadastradas.\n",
    "#### B) A média de idade.\n",
    "#### C) Uma lista com mulheres.\n",
    "#### D) Uma lista com idade acima da média."
   ]
  },
  {
   "cell_type": "code",
   "execution_count": 46,
   "id": "2b56460a",
   "metadata": {},
   "outputs": [
    {
     "name": "stdout",
     "output_type": "stream",
     "text": [
      "****************************************\n",
      "           CADASTRO E ANÁLISE           \n",
      "****************************************\n",
      "Nome: Alice\n",
      "Sexo [M/F]:F\n",
      "Idade: 25\n",
      "Deseja continuar [S/N]: s\n",
      "Nome: Bob\n",
      "Sexo [M/F]:M\n",
      "Idade: 40\n",
      "Deseja continuar [S/N]: s\n",
      "Nome: Carla\n",
      "Sexo [M/F]:F\n",
      "Idade: 30\n",
      "Deseja continuar [S/N]: s\n",
      "Nome: Davi\n",
      "Sexo [M/F]:M\n",
      "Idade: 42\n",
      "Deseja continuar [S/N]: a\n",
      "ERRO. Digito inválido.\n",
      "Deseja continuar [S/N]: g\n",
      "ERRO. Digito inválido.\n",
      "Deseja continuar [S/N]: s\n",
      "Nome: Ellen\n",
      "Sexo [M/F]:a\n",
      "ERRO. Digite apenas M ou F\n",
      "Sexo [M/F]:g\n",
      "ERRO. Digite apenas M ou F\n",
      "Sexo [M/F]:f\n",
      "Idade: 30\n",
      "Deseja continuar [S/N]: n\n",
      "==================================================\n",
      "A) Ao todo temos 5 pessoas cadastradas.\n",
      "B) A média de idade foi de 33.4 anos.\n",
      "C) As mulheres cadastradas foram ['Alice', 'Carla', 'Ellen'].\n",
      "D) Lista de pessoas que estão acima da média:\n",
      "   ==> NOME = Bob; SEXO = M; IDADE = 40;\n",
      "   ==> NOME = Davi; SEXO = M; IDADE = 42;\n",
      "==================================================\n",
      "           >>>>> FIM DO PROGRAMA <<<<<            \n",
      "==================================================\n"
     ]
    }
   ],
   "source": [
    "#PROGRAMA QUE EU FIZ \n",
    "from time import sleep\n",
    "print('*' * 40)\n",
    "print('CADASTRO E ANÁLISE'.center(40))\n",
    "print('*' * 40)\n",
    "sleep(0.5)\n",
    "\n",
    "cad = {}\n",
    "acum = []\n",
    "cond = 'S'\n",
    "acum_2 = acum_id = 0\n",
    "women = []\n",
    "while True:\n",
    "    if cond == 'S':\n",
    "        cad['nome'] = input('Nome: ')\n",
    "        cad['sexo'] = input('Sexo [M/F]:').upper().strip()[0]\n",
    "        while True:\n",
    "            if cad['sexo'] not in 'MF':\n",
    "                print('ERRO. Digite apenas M ou F')\n",
    "                cad['sexo'] = input('Sexo [M/F]:').upper().strip()[0]\n",
    "            elif cad['sexo'] in 'MF':\n",
    "                cad['idade'] = int(input('Idade: '))\n",
    "                acum_id += cad['idade']\n",
    "                acum.append(cad.copy())\n",
    "                if cad['sexo'] == 'F':\n",
    "                    women.append(cad['nome'])\n",
    "                cond = input('Deseja continuar [S/N]: ').upper().strip()[0]\n",
    "                break       \n",
    "    elif cond == 'N':\n",
    "        break\n",
    "    elif cond not in 'SN': \n",
    "        print('ERRO. Digito inválido.')\n",
    "        cond = input('Deseja continuar [S/N]: ').upper().strip()[0]\n",
    "\n",
    "print('=' * 50)\n",
    "for i, v in enumerate(acum):\n",
    "    acum_2 += 1   \n",
    "media = acum_id / acum_2\n",
    "\n",
    "print(f'A) Ao todo temos {acum_2} pessoas cadastradas.')\n",
    "print(f'B) A média de idade foi de {media} anos.')\n",
    "print(f'C) As mulheres cadastradas foram {women}.')\n",
    "print('D) Lista de pessoas que estão acima da média:')\n",
    "\n",
    "for c, v in enumerate(acum):\n",
    "    if v[\"idade\"] > media:\n",
    "        print(f'   ==> NOME = {v[\"nome\"]}; SEXO = {v[\"sexo\"]}; IDADE = {v[\"idade\"]};')\n",
    "        \n",
    "print('=' * 50)\n",
    "print('>>>>> FIM DO PROGRAMA <<<<<'.center(50))\n",
    "print('=' * 50)\n"
   ]
  },
  {
   "cell_type": "markdown",
   "id": "64feae59",
   "metadata": {},
   "source": [
    "### OBSERVAÇÃO\n",
    "#### A única diferença de output ficou no item C. No do Gustavo não aparece conchetes nem aspas."
   ]
  },
  {
   "cell_type": "markdown",
   "id": "d1ab5b9d",
   "metadata": {},
   "source": [
    "_____"
   ]
  },
  {
   "cell_type": "code",
   "execution_count": 48,
   "id": "34a9caa8",
   "metadata": {},
   "outputs": [
    {
     "name": "stdout",
     "output_type": "stream",
     "text": [
      "Nome: Ana\n",
      "Sexo: [M/F] F\n",
      "Idade: 30\n",
      "Quer continuar? [S/N] s\n",
      "Nome: Bob\n",
      "Sexo: [M/F] M\n",
      "Idade: 28\n",
      "Quer continuar? [S/N] s\n",
      "Nome: Camila\n",
      "Sexo: [M/F] F\n",
      "Idade: 40\n",
      "Quer continuar? [S/N] s\n",
      "Nome: Daniel\n",
      "Sexo: [M/F] g\n",
      "ERRO! Por favor, digite apenas M ou F.\n",
      "Sexo: [M/F] M\n",
      "Idade: 29\n",
      "Quer continuar? [S/N] n\n",
      "-=-=-=-=-=-=-=-=-=-=-=-=-=-=-=-=-=-=-=-=-=-=-=-=-=-=-=-=-=-=\n",
      "A) Ao todo temos 4 pessoas cadastradas.\n",
      "B) A média de idade é de 31.75 anos.\n",
      "C) As mulheres cadastradas foram Ana Camila \n",
      "D) Lista das pessoas que estão acima da média: \n",
      "   nome = Camila; sexo = F; idade = 40; \n",
      "<< ENCERRADO >>\n"
     ]
    }
   ],
   "source": [
    "# PROGRAMA FEITO PELO GUSTAVO\n",
    "\n",
    "galera = list()\n",
    "pessoa = dict()\n",
    "soma = média = 0\n",
    "while True:\n",
    "    pessoa.clear()\n",
    "    pessoa['nome'] = str(input('Nome: '))\n",
    "    while True:\n",
    "        pessoa['sexo'] = str(input('Sexo: [M/F] '))\n",
    "        if pessoa['sexo'] in 'MF':\n",
    "            break\n",
    "        print('ERRO! Por favor, digite apenas M ou F.')\n",
    "    pessoa['idade'] = int(input('Idade: '))\n",
    "    soma += pessoa['idade']\n",
    "    galera.append(pessoa.copy())\n",
    "    while True:\n",
    "        resp = str(input('Quer continuar? [S/N] ')).upper()[0]\n",
    "        if resp in 'SN':\n",
    "            break\n",
    "        print('ERRO! Responda apenas S ou N.')\n",
    "    if resp == 'N':\n",
    "        break\n",
    "print('-=' * 30)\n",
    "print(f'A) Ao todo temos {len(galera)} pessoas cadastradas.')\n",
    "média = soma / len(galera)\n",
    "print(f'B) A média de idade é de {média:5.2f} anos.')\n",
    "print('C) As mulheres cadastradas foram ', end='')\n",
    "for p in galera:\n",
    "    if p['sexo'] in 'fF':\n",
    "        print(f'{p[\"nome\"]} ', end='')\n",
    "print()\n",
    "print('D) Lista das pessoas que estão acima da média: ')\n",
    "for p in galera:\n",
    "    if p['idade'] >= média:\n",
    "        print('   ', end='')\n",
    "        for k, v in p.items():\n",
    "            print(f'{k} = {v}; ', end='')\n",
    "        print()\n",
    "print('<< ENCERRADO >>')"
   ]
  },
  {
   "cell_type": "code",
   "execution_count": null,
   "id": "8f84451b",
   "metadata": {},
   "outputs": [],
   "source": []
  },
  {
   "cell_type": "code",
   "execution_count": null,
   "id": "a357f8c7",
   "metadata": {},
   "outputs": [],
   "source": []
  },
  {
   "cell_type": "code",
   "execution_count": null,
   "id": "be6bea35",
   "metadata": {},
   "outputs": [],
   "source": []
  },
  {
   "cell_type": "code",
   "execution_count": null,
   "id": "32faa453",
   "metadata": {},
   "outputs": [],
   "source": []
  },
  {
   "cell_type": "code",
   "execution_count": null,
   "id": "eefb11f2",
   "metadata": {},
   "outputs": [],
   "source": []
  },
  {
   "cell_type": "code",
   "execution_count": null,
   "id": "c7269365",
   "metadata": {},
   "outputs": [],
   "source": []
  },
  {
   "cell_type": "code",
   "execution_count": null,
   "id": "d46085aa",
   "metadata": {},
   "outputs": [],
   "source": []
  },
  {
   "cell_type": "code",
   "execution_count": null,
   "id": "20ab3d6b",
   "metadata": {},
   "outputs": [],
   "source": []
  }
 ],
 "metadata": {
  "kernelspec": {
   "display_name": "Python 3",
   "language": "python",
   "name": "python3"
  },
  "language_info": {
   "codemirror_mode": {
    "name": "ipython",
    "version": 3
   },
   "file_extension": ".py",
   "mimetype": "text/x-python",
   "name": "python",
   "nbconvert_exporter": "python",
   "pygments_lexer": "ipython3",
   "version": "3.8.8"
  }
 },
 "nbformat": 4,
 "nbformat_minor": 5
}
