{
 "cells": [
  {
   "cell_type": "markdown",
   "id": "c0646b32",
   "metadata": {},
   "source": [
    "## DESAFIO 081\n",
    "### Crie um programa que vai ler vários números e colocar em uma lista. Depois disso, mostre:\n",
    "#### A) Quantos números foram digitados.\n",
    "#### B) A lista de valores, ordenada de forma decrescente.\n",
    "#### C) Se o valor 5 foi digitado e está ou não na lista."
   ]
  },
  {
   "cell_type": "code",
   "execution_count": 4,
   "id": "1d872205",
   "metadata": {},
   "outputs": [
    {
     "name": "stdout",
     "output_type": "stream",
     "text": [
      "============================================================\n",
      "                 EXTRAINDO VALORES DA LISTA                 \n",
      "============================================================\n",
      "Digite um número: 5\n",
      "Deseja continuar? s\n",
      "Digite um número: 3\n",
      "Deseja continuar? s\n",
      "Digite um número: 7\n",
      "Deseja continuar? s\n",
      "Digite um número: 5\n",
      "Deseja continuar? n\n",
      "============================================================\n",
      "          A lista digitada é formada por 4 números          \n",
      "============================================================\n",
      "A lista digitada em ordem decrescente é: [7.0, 5.0, 5.0, 3.0]\n",
      "============================================================\n",
      "            O número 5 apareceu 4 vezes na lista            \n"
     ]
    }
   ],
   "source": [
    "# Minha programação. O valor 5 repete o dobro de vezes??\n",
    "import time\n",
    "print('=' * 60)\n",
    "print('EXTRAINDO VALORES DA LISTA'. center(60))\n",
    "print('=' * 60)\n",
    "time.sleep(0.5)\n",
    "\n",
    "op = 'S'\n",
    "acum = acum5 = 0\n",
    "lista = []\n",
    "while True:\n",
    "    \n",
    "    if op == 'S':\n",
    "        num = float(input('Digite um número: '))\n",
    "        op = input('Deseja continuar? ').upper().split()[0]\n",
    "        acum += 1\n",
    "        lista += [num]\n",
    "        lista.sort(reverse = True)\n",
    "    \n",
    "    elif op == 'N':\n",
    "        break\n",
    "    elif op != 'N' or op != 'S':\n",
    "        op = input('Caracter inválido. Deseja continuar? ').upper().split()[0]\n",
    "    if 5 in lista:\n",
    "        acum5 += 1\n",
    "        \n",
    "print('=' * 60)\n",
    "print(f'A lista digitada é formada por {acum} números'.center(60))\n",
    "print('=' * 60)\n",
    "print(f'A lista digitada em ordem decrescente é: {lista}'.center(60))\n",
    "print('=' * 60)\n",
    "print(f'O número 5 apareceu {acum5} vezes na lista'.center(60))\n",
    "\n"
   ]
  },
  {
   "cell_type": "code",
   "execution_count": 6,
   "id": "384c5bbb",
   "metadata": {},
   "outputs": [
    {
     "name": "stdout",
     "output_type": "stream",
     "text": [
      "Digite um valor: 5\n",
      "Quer continuar? [S/N] s\n",
      "Digite um valor: 3\n",
      "Quer continuar? [S/N] s\n",
      "Digite um valor: 8\n",
      "Quer continuar? [S/N] h\n",
      "Digite um valor: 4\n",
      "Quer continuar? [S/N] n\n",
      "-=-=-=-=-=-=-=-=-=-=-=-=-=-=-=-=-=-=-=-=-=-=-=-=-=-=-=-=-=-=\n",
      "Você digitou 4 elementos.\n",
      "Os valores em ordem decrescente são [8, 5, 4, 3]\n",
      "O valor 5 faz parte da lista!\n"
     ]
    }
   ],
   "source": [
    "# PROGRAMAÇÃO DO GUSTAVO\n",
    "valores = []\n",
    "while True:\n",
    "    valores.append(int(input('Digite um valor: ')))\n",
    "    resp = str(input('Quer continuar? [S/N] '))\n",
    "    if resp in 'Nn':\n",
    "        break\n",
    "print('-=' * 30)\n",
    "print(f'Você digitou {len(valores)} elementos.')\n",
    "valores.sort(reverse = True)\n",
    "print(f'Os valores em ordem decrescente são {valores}')\n",
    "if 5 in valores:\n",
    "      print('O valor 5 faz parte da lista!')\n",
    "else:\n",
    "      print('O valor 5 não foi encontrado na lista!')"
   ]
  },
  {
   "cell_type": "markdown",
   "id": "aee1371d",
   "metadata": {},
   "source": [
    "### Na programação do Gustavo, ele não colocou quantas vezes usou o número 5. Apenas colocou se havia ou não na lista. Ele não colocou condição caso o usuário escreva uma letra errada. Porem o programa dele ficou extremamente enxuto."
   ]
  },
  {
   "cell_type": "code",
   "execution_count": null,
   "id": "6f0a8613",
   "metadata": {},
   "outputs": [],
   "source": []
  }
 ],
 "metadata": {
  "kernelspec": {
   "display_name": "Python 3",
   "language": "python",
   "name": "python3"
  },
  "language_info": {
   "codemirror_mode": {
    "name": "ipython",
    "version": 3
   },
   "file_extension": ".py",
   "mimetype": "text/x-python",
   "name": "python",
   "nbconvert_exporter": "python",
   "pygments_lexer": "ipython3",
   "version": "3.8.8"
  }
 },
 "nbformat": 4,
 "nbformat_minor": 5
}
