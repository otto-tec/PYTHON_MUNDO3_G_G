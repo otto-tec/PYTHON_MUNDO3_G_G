{
 "cells": [
  {
   "cell_type": "markdown",
   "id": "b8bfe334",
   "metadata": {},
   "source": [
    "## DESAFIO 101\n",
    "### Faça um programa que tenha uma função chamada voto() que vai receber como parâmetro o ano de nascimento de uma pessoa, retornando um valor literal indicando se uma pesssoa tem voto NEGADO, OPCIONAL ou OBRIGATÓRIO nas eleições."
   ]
  },
  {
   "cell_type": "code",
   "execution_count": 1,
   "id": "20894141",
   "metadata": {},
   "outputs": [
    {
     "name": "stdout",
     "output_type": "stream",
     "text": [
      "******************************\n",
      "     FUNÇÃO PARA VOTAÇÃO      \n",
      "******************************\n",
      "Em que ano você nasceu?: 2004\n",
      "Com 17 anos: VOTO OPCIONAL\n"
     ]
    }
   ],
   "source": [
    "# PROGRAMA QUE EU FIZ\n",
    "from datetime import datetime\n",
    "from time import sleep\n",
    "print('*' * 30)\n",
    "print('FUNÇÃO PARA VOTAÇÃO'.center(30))\n",
    "print('*' * 30)\n",
    "sleep(0.5)\n",
    "\n",
    "def voto(born):\n",
    "\n",
    "    date  = datetime.today()\n",
    "    year = int(date.strftime('%Y'))\n",
    "    dif = year - born\n",
    "    if dif >= 18:\n",
    "        resp = 'VOTO OBRIGATÓRIO'\n",
    "    elif dif >= 16 and dif < 18:\n",
    "        resp = 'VOTO OPCIONAL'\n",
    "    else:\n",
    "        resp = 'VOTO NEGADO'\n",
    "    \n",
    "    return print(f'Com {dif} anos: {resp}')\n",
    "\n",
    "#Programa Principal\n",
    "\n",
    "born = int(input('Em que ano você nasceu?: '))\n",
    "voto(born)\n",
    "    \n",
    "    \n"
   ]
  },
  {
   "cell_type": "markdown",
   "id": "58e0955c",
   "metadata": {},
   "source": [
    "____________________"
   ]
  },
  {
   "cell_type": "code",
   "execution_count": 7,
   "id": "7155e441",
   "metadata": {},
   "outputs": [
    {
     "name": "stdout",
     "output_type": "stream",
     "text": [
      "Em que ano você nasceu? 2004\n",
      "Com 17 anos: VOTO OPCIONAL.\n"
     ]
    }
   ],
   "source": [
    "# PROGRAMA FEITO PELO GUSTAVO\n",
    "\n",
    "def voto(ano):\n",
    "    from datetime import date\n",
    "    atual = date.today().year\n",
    "    idade = atual - ano\n",
    "    if idade < 16:\n",
    "        return f'Com {idade} anos: NÃO VOTA.'\n",
    "    elif 16 <= idade < 18 or idade > 65:\n",
    "        return f'Com {idade} anos: VOTO OPCIONAL.'\n",
    "    else:\n",
    "        return f'Com {idade} anos: VOTO OBRIGATÓRIO.'\n",
    "    \n",
    "    #PROGRAMA PRINCIPAL\n",
    "nasc = int(input('Em que ano você nasceu? '))\n",
    "print(voto(nasc))\n",
    "\n",
    "    "
   ]
  },
  {
   "cell_type": "markdown",
   "id": "bf642df0",
   "metadata": {},
   "source": [
    "_________"
   ]
  },
  {
   "cell_type": "markdown",
   "id": "8440732e",
   "metadata": {},
   "source": [
    "### OBSERVAÇÕES:\n",
    "#### Houve algumas diferenças entre as duas programações, segue:\n",
    "##### -  Return = O Gustavo colocou um return dentro de cada condicional. Eu retornei apenas uma vez com o texto formatado.\n",
    "##### -  Data = Ele isolou o ano em uma variável de forma diferente do que eu fiz. A forma dele é superior pois ele precisou de apenas 1 variavel.\n",
    "##### - Idades = Ele acrescentou uma regra na condicional dos 65 anos. Não lembrava. \n",
    "##### - Módulo = Ele chamou o módulo dentro da função. Essa forma não permite usar o módulo fora da função (na global).\n"
   ]
  },
  {
   "cell_type": "code",
   "execution_count": null,
   "id": "303049d6",
   "metadata": {},
   "outputs": [],
   "source": []
  },
  {
   "cell_type": "code",
   "execution_count": null,
   "id": "f1aec843",
   "metadata": {},
   "outputs": [],
   "source": []
  },
  {
   "cell_type": "code",
   "execution_count": null,
   "id": "010aa212",
   "metadata": {},
   "outputs": [],
   "source": []
  },
  {
   "cell_type": "code",
   "execution_count": null,
   "id": "2aea48ee",
   "metadata": {},
   "outputs": [],
   "source": []
  }
 ],
 "metadata": {
  "kernelspec": {
   "display_name": "Python 3",
   "language": "python",
   "name": "python3"
  },
  "language_info": {
   "codemirror_mode": {
    "name": "ipython",
    "version": 3
   },
   "file_extension": ".py",
   "mimetype": "text/x-python",
   "name": "python",
   "nbconvert_exporter": "python",
   "pygments_lexer": "ipython3",
   "version": "3.8.8"
  }
 },
 "nbformat": 4,
 "nbformat_minor": 5
}
