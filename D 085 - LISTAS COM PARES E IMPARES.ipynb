{
 "cells": [
  {
   "cell_type": "markdown",
   "id": "4d4fde8a",
   "metadata": {},
   "source": [
    "## DESAFIO 085\n",
    "### Crie um programa onde o usuário possa digitar sete valores numéricos e cadstre-os em uma lista única que mantenha separados os valores pares e impares. No final, mostre os valores pares e ímpares em ordem crecente."
   ]
  },
  {
   "cell_type": "code",
   "execution_count": 8,
   "id": "a3fed7ab",
   "metadata": {},
   "outputs": [
    {
     "name": "stdout",
     "output_type": "stream",
     "text": [
      "**************************************************\n",
      "     LISTA COM 2 SUBLISTAS - PARES E IMPARES      \n",
      "**************************************************\n",
      "Insira o 1° número: 4\n",
      "Insira o 2° número: 2\n",
      "Insira o 3° número: 3\n",
      "Insira o 4° número: 1\n",
      "Insira o 5° número: 5\n",
      "Insira o 6° número: 6\n",
      "Insira o 7° número: 7\n",
      "Os valores pares digitados foram: [2, 4, 6]\n",
      "Os valores pares digitados foram: [1, 3, 5, 7]\n"
     ]
    }
   ],
   "source": [
    "# Programação que eu fiz. Porem não consegui usar uma lista somente.\n",
    "import time\n",
    "print('*' * 50)\n",
    "print('LISTA COM 2 SUBLISTAS - PARES E IMPARES'.center(50))\n",
    "print('*' * 50)\n",
    "time.sleep(0.5)\n",
    "\n",
    "l_par = []\n",
    "l_impar = []\n",
    "l_main = [0, 0]\n",
    "lista = []\n",
    "for i in range(1, 8):\n",
    "    lista.append(int(input(f'Insira o {i}° número: ')))\n",
    "    \n",
    "    for n in lista:\n",
    "        if n % 2 == 0:\n",
    "            l_par.append(n)\n",
    "            lista.clear()\n",
    "        if n % 2 == 1:\n",
    "            l_impar.append(n)\n",
    "            lista.clear()\n",
    "\n",
    "l_par.sort()\n",
    "l_impar.sort()\n",
    "l_main[0] = l_par\n",
    "l_main[1] = l_impar\n",
    "\n",
    "\n",
    "print(f'Os valores pares digitados foram: {l_main[0]}')\n",
    "print(f'Os valores pares digitados foram: {l_main[1]}')\n",
    "\n",
    "\n",
    "    \n"
   ]
  },
  {
   "cell_type": "markdown",
   "id": "4e5b9e2c",
   "metadata": {},
   "source": [
    "______"
   ]
  },
  {
   "cell_type": "code",
   "execution_count": 2,
   "id": "7dfffd67",
   "metadata": {},
   "outputs": [
    {
     "name": "stdout",
     "output_type": "stream",
     "text": [
      "Digite o 1° valor: 1\n",
      "Digite o 2° valor: 3\n",
      "Digite o 3° valor: 2\n",
      "Digite o 4° valor: 7\n",
      "Digite o 5° valor: 6\n",
      "Digite o 6° valor: 9\n",
      "Digite o 7° valor: 8\n",
      "-=-=-=-=-=-=-=-=-=-=-=-=-=-=-=-=-=-=-=-=-=-=-=-=-=-=-=-=-=-=\n",
      "Os valores pares digitados foram: [2, 6, 8]\n",
      "Os valores ímpares digitados foram: [1, 3, 7, 9]\n"
     ]
    }
   ],
   "source": [
    "# Programação feita pelo Gustavo\n",
    "\n",
    "núm = [[], []] # Pulo do gato. Aqui ele criou com 2 indexadores.\n",
    "valor = 0\n",
    "for c in range(1, 8):\n",
    "    valor = int(input(f'Digite o {c}° valor: '))\n",
    "    if valor % 2 == 0:\n",
    "        núm[0].append(valor)\n",
    "    else:\n",
    "        núm[1].append(valor)\n",
    "print('-=' * 30)\n",
    "núm[0].sort()\n",
    "núm[1].sort()\n",
    "print(f'Os valores pares digitados foram: {núm[0]}')\n",
    "print(f'Os valores ímpares digitados foram: {núm[1]}')\n",
    "\n",
    "                      \n"
   ]
  },
  {
   "cell_type": "markdown",
   "id": "0275107d",
   "metadata": {},
   "source": [
    "#### Sem comparação.  A técnica de ter criado a lista vázias com mais duas sublistas vazias, fez com que fosse adicionado os números no indexador 1. Com a programação que eu fiz ele não permitia essa operação, por esse motivo tive que criar mais listas."
   ]
  }
 ],
 "metadata": {
  "kernelspec": {
   "display_name": "Python 3",
   "language": "python",
   "name": "python3"
  },
  "language_info": {
   "codemirror_mode": {
    "name": "ipython",
    "version": 3
   },
   "file_extension": ".py",
   "mimetype": "text/x-python",
   "name": "python",
   "nbconvert_exporter": "python",
   "pygments_lexer": "ipython3",
   "version": "3.8.8"
  }
 },
 "nbformat": 4,
 "nbformat_minor": 5
}
