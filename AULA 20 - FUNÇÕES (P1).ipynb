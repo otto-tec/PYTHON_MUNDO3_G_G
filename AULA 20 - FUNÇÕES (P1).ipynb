{
 "cells": [
  {
   "cell_type": "code",
   "execution_count": 2,
   "id": "b7ad3445",
   "metadata": {},
   "outputs": [
    {
     "name": "stdout",
     "output_type": "stream",
     "text": [
      "==============\n",
      "Este\n",
      "==============\n",
      "==============\n",
      "É\n",
      "==============\n",
      "==============\n",
      "Um\n",
      "==============\n",
      "==============\n",
      "Teste\n",
      "==============\n"
     ]
    }
   ],
   "source": [
    "def mostrar(msg):\n",
    "    print('==============')\n",
    "    print(msg)\n",
    "    print('==============')\n",
    "\n",
    "#PROGRAMA PRINCIPAL\n",
    "mostrar('Este')\n",
    "mostrar('É')\n",
    "mostrar('Um')\n",
    "mostrar('Teste')"
   ]
  },
  {
   "cell_type": "markdown",
   "id": "9b9382a3",
   "metadata": {},
   "source": [
    "#### É possível criar parametros. Isso é fantastico. A função acima é com parâmetro. Sem parâmetro é aquela que é assim ( )."
   ]
  },
  {
   "cell_type": "code",
   "execution_count": 3,
   "id": "f44fd1e0",
   "metadata": {},
   "outputs": [
    {
     "name": "stdout",
     "output_type": "stream",
     "text": [
      "10\n",
      "14\n",
      "6\n"
     ]
    }
   ],
   "source": [
    "# Um caso usando 2 parametros\n",
    "\n",
    "def soma (a, b): # QUANDO HÁ 2 PARAMETROS SEMPRE VC TEM QUE DEFINIR OS MESMOS\n",
    "    soma = a + b\n",
    "    print(soma)\n",
    "    \n",
    "#Programa principal\n",
    "soma(4, 6)\n",
    "soma(5, 9)\n",
    "soma(3, 3)"
   ]
  },
  {
   "cell_type": "markdown",
   "id": "bbc7b9d1",
   "metadata": {},
   "source": [
    "#### O Python tem uma facilidade em funções que não se encontra em outras. É o chamado empacotamento. No exemplo acima você era obrigado a definir a quantidade de váriaveis descritas na função. No empacotamento não. Segue exemplo."
   ]
  },
  {
   "cell_type": "code",
   "execution_count": 4,
   "id": "4026d108",
   "metadata": {},
   "outputs": [
    {
     "name": "stdout",
     "output_type": "stream",
     "text": [
      "(2, 1, 7)\n",
      "(8, 0)\n",
      "(4, 4, 7, 6, 2)\n"
     ]
    }
   ],
   "source": [
    "def contador(*num): # O asterisco permite que ele fique dinâmico.\n",
    "    print(num)\n",
    "    \n",
    "# programa principal. Criou 3 tuplas   \n",
    "contador(2, 1, 7)\n",
    "contador(8, 0)\n",
    "contador(4, 4, 7, 6, 2)"
   ]
  },
  {
   "cell_type": "code",
   "execution_count": null,
   "id": "1a7ab93c",
   "metadata": {},
   "outputs": [],
   "source": []
  }
 ],
 "metadata": {
  "kernelspec": {
   "display_name": "Python 3",
   "language": "python",
   "name": "python3"
  },
  "language_info": {
   "codemirror_mode": {
    "name": "ipython",
    "version": 3
   },
   "file_extension": ".py",
   "mimetype": "text/x-python",
   "name": "python",
   "nbconvert_exporter": "python",
   "pygments_lexer": "ipython3",
   "version": "3.8.8"
  }
 },
 "nbformat": 4,
 "nbformat_minor": 5
}
