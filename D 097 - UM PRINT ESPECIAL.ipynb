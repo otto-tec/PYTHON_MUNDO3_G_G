{
 "cells": [
  {
   "cell_type": "markdown",
   "id": "4f10bc61",
   "metadata": {},
   "source": [
    "## DESAFIO 097\n",
    "### Faça um programa que tenha uma função chamada escreva(), que receba um texto qualquer como parâmetro e mostre uma mensagem com tamanho adaptável. "
   ]
  },
  {
   "cell_type": "code",
   "execution_count": 3,
   "id": "7eadb6b7",
   "metadata": {},
   "outputs": [
    {
     "name": "stdout",
     "output_type": "stream",
     "text": [
      "===\n",
      "Ola\n",
      "===\n",
      "=========\n",
      "Deu certo\n",
      "=========\n",
      "==============================\n",
      "Ele conta os espaços também!!!\n",
      "==============================\n"
     ]
    }
   ],
   "source": [
    "# Programa que eu fiz\n",
    "def escreva(mensage):\n",
    "    print(f'='* len(mensage))\n",
    "    print(mensage)\n",
    "    print(f'='* len(mensage))\n",
    "\n",
    "escreva('Ola')\n",
    "escreva('Deu certo')\n",
    "escreva('Ele conta os espaços também!!!')"
   ]
  },
  {
   "cell_type": "markdown",
   "id": "7b643367",
   "metadata": {},
   "source": [
    "____"
   ]
  },
  {
   "cell_type": "code",
   "execution_count": 5,
   "id": "8f7cf7cc",
   "metadata": {},
   "outputs": [
    {
     "name": "stdout",
     "output_type": "stream",
     "text": [
      "~~~~~~~~~~~~~~~~~~~~~\n",
      "  Gustavo Guanabara\n",
      "~~~~~~~~~~~~~~~~~~~~~\n",
      "~~~~~~~~~~~~~~~~~~~~~~~~~~~~~~\n",
      "  Curso de Python no YouTube\n",
      "~~~~~~~~~~~~~~~~~~~~~~~~~~~~~~\n",
      "~~~~~~~\n",
      "  CeV\n",
      "~~~~~~~\n"
     ]
    }
   ],
   "source": [
    "# PROGRAMA FEITO PELO GUANABARA\n",
    "def escreva(msg):\n",
    "    tam = len(msg) + 4\n",
    "    print('~' * tam)\n",
    "    print(f'  {msg}')\n",
    "    print('~' * tam)\n",
    "\n",
    "# Programa Principal\n",
    "escreva('Gustavo Guanabara')\n",
    "escreva('Curso de Python no YouTube')\n",
    "escreva('CeV')"
   ]
  }
 ],
 "metadata": {
  "kernelspec": {
   "display_name": "Python 3",
   "language": "python",
   "name": "python3"
  },
  "language_info": {
   "codemirror_mode": {
    "name": "ipython",
    "version": 3
   },
   "file_extension": ".py",
   "mimetype": "text/x-python",
   "name": "python",
   "nbconvert_exporter": "python",
   "pygments_lexer": "ipython3",
   "version": "3.8.8"
  }
 },
 "nbformat": 4,
 "nbformat_minor": 5
}
