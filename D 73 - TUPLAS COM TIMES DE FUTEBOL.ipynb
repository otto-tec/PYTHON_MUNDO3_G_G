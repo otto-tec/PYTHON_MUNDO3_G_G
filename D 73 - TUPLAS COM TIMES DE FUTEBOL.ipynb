{
 "cells": [
  {
   "cell_type": "markdown",
   "id": "603201fc",
   "metadata": {},
   "source": [
    "## DESAFIO 73\n",
    "### Crie uma tupla preenchida com os 20 primeiros colocados da Tabela do Campeonato Brasileiro de Futebol, na ordem de Colocação. Depois mostre:\n",
    "#### A) Os 5 primeiros.\n",
    "#### B) Os últimos 4 colocados.\n",
    "#### C) Times em ordem alfabetica.\n",
    "#### D) Em que posição está o time da América."
   ]
  },
  {
   "cell_type": "code",
   "execution_count": 6,
   "id": "b58d377d",
   "metadata": {},
   "outputs": [
    {
     "name": "stdout",
     "output_type": "stream",
     "text": [
      "===============================================================================================\n",
      "Os 5 primeiros colocados são ('Atletico', 'Flamengo', 'Palmeiras', 'Bragantino', 'Corinthians')\n",
      "===============================================================================================\n",
      "Os 4 últimos colocados foram: ('Juventude', 'Sport', 'Grêmio', 'Chapecoense')\n",
      "===============================================================================================\n",
      "Os times em ordem alfabéticas são: ['América', 'Athletico', 'Atletico', 'Atlético-GO', 'Bahia', 'Bragantino', 'Ceará', 'Chapecoense', 'Corinthians', 'Cuiabá', 'Flamengo', 'Fluminense', 'Fortaleza', 'Grêmio', 'Internacional', 'Juventude', 'Palmeiras', 'Santos', 'Sport', 'São Paulo']\n",
      "===============================================================================================\n",
      " O time América está na 9º posição\n"
     ]
    }
   ],
   "source": [
    "classif_ = ('Atletico', 'Flamengo', 'Palmeiras', 'Bragantino', 'Corinthians', 'Fortaleza', 'Internacional', 'Fluminense', 'América', 'Ceará', 'Athletico', 'Santos', 'Cuiabá', 'Atlético-GO', 'São Paulo', 'Bahia', 'Juventude', 'Sport', 'Grêmio', 'Chapecoense')\n",
    "\n",
    "print('=' * 95)\n",
    "print(f'Os 5 primeiros colocados são {classif_[:5]}')\n",
    "print('=' * 95)\n",
    "print(f'Os 4 últimos colocados foram: {classif_[-4:]}')\n",
    "print('=' * 95)\n",
    "print(f'Os times em ordem alfabéticas são: {sorted(classif_)}')\n",
    "print('=' * 95)\n",
    "print(f' O time América está na {classif_.index(\"América\")+1}º posição')"
   ]
  },
  {
   "cell_type": "markdown",
   "id": "d4148fae",
   "metadata": {},
   "source": [
    "### ATENÇÃO : \n",
    "#### No .index ele só aceita se colocar aspas duplas \" \" . Caso coloque aspas simples não funciona!!!! "
   ]
  }
 ],
 "metadata": {
  "kernelspec": {
   "display_name": "Python 3",
   "language": "python",
   "name": "python3"
  },
  "language_info": {
   "codemirror_mode": {
    "name": "ipython",
    "version": 3
   },
   "file_extension": ".py",
   "mimetype": "text/x-python",
   "name": "python",
   "nbconvert_exporter": "python",
   "pygments_lexer": "ipython3",
   "version": "3.8.8"
  }
 },
 "nbformat": 4,
 "nbformat_minor": 5
}
