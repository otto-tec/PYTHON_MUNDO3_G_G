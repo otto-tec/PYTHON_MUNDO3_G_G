{
 "cells": [
  {
   "cell_type": "markdown",
   "id": "9826bfc8",
   "metadata": {},
   "source": [
    "#### TECNICAS PRÁTICAS PARA MANIPULAR LISTAS"
   ]
  },
  {
   "cell_type": "code",
   "execution_count": 3,
   "id": "e1c4800f",
   "metadata": {},
   "outputs": [
    {
     "name": "stdout",
     "output_type": "stream",
     "text": [
      "['a', 'b', 'c', 'd', 'e']\n",
      "['a', 'T', 'c', 'd', 'e']\n"
     ]
    }
   ],
   "source": [
    "# para acrescentar um item\n",
    "lista = ['a', 'b', 'c', 'd', 'e']\n",
    "print(lista)\n",
    "\n",
    "lista[1] = 'T'\n",
    "\n",
    "print(lista)\n",
    "\n",
    "# Nesse caso ele substitui o indice da lista"
   ]
  },
  {
   "cell_type": "code",
   "execution_count": 8,
   "id": "a7072784",
   "metadata": {},
   "outputs": [
    {
     "name": "stdout",
     "output_type": "stream",
     "text": [
      "['a', 'b', 'c', 'd', 'e']\n",
      "None\n"
     ]
    }
   ],
   "source": [
    "# Adicionando elemento no final da lista\n",
    "lista = ['a', 'b', 'c', 'd', 'e']\n",
    "print(lista)\n",
    "\n",
    "lista.append('T')\n",
    "\n",
    "print(lista2)"
   ]
  },
  {
   "cell_type": "code",
   "execution_count": 26,
   "id": "b76f7b72",
   "metadata": {},
   "outputs": [
    {
     "name": "stdout",
     "output_type": "stream",
     "text": [
      "[2, 5, 9, 1]\n",
      "[2, 5, 3, 1] Subst. um elemento determinado, no caso indice 2 vira num. 3\n",
      "[2, 5, 3, 1, 7] Adiciona um elemento ao final da lista\n",
      "[1, 2, 3, 5, 7] Cria uma sequencia crescente\n",
      "[7, 5, 3, 2, 1] Cria uma sequencia decrescente\n",
      "5   Mostra a quantidade de elementos\n",
      "[7, 5, 0, 3, 2, 1] Substituiu o indice 2 por 0\n",
      "[7, 5, 0, 3, 2]    Eliminou o último elemento (1)\n",
      "[7, 5, 3, 2]   Eliminou o elemento indice 2, o 0\n",
      "[7, 5, 2] Neste caso ele remove o valor especificado, numa lista ele\n",
      "verifica o 1° valor que seja igual ao determinado\n"
     ]
    }
   ],
   "source": [
    "num = [2, 5, 9, 1]\n",
    "print(num)\n",
    "num[2] = 3               #Substitui um item da lista\n",
    "print(num, 'Subst. um elemento determinado, no caso indice 2 vira num. 3')\n",
    "num.append(7)            #Adiciona um item ao final da lista\n",
    "print(num, 'Adiciona um elemento ao final da lista')\n",
    "num.sort()               #Coloca os indices em ordem\n",
    "print(num, 'Cria uma sequencia crescente')\n",
    "num.sort(reverse = True) #Inverte a sequência (decrescente)\n",
    "print(num, 'Cria uma sequencia decrescente')\n",
    "a = len(num)             #Retorna a quantidade de elementos de uma lista\n",
    "print(a, '  Mostra a quantidade de elementos')\n",
    "num.insert(2, 0)         #Substitui um valor no indice determinado, no caso o 0 no indice 2\n",
    "print(num, 'Substituiu o indice 2 por 0')\n",
    "num.pop()                #Exclui o último elemento da lista\n",
    "print(num, '   Eliminou o último elemento (1)')\n",
    "num.pop(2)               #Exclui um elemento específico da lista\n",
    "print(num, '  Eliminou o elemento indice 2, o 0')\n",
    "num.remove(3)            #Exclui o valor que foi determinado dentro da lista\n",
    "print(num, '''Neste caso ele remove o valor especificado, numa lista ele\n",
    "verifica o 1° valor que seja igual ao determinado''')"
   ]
  },
  {
   "cell_type": "code",
   "execution_count": 27,
   "id": "f23a4f82",
   "metadata": {},
   "outputs": [
    {
     "name": "stdout",
     "output_type": "stream",
     "text": [
      "Na posição 0 encontrei o valor 5!\n",
      "Na posição 1 encontrei o valor 9!\n",
      "Na posição 2 encontrei o valor 4!\n",
      "Cheguei ao final da lista.\n"
     ]
    }
   ],
   "source": [
    "# Fazendo um exemplo com laços\n",
    "\n",
    "valores = []\n",
    "valores.append(5)\n",
    "valores.append(9)\n",
    "valores.append(4)\n",
    "\n",
    "for c, v in enumerate(valores): # O enumerate pega tanto a chave quanto o valor\n",
    "    print(f'Na posição {c} encontrei o valor {v}!')\n",
    "print('Cheguei ao final da lista.')"
   ]
  },
  {
   "cell_type": "code",
   "execution_count": 28,
   "id": "0093cce8",
   "metadata": {},
   "outputs": [
    {
     "name": "stdout",
     "output_type": "stream",
     "text": [
      "Digite um valor: 5\n",
      "Digite um valor: 7\n",
      "Digite um valor: 8\n",
      "Digite um valor: 3\n",
      "Digite um valor: 1\n",
      "Na posição 0 encontrei o valor 5!\n",
      "Na posição 1 encontrei o valor 7!\n",
      "Na posição 2 encontrei o valor 8!\n",
      "Na posição 3 encontrei o valor 3!\n",
      "Na posição 4 encontrei o valor 1!\n",
      "Cheguei ao final da lista.\n"
     ]
    }
   ],
   "source": [
    "# Fazendo um exemplo que permite o usuário adicionar valores na lista\n",
    "\n",
    "valores = []\n",
    "for cont in range(0, 5):\n",
    "    valores.append(int(input('Digite um valor: ')))\n",
    "\n",
    "for c, v in enumerate(valores): # O enumerate pega tanto a chave quanto o valor\n",
    "    print(f'Na posição {c} encontrei o valor {v}!')\n",
    "print('Cheguei ao final da lista.')\n"
   ]
  },
  {
   "cell_type": "markdown",
   "id": "02b0f205",
   "metadata": {},
   "source": [
    "#### Uma observação importante se refere a interação de listas. Quando você cria uma variavel que seja igual a uma outra que possui uma lista, ocorre que quando você muda um indice dessa variável a outra (original) tambem muda!!! \n",
    "### Exemplo:"
   ]
  },
  {
   "cell_type": "code",
   "execution_count": 29,
   "id": "445db30c",
   "metadata": {},
   "outputs": [
    {
     "name": "stdout",
     "output_type": "stream",
     "text": [
      "Lista A: [2, 3, 8, 7]\n",
      "Lista B: [2, 3, 8, 7]\n"
     ]
    }
   ],
   "source": [
    "a = [2, 3, 4, 7]\n",
    "b = a\n",
    "b[2] = 8\n",
    "print(f'Lista A: {a}')\n",
    "print(f'Lista B: {b}')"
   ]
  },
  {
   "cell_type": "markdown",
   "id": "42af0050",
   "metadata": {},
   "source": [
    "#### Existe uma forma de fazer uma cópia da lista sem alterar a original. É a técnica do fatiamento. \n",
    "### Exemplo:"
   ]
  },
  {
   "cell_type": "code",
   "execution_count": 30,
   "id": "7f620b5d",
   "metadata": {},
   "outputs": [
    {
     "name": "stdout",
     "output_type": "stream",
     "text": [
      "Lista A: [2, 3, 4, 7]\n",
      "Lista B: [2, 3, 8, 7]\n"
     ]
    }
   ],
   "source": [
    "a = [2, 3, 4, 7]\n",
    "b = a[:]\n",
    "b[2] = 8\n",
    "print(f'Lista A: {a}')\n",
    "print(f'Lista B: {b}')"
   ]
  },
  {
   "cell_type": "code",
   "execution_count": null,
   "id": "b191ef04",
   "metadata": {},
   "outputs": [],
   "source": []
  }
 ],
 "metadata": {
  "kernelspec": {
   "display_name": "Python 3",
   "language": "python",
   "name": "python3"
  },
  "language_info": {
   "codemirror_mode": {
    "name": "ipython",
    "version": 3
   },
   "file_extension": ".py",
   "mimetype": "text/x-python",
   "name": "python",
   "nbconvert_exporter": "python",
   "pygments_lexer": "ipython3",
   "version": "3.8.8"
  }
 },
 "nbformat": 4,
 "nbformat_minor": 5
}
