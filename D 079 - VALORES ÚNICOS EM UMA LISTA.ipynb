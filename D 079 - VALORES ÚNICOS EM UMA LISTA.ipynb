{
 "cells": [
  {
   "cell_type": "markdown",
   "id": "cfed2c2f",
   "metadata": {},
   "source": [
    "## DESAFIO 079\n",
    "### Crie um programa onde o usuário possa digitar vários valores numéricos e cadastre-os em uma lista. Caso o número já exista lá dentro, ele não será adicionado. No final, serão exibidos todos os valores únicos digitados, em ordem crescente."
   ]
  },
  {
   "cell_type": "code",
   "execution_count": 3,
   "id": "903fc0fe",
   "metadata": {},
   "outputs": [
    {
     "name": "stdout",
     "output_type": "stream",
     "text": [
      "==================================================\n",
      "              LISTA DE VALORES ÚNICOS\n",
      "==================================================\n",
      "Digite um valor: 6\n",
      "Valor adicionado com sucesso...\n",
      "Deseja continuar? s\n",
      "Digite um valor: 2\n",
      "Valor adicionado com sucesso...\n",
      "Deseja continuar? s\n",
      "Digite um valor: 8\n",
      "Valor adicionado com sucesso...\n",
      "Deseja continuar? s\n",
      "Digite um valor: 3\n",
      "Valor adicionado com sucesso...\n",
      "Deseja continuar? j\n",
      "Digito inválido. Deseja continuar? h\n",
      "Digito inválido. Deseja continuar? n\n",
      "==================================================\n",
      "Os valores adicionados foram: [2, 3, 6, 8]\n"
     ]
    }
   ],
   "source": [
    "# PROGRAMA QUE EU FIZ\n",
    "import time\n",
    "print('=' * 50)\n",
    "print('              LISTA DE VALORES ÚNICOS')\n",
    "print('=' * 50)\n",
    "time.sleep(0.5)\n",
    "\n",
    "\n",
    "lista = []\n",
    "op = 'S'\n",
    "while True:\n",
    "        if op == 'S':\n",
    "            entr = int(input('Digite um valor: '))\n",
    "            if entr in lista:\n",
    "                print('Valor duplicado. Não vou adicionar...')\n",
    "            else:\n",
    "                lista += [entr]\n",
    "                print('Valor adicionado com sucesso...')\n",
    "            op = input('Deseja continuar? ').upper().strip()[0]\n",
    "        elif op == 'N':\n",
    "            break\n",
    "        elif op != 'S' or op != 'N':\n",
    "            op = input('Digito inválido. Deseja continuar? ').upper().strip()[0]\n",
    "\n",
    "\n",
    "lista.sort()   \n",
    "print('=' * 50)\n",
    "print('Os valores adicionados foram:', lista)"
   ]
  },
  {
   "cell_type": "code",
   "execution_count": 4,
   "id": "fd9909c9",
   "metadata": {},
   "outputs": [
    {
     "name": "stdout",
     "output_type": "stream",
     "text": [
      "Digite um valor: 6\n",
      "Valor adicionado com sucesso...\n",
      "Quer continuar? [S/N]s\n",
      "Digite um valor: 2\n",
      "Valor adicionado com sucesso...\n",
      "Quer continuar? [S/N]s\n",
      "Digite um valor: 8\n",
      "Valor adicionado com sucesso...\n",
      "Quer continuar? [S/N]s\n",
      "Digite um valor: 3\n",
      "Valor adicionado com sucesso...\n",
      "Quer continuar? [S/N]h\n",
      "Digite um valor: 4\n",
      "Valor adicionado com sucesso...\n",
      "Quer continuar? [S/N]ouyiiyh\n",
      "Digite um valor: 2\n",
      "Valor duplicado! Não vou adicionar...\n",
      "Quer continuar? [S/N]n\n",
      "-=-=-=-=-=-=-=-=-=-=-=-=-=-=-=-=-=-=-=-=-=-=-=-=-=-=-=-=-=-=\n",
      "Vocè digitou os valores [2, 3, 4, 6, 8]\n"
     ]
    }
   ],
   "source": [
    "# PROGRAMA FEITO PELO GUSTAVO\n",
    "números = list()\n",
    "while True:\n",
    "    n = int(input('Digite um valor: '))\n",
    "    if n not in números:\n",
    "        números.append(n)\n",
    "        print('Valor adicionado com sucesso...')\n",
    "    else:\n",
    "        print('Valor duplicado! Não vou adicionar...')\n",
    "    r = str(input('Quer continuar? [S/N]'))\n",
    "    if r in 'Nn':\n",
    "        break\n",
    "print('-=' * 30)\n",
    "números.sort()\n",
    "print(f'Vocè digitou os valores {números}')"
   ]
  },
  {
   "cell_type": "code",
   "execution_count": null,
   "id": "fe8362b4",
   "metadata": {},
   "outputs": [],
   "source": []
  }
 ],
 "metadata": {
  "kernelspec": {
   "display_name": "Python 3",
   "language": "python",
   "name": "python3"
  },
  "language_info": {
   "codemirror_mode": {
    "name": "ipython",
    "version": 3
   },
   "file_extension": ".py",
   "mimetype": "text/x-python",
   "name": "python",
   "nbconvert_exporter": "python",
   "pygments_lexer": "ipython3",
   "version": "3.8.8"
  }
 },
 "nbformat": 4,
 "nbformat_minor": 5
}
