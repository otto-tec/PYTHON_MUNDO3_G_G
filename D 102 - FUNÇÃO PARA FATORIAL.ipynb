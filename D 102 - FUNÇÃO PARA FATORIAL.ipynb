{
 "cells": [
  {
   "cell_type": "markdown",
   "id": "03cfff37",
   "metadata": {},
   "source": [
    "## DESAFIO 102\n",
    "### Crie um programa que tenha uma função fatorial() que receba dois parâmetros: o primeiro que indique o número a calcular e o outro chamado show, que será um valor lógico(opcional) indicando se será mostrado ou não na tela o processo de cálculo do fatorial."
   ]
  },
  {
   "cell_type": "code",
   "execution_count": 53,
   "id": "87543bfe",
   "metadata": {},
   "outputs": [
    {
     "name": "stdout",
     "output_type": "stream",
     "text": [
      "3 x 2 x 1 = 6\n"
     ]
    }
   ],
   "source": [
    "# PROGRAMA QUE EU FIZ\n",
    "def fatorial(n1, show = False):\n",
    "    f = 1\n",
    "    for c in range (n1, 0, -1):\n",
    "        if show == True:\n",
    "            print('{}'.format(c), end = '')\n",
    "            print(' x ' if c > 1 else ' = ', end='')\n",
    "        f *= c\n",
    "    print(f'{f}')  \n",
    "\n",
    "#Programa principal\n",
    "fatorial(3, show = True)\n"
   ]
  },
  {
   "cell_type": "code",
   "execution_count": 54,
   "id": "d5b50986",
   "metadata": {},
   "outputs": [
    {
     "name": "stdout",
     "output_type": "stream",
     "text": [
      "6\n"
     ]
    }
   ],
   "source": [
    "# PROGRAMA QUE EU FIZ\n",
    "def fatorial(n1, show = False):\n",
    "    f = 1\n",
    "    for c in range (n1, 0, -1):\n",
    "        if show == True:\n",
    "            print('{}'.format(c), end = '')\n",
    "            print(' x ' if c > 1 else ' = ', end='')\n",
    "        f *= c\n",
    "    print(f'{f}')  \n",
    "\n",
    "#Programa principal\n",
    "fatorial(3)"
   ]
  },
  {
   "cell_type": "markdown",
   "id": "157cd341",
   "metadata": {},
   "source": [
    "____"
   ]
  },
  {
   "cell_type": "code",
   "execution_count": 56,
   "id": "3d30f254",
   "metadata": {},
   "outputs": [
    {
     "name": "stdout",
     "output_type": "stream",
     "text": [
      "5 x 4 x 3 x 2 x 1 = 120\n"
     ]
    }
   ],
   "source": [
    "#PROGRAMA QUE O GUSTAVO FEZ\n",
    "\n",
    "def fatorial(n, show=False):\n",
    "    f = 1\n",
    "    for c in range(n, 0, -1):\n",
    "        if show:\n",
    "            print(c, end='')\n",
    "            if c > 1:\n",
    "                print(' x ', end='')\n",
    "            else:\n",
    "                print(' = ', end='')\n",
    "        f *= c\n",
    "    return f\n",
    "\n",
    "#Programa Principal\n",
    "print(fatorial(5, show=True))"
   ]
  },
  {
   "cell_type": "markdown",
   "id": "52370b64",
   "metadata": {},
   "source": [
    "____"
   ]
  },
  {
   "cell_type": "code",
   "execution_count": 57,
   "id": "3712d49f",
   "metadata": {},
   "outputs": [
    {
     "name": "stdout",
     "output_type": "stream",
     "text": [
      "120\n"
     ]
    }
   ],
   "source": [
    "#PROGRAMA QUE O GUSTAVO FEZ\n",
    "\n",
    "def fatorial(n, show=False):\n",
    "    f = 1\n",
    "    for c in range(n, 0, -1):\n",
    "        if show:\n",
    "            print(c, end='')\n",
    "            if c > 1:\n",
    "                print(' x ', end='')\n",
    "            else:\n",
    "                print(' = ', end='')\n",
    "        f *= c\n",
    "    return f\n",
    "\n",
    "#Programa Principal\n",
    "print(fatorial(5))"
   ]
  },
  {
   "cell_type": "code",
   "execution_count": null,
   "id": "9d844b97",
   "metadata": {},
   "outputs": [],
   "source": []
  },
  {
   "cell_type": "code",
   "execution_count": null,
   "id": "097416f4",
   "metadata": {},
   "outputs": [],
   "source": []
  }
 ],
 "metadata": {
  "kernelspec": {
   "display_name": "Python 3",
   "language": "python",
   "name": "python3"
  },
  "language_info": {
   "codemirror_mode": {
    "name": "ipython",
    "version": 3
   },
   "file_extension": ".py",
   "mimetype": "text/x-python",
   "name": "python",
   "nbconvert_exporter": "python",
   "pygments_lexer": "ipython3",
   "version": "3.8.8"
  }
 },
 "nbformat": 4,
 "nbformat_minor": 5
}
