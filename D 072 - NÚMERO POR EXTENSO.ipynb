{
 "cells": [
  {
   "cell_type": "markdown",
   "id": "1347650a",
   "metadata": {},
   "source": [
    "## DESAFIO 72\n",
    "### Crie um programa que tenha uma tupla totalmente preenchida com uma contagem por extenso, de zero até vinte.\n",
    "\n",
    "### Seu programa deverá ler um número pelo teclado(entre 0 e 20) e mostrá-lo por extenso."
   ]
  },
  {
   "cell_type": "code",
   "execution_count": null,
   "id": "dfe96dd6",
   "metadata": {},
   "outputs": [],
   "source": [
    "# Programa que eu criei\n",
    "n = int(input('Digite um número entre 0 e 20: '))\n",
    "tupla = ('zero', 'um', 'dois', 'tres', 'quatro', 'cinco', 'seis', 'sete', 'oito', 'nove', 'dez', 'onze', 'doze', 'treze', 'quatorze', 'quinze', 'dezesseis', 'dezessete', 'dezoito', \n",
    "         'dezenove', 'vinte')\n",
    "\n",
    "while True:\n",
    "    if n >= 0 and n <= 20:\n",
    "        break\n",
    "    else:\n",
    "        n = int(input('Tente novamente. Digite um número entre 0 e 20: '))\n",
    "    \n",
    "print(f'Você digitou o número {tupla[n]}!')"
   ]
  },
  {
   "cell_type": "markdown",
   "id": "b0db2dd4",
   "metadata": {},
   "source": [
    "### DESAFIO EXTRA\n",
    "#### Fazer o mesmo programa porem agora colocando uma opção para o operador escolher se quer introduzir mais números."
   ]
  },
  {
   "cell_type": "code",
   "execution_count": 1,
   "id": "d4b17ec8",
   "metadata": {},
   "outputs": [
    {
     "name": "stdout",
     "output_type": "stream",
     "text": [
      "Digite um número entre 0 e 20: 23\n",
      "Tente novamente. Digite um número entre 0 e 20: 43\n",
      "Tente novamente. Digite um número entre 0 e 20: 20\n",
      "Você digitou o número vinte!\n",
      "Deseja continuar? [S/N] s\n",
      "Digite um número entre 0 e 20: 11\n",
      "Você digitou o número onze!\n",
      "Deseja continuar? [S/N] n\n",
      "FIM DO PROGRAMA. VOLTE SEMPRE!\n"
     ]
    }
   ],
   "source": [
    "# Programa que eu criei extra\n",
    "tupla = ('zero', 'um', 'dois', 'tres', 'quatro', 'cinco', 'seis', 'sete', 'oito', 'nove', 'dez', 'onze', 'doze', 'treze', 'quatorze', 'quinze', 'dezesseis', 'dezessete', 'dezoito', \n",
    "         'dezenove', 'vinte')\n",
    "n = int(input('Digite um número entre 0 e 20: '))\n",
    "cond = ''\n",
    "\n",
    "while True:\n",
    "    \n",
    "    if n >= 0 and n <= 20:\n",
    "        print(f'Você digitou o número {tupla[n]}!')\n",
    "        cond = input('Deseja continuar? [S/N] ').upper().strip()[0]\n",
    "    if cond == 'N':\n",
    "        break\n",
    "    elif cond == 'S':\n",
    "        n = int(input('Digite um número entre 0 e 20: '))\n",
    "    elif cond != 'S' or cond != 'N':\n",
    "        n = int(input('Tente novamente. Digite um número entre 0 e 20: '))\n",
    "    \n",
    "    \n",
    "\n",
    "    \n",
    "    \n",
    "print('FIM DO PROGRAMA. VOLTE SEMPRE!')"
   ]
  },
  {
   "cell_type": "code",
   "execution_count": null,
   "id": "630d0d85",
   "metadata": {},
   "outputs": [],
   "source": []
  }
 ],
 "metadata": {
  "kernelspec": {
   "display_name": "Python 3",
   "language": "python",
   "name": "python3"
  },
  "language_info": {
   "codemirror_mode": {
    "name": "ipython",
    "version": 3
   },
   "file_extension": ".py",
   "mimetype": "text/x-python",
   "name": "python",
   "nbconvert_exporter": "python",
   "pygments_lexer": "ipython3",
   "version": "3.8.8"
  }
 },
 "nbformat": 4,
 "nbformat_minor": 5
}
