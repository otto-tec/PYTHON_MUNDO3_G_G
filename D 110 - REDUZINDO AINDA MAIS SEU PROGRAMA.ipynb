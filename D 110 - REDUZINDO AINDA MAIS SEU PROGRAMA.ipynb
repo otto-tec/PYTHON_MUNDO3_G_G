{
 "cells": [
  {
   "cell_type": "markdown",
   "id": "9adae42c",
   "metadata": {},
   "source": [
    "## DESAFIO 110\n",
    "### Adicione ao módulo moeda.py criado nos desafios anteriores, uma função chamada resumo(), que mostre naa tela algumas informações geradas pelas funções que já temos no módulo cirado até aqui."
   ]
  },
  {
   "cell_type": "code",
   "execution_count": 1,
   "id": "32b1c5e7",
   "metadata": {},
   "outputs": [
    {
     "name": "stdout",
     "output_type": "stream",
     "text": [
      "importing Jupyter notebook from moeda5.ipynb\n",
      "Digite o preço: R$1000\n",
      "========================================\n",
      "            RESUMO DO VALOR             \n",
      "========================================\n",
      "Preço analisado:\tR$1000,00\n",
      "Dobro do preço:\t\tR$2000,00\n",
      "Metade do preço:\tR$500,00\n",
      "10% de aumento:\t\tR$1100,00\n",
      "5% de redução:\t\tR$950,00\n",
      "========================================\n"
     ]
    }
   ],
   "source": [
    "import import_ipynb\n",
    "import moeda5\n",
    "\n",
    "p = float(input('Digite o preço: R$'))\n",
    "\n",
    "moeda5.resumo(p)"
   ]
  },
  {
   "cell_type": "code",
   "execution_count": null,
   "id": "81a6c427",
   "metadata": {},
   "outputs": [],
   "source": []
  }
 ],
 "metadata": {
  "kernelspec": {
   "display_name": "Python 3",
   "language": "python",
   "name": "python3"
  },
  "language_info": {
   "codemirror_mode": {
    "name": "ipython",
    "version": 3
   },
   "file_extension": ".py",
   "mimetype": "text/x-python",
   "name": "python",
   "nbconvert_exporter": "python",
   "pygments_lexer": "ipython3",
   "version": "3.8.8"
  }
 },
 "nbformat": 4,
 "nbformat_minor": 5
}
