{
 "cells": [
  {
   "cell_type": "markdown",
   "id": "ac678539",
   "metadata": {},
   "source": [
    "## DESAFIO 106\n",
    "### Faça um mini-sistema que utilize o interactive Help do Python. O usuário vai digitar o comando e o manual vai aparecer. Quando o usuário digitar a palavra 'FIM', o programa se encerrará.\n",
    "\n",
    "### Obs.: use cores."
   ]
  },
  {
   "cell_type": "code",
   "execution_count": 57,
   "id": "2564611f",
   "metadata": {},
   "outputs": [
    {
     "name": "stdout",
     "output_type": "stream",
     "text": [
      "\u001b[1;33m*\u001b[m\u001b[1;33m*\u001b[m\u001b[1;33m*\u001b[m\u001b[1;33m*\u001b[m\u001b[1;33m*\u001b[m\u001b[1;33m*\u001b[m\u001b[1;33m*\u001b[m\u001b[1;33m*\u001b[m\u001b[1;33m*\u001b[m\u001b[1;33m*\u001b[m\u001b[1;33m*\u001b[m\u001b[1;33m*\u001b[m\u001b[1;33m*\u001b[m\u001b[1;33m*\u001b[m\u001b[1;33m*\u001b[m\u001b[1;33m*\u001b[m\u001b[1;33m*\u001b[m\u001b[1;33m*\u001b[m\u001b[1;33m*\u001b[m\u001b[1;33m*\u001b[m\u001b[1;33m*\u001b[m\u001b[1;33m*\u001b[m\u001b[1;33m*\u001b[m\u001b[1;33m*\u001b[m\u001b[1;33m*\u001b[m\u001b[1;33m*\u001b[m\u001b[1;33m*\u001b[m\u001b[1;33m*\u001b[m\u001b[1;33m*\u001b[m\u001b[1;33m*\u001b[m\u001b[1;33m*\u001b[m\u001b[1;33m*\u001b[m\u001b[1;33m*\u001b[m\u001b[1;33m*\u001b[m\u001b[1;33m*\u001b[m\u001b[1;33m*\u001b[m\u001b[1;33m*\u001b[m\u001b[1;33m*\u001b[m\u001b[1;33m*\u001b[m\u001b[1;33m*\u001b[m\u001b[1;33m*\u001b[m\u001b[1;33m*\u001b[m\u001b[1;33m*\u001b[m\u001b[1;33m*\u001b[m\u001b[1;33m*\u001b[m\u001b[1;33m*\u001b[m\u001b[1;33m*\u001b[m\u001b[1;33m*\u001b[m\u001b[1;33m*\u001b[m\u001b[1;33m*\u001b[m\n",
      "           \u001b[5;33mSISTEMA DE AJUDA PYTHON\u001b[m           \n",
      "\u001b[1;33m*\u001b[m\u001b[1;33m*\u001b[m\u001b[1;33m*\u001b[m\u001b[1;33m*\u001b[m\u001b[1;33m*\u001b[m\u001b[1;33m*\u001b[m\u001b[1;33m*\u001b[m\u001b[1;33m*\u001b[m\u001b[1;33m*\u001b[m\u001b[1;33m*\u001b[m\u001b[1;33m*\u001b[m\u001b[1;33m*\u001b[m\u001b[1;33m*\u001b[m\u001b[1;33m*\u001b[m\u001b[1;33m*\u001b[m\u001b[1;33m*\u001b[m\u001b[1;33m*\u001b[m\u001b[1;33m*\u001b[m\u001b[1;33m*\u001b[m\u001b[1;33m*\u001b[m\u001b[1;33m*\u001b[m\u001b[1;33m*\u001b[m\u001b[1;33m*\u001b[m\u001b[1;33m*\u001b[m\u001b[1;33m*\u001b[m\u001b[1;33m*\u001b[m\u001b[1;33m*\u001b[m\u001b[1;33m*\u001b[m\u001b[1;33m*\u001b[m\u001b[1;33m*\u001b[m\u001b[1;33m*\u001b[m\u001b[1;33m*\u001b[m\u001b[1;33m*\u001b[m\u001b[1;33m*\u001b[m\u001b[1;33m*\u001b[m\u001b[1;33m*\u001b[m\u001b[1;33m*\u001b[m\u001b[1;33m*\u001b[m\u001b[1;33m*\u001b[m\u001b[1;33m*\u001b[m\u001b[1;33m*\u001b[m\u001b[1;33m*\u001b[m\u001b[1;33m*\u001b[m\u001b[1;33m*\u001b[m\u001b[1;33m*\u001b[m\u001b[1;33m*\u001b[m\u001b[1;33m*\u001b[m\u001b[1;33m*\u001b[m\u001b[1;33m*\u001b[m\u001b[1;33m*\u001b[m\n",
      "Função ou biblioteca> LEN\n",
      "\u001b[0;35m*\u001b[m\u001b[0;35m*\u001b[m\u001b[0;35m*\u001b[m\u001b[0;35m*\u001b[m\u001b[0;35m*\u001b[m\u001b[0;35m*\u001b[m\u001b[0;35m*\u001b[m\u001b[0;35m*\u001b[m\u001b[0;35m*\u001b[m\u001b[0;35m*\u001b[m\u001b[0;35m*\u001b[m\u001b[0;35m*\u001b[m\u001b[0;35m*\u001b[m\u001b[0;35m*\u001b[m\u001b[0;35m*\u001b[m\u001b[0;35m*\u001b[m\u001b[0;35m*\u001b[m\u001b[0;35m*\u001b[m\u001b[0;35m*\u001b[m\u001b[0;35m*\u001b[m\u001b[0;35m*\u001b[m\u001b[0;35m*\u001b[m\u001b[0;35m*\u001b[m\u001b[0;35m*\u001b[m\u001b[0;35m*\u001b[m\u001b[0;35m*\u001b[m\u001b[0;35m*\u001b[m\u001b[0;35m*\u001b[m\u001b[0;35m*\u001b[m\u001b[0;35m*\u001b[m\u001b[0;35m*\u001b[m\u001b[0;35m*\u001b[m\u001b[0;35m*\u001b[m\u001b[0;35m*\u001b[m\u001b[0;35m*\u001b[m\u001b[0;35m*\u001b[m\u001b[0;35m*\u001b[m\u001b[0;35m*\u001b[m\u001b[0;35m*\u001b[m\u001b[0;35m*\u001b[m\u001b[0;35m*\u001b[m\u001b[0;35m*\u001b[m\u001b[0;35m*\u001b[m\u001b[0;35m*\u001b[m\u001b[0;35m*\u001b[m\u001b[0;35m*\u001b[m\u001b[0;35m*\u001b[m\u001b[0;35m*\u001b[m\u001b[0;35m*\u001b[m\u001b[0;35m*\u001b[m\n",
      "      \u001b[0;36mACESSANDO O MANUAL DO COMANDO: len\u001b[m     \n",
      "\u001b[0;35m*\u001b[m\u001b[0;35m*\u001b[m\u001b[0;35m*\u001b[m\u001b[0;35m*\u001b[m\u001b[0;35m*\u001b[m\u001b[0;35m*\u001b[m\u001b[0;35m*\u001b[m\u001b[0;35m*\u001b[m\u001b[0;35m*\u001b[m\u001b[0;35m*\u001b[m\u001b[0;35m*\u001b[m\u001b[0;35m*\u001b[m\u001b[0;35m*\u001b[m\u001b[0;35m*\u001b[m\u001b[0;35m*\u001b[m\u001b[0;35m*\u001b[m\u001b[0;35m*\u001b[m\u001b[0;35m*\u001b[m\u001b[0;35m*\u001b[m\u001b[0;35m*\u001b[m\u001b[0;35m*\u001b[m\u001b[0;35m*\u001b[m\u001b[0;35m*\u001b[m\u001b[0;35m*\u001b[m\u001b[0;35m*\u001b[m\u001b[0;35m*\u001b[m\u001b[0;35m*\u001b[m\u001b[0;35m*\u001b[m\u001b[0;35m*\u001b[m\u001b[0;35m*\u001b[m\u001b[0;35m*\u001b[m\u001b[0;35m*\u001b[m\u001b[0;35m*\u001b[m\u001b[0;35m*\u001b[m\u001b[0;35m*\u001b[m\u001b[0;35m*\u001b[m\u001b[0;35m*\u001b[m\u001b[0;35m*\u001b[m\u001b[0;35m*\u001b[m\u001b[0;35m*\u001b[m\u001b[0;35m*\u001b[m\u001b[0;35m*\u001b[m\u001b[0;35m*\u001b[m\u001b[0;35m*\u001b[m\u001b[0;35m*\u001b[m\u001b[0;35m*\u001b[m\u001b[0;35m*\u001b[m\u001b[0;35m*\u001b[m\u001b[0;35m*\u001b[m\u001b[0;35m*\u001b[m\n",
      "Help on built-in function len in module builtins:\n",
      "\n",
      "len(obj, /)\n",
      "    Return the number of items in a container.\n",
      "\n",
      "None\n",
      "\u001b[1;33m*\u001b[m\u001b[1;33m*\u001b[m\u001b[1;33m*\u001b[m\u001b[1;33m*\u001b[m\u001b[1;33m*\u001b[m\u001b[1;33m*\u001b[m\u001b[1;33m*\u001b[m\u001b[1;33m*\u001b[m\u001b[1;33m*\u001b[m\u001b[1;33m*\u001b[m\u001b[1;33m*\u001b[m\u001b[1;33m*\u001b[m\u001b[1;33m*\u001b[m\u001b[1;33m*\u001b[m\u001b[1;33m*\u001b[m\u001b[1;33m*\u001b[m\u001b[1;33m*\u001b[m\u001b[1;33m*\u001b[m\u001b[1;33m*\u001b[m\u001b[1;33m*\u001b[m\u001b[1;33m*\u001b[m\u001b[1;33m*\u001b[m\u001b[1;33m*\u001b[m\u001b[1;33m*\u001b[m\u001b[1;33m*\u001b[m\u001b[1;33m*\u001b[m\u001b[1;33m*\u001b[m\u001b[1;33m*\u001b[m\u001b[1;33m*\u001b[m\u001b[1;33m*\u001b[m\u001b[1;33m*\u001b[m\u001b[1;33m*\u001b[m\u001b[1;33m*\u001b[m\u001b[1;33m*\u001b[m\u001b[1;33m*\u001b[m\u001b[1;33m*\u001b[m\u001b[1;33m*\u001b[m\u001b[1;33m*\u001b[m\u001b[1;33m*\u001b[m\u001b[1;33m*\u001b[m\u001b[1;33m*\u001b[m\u001b[1;33m*\u001b[m\u001b[1;33m*\u001b[m\u001b[1;33m*\u001b[m\u001b[1;33m*\u001b[m\u001b[1;33m*\u001b[m\u001b[1;33m*\u001b[m\u001b[1;33m*\u001b[m\u001b[1;33m*\u001b[m\u001b[1;33m*\u001b[m\n",
      "           \u001b[5;33mSISTEMA DE AJUDA PYTHON\u001b[m           \n",
      "\u001b[1;33m*\u001b[m\u001b[1;33m*\u001b[m\u001b[1;33m*\u001b[m\u001b[1;33m*\u001b[m\u001b[1;33m*\u001b[m\u001b[1;33m*\u001b[m\u001b[1;33m*\u001b[m\u001b[1;33m*\u001b[m\u001b[1;33m*\u001b[m\u001b[1;33m*\u001b[m\u001b[1;33m*\u001b[m\u001b[1;33m*\u001b[m\u001b[1;33m*\u001b[m\u001b[1;33m*\u001b[m\u001b[1;33m*\u001b[m\u001b[1;33m*\u001b[m\u001b[1;33m*\u001b[m\u001b[1;33m*\u001b[m\u001b[1;33m*\u001b[m\u001b[1;33m*\u001b[m\u001b[1;33m*\u001b[m\u001b[1;33m*\u001b[m\u001b[1;33m*\u001b[m\u001b[1;33m*\u001b[m\u001b[1;33m*\u001b[m\u001b[1;33m*\u001b[m\u001b[1;33m*\u001b[m\u001b[1;33m*\u001b[m\u001b[1;33m*\u001b[m\u001b[1;33m*\u001b[m\u001b[1;33m*\u001b[m\u001b[1;33m*\u001b[m\u001b[1;33m*\u001b[m\u001b[1;33m*\u001b[m\u001b[1;33m*\u001b[m\u001b[1;33m*\u001b[m\u001b[1;33m*\u001b[m\u001b[1;33m*\u001b[m\u001b[1;33m*\u001b[m\u001b[1;33m*\u001b[m\u001b[1;33m*\u001b[m\u001b[1;33m*\u001b[m\u001b[1;33m*\u001b[m\u001b[1;33m*\u001b[m\u001b[1;33m*\u001b[m\u001b[1;33m*\u001b[m\u001b[1;33m*\u001b[m\u001b[1;33m*\u001b[m\u001b[1;33m*\u001b[m\u001b[1;33m*\u001b[m\n",
      "Função ou biblioteca> PRINT\n",
      "\u001b[0;35m*\u001b[m\u001b[0;35m*\u001b[m\u001b[0;35m*\u001b[m\u001b[0;35m*\u001b[m\u001b[0;35m*\u001b[m\u001b[0;35m*\u001b[m\u001b[0;35m*\u001b[m\u001b[0;35m*\u001b[m\u001b[0;35m*\u001b[m\u001b[0;35m*\u001b[m\u001b[0;35m*\u001b[m\u001b[0;35m*\u001b[m\u001b[0;35m*\u001b[m\u001b[0;35m*\u001b[m\u001b[0;35m*\u001b[m\u001b[0;35m*\u001b[m\u001b[0;35m*\u001b[m\u001b[0;35m*\u001b[m\u001b[0;35m*\u001b[m\u001b[0;35m*\u001b[m\u001b[0;35m*\u001b[m\u001b[0;35m*\u001b[m\u001b[0;35m*\u001b[m\u001b[0;35m*\u001b[m\u001b[0;35m*\u001b[m\u001b[0;35m*\u001b[m\u001b[0;35m*\u001b[m\u001b[0;35m*\u001b[m\u001b[0;35m*\u001b[m\u001b[0;35m*\u001b[m\u001b[0;35m*\u001b[m\u001b[0;35m*\u001b[m\u001b[0;35m*\u001b[m\u001b[0;35m*\u001b[m\u001b[0;35m*\u001b[m\u001b[0;35m*\u001b[m\u001b[0;35m*\u001b[m\u001b[0;35m*\u001b[m\u001b[0;35m*\u001b[m\u001b[0;35m*\u001b[m\u001b[0;35m*\u001b[m\u001b[0;35m*\u001b[m\u001b[0;35m*\u001b[m\u001b[0;35m*\u001b[m\u001b[0;35m*\u001b[m\u001b[0;35m*\u001b[m\u001b[0;35m*\u001b[m\u001b[0;35m*\u001b[m\u001b[0;35m*\u001b[m\u001b[0;35m*\u001b[m\n",
      "     \u001b[0;36mACESSANDO O MANUAL DO COMANDO: print\u001b[m    \n",
      "\u001b[0;35m*\u001b[m\u001b[0;35m*\u001b[m\u001b[0;35m*\u001b[m\u001b[0;35m*\u001b[m\u001b[0;35m*\u001b[m\u001b[0;35m*\u001b[m\u001b[0;35m*\u001b[m\u001b[0;35m*\u001b[m\u001b[0;35m*\u001b[m\u001b[0;35m*\u001b[m\u001b[0;35m*\u001b[m\u001b[0;35m*\u001b[m\u001b[0;35m*\u001b[m\u001b[0;35m*\u001b[m\u001b[0;35m*\u001b[m\u001b[0;35m*\u001b[m\u001b[0;35m*\u001b[m\u001b[0;35m*\u001b[m\u001b[0;35m*\u001b[m\u001b[0;35m*\u001b[m\u001b[0;35m*\u001b[m\u001b[0;35m*\u001b[m\u001b[0;35m*\u001b[m\u001b[0;35m*\u001b[m\u001b[0;35m*\u001b[m\u001b[0;35m*\u001b[m\u001b[0;35m*\u001b[m\u001b[0;35m*\u001b[m\u001b[0;35m*\u001b[m\u001b[0;35m*\u001b[m\u001b[0;35m*\u001b[m\u001b[0;35m*\u001b[m\u001b[0;35m*\u001b[m\u001b[0;35m*\u001b[m\u001b[0;35m*\u001b[m\u001b[0;35m*\u001b[m\u001b[0;35m*\u001b[m\u001b[0;35m*\u001b[m\u001b[0;35m*\u001b[m\u001b[0;35m*\u001b[m\u001b[0;35m*\u001b[m\u001b[0;35m*\u001b[m\u001b[0;35m*\u001b[m\u001b[0;35m*\u001b[m\u001b[0;35m*\u001b[m\u001b[0;35m*\u001b[m\u001b[0;35m*\u001b[m\u001b[0;35m*\u001b[m\u001b[0;35m*\u001b[m\u001b[0;35m*\u001b[m\n",
      "Help on built-in function print in module builtins:\n",
      "\n",
      "print(...)\n",
      "    print(value, ..., sep=' ', end='\\n', file=sys.stdout, flush=False)\n",
      "    \n",
      "    Prints the values to a stream, or to sys.stdout by default.\n",
      "    Optional keyword arguments:\n",
      "    file:  a file-like object (stream); defaults to the current sys.stdout.\n",
      "    sep:   string inserted between values, default a space.\n",
      "    end:   string appended after the last value, default a newline.\n",
      "    flush: whether to forcibly flush the stream.\n",
      "\n",
      "None\n",
      "\u001b[1;33m*\u001b[m\u001b[1;33m*\u001b[m\u001b[1;33m*\u001b[m\u001b[1;33m*\u001b[m\u001b[1;33m*\u001b[m\u001b[1;33m*\u001b[m\u001b[1;33m*\u001b[m\u001b[1;33m*\u001b[m\u001b[1;33m*\u001b[m\u001b[1;33m*\u001b[m\u001b[1;33m*\u001b[m\u001b[1;33m*\u001b[m\u001b[1;33m*\u001b[m\u001b[1;33m*\u001b[m\u001b[1;33m*\u001b[m\u001b[1;33m*\u001b[m\u001b[1;33m*\u001b[m\u001b[1;33m*\u001b[m\u001b[1;33m*\u001b[m\u001b[1;33m*\u001b[m\u001b[1;33m*\u001b[m\u001b[1;33m*\u001b[m\u001b[1;33m*\u001b[m\u001b[1;33m*\u001b[m\u001b[1;33m*\u001b[m\u001b[1;33m*\u001b[m\u001b[1;33m*\u001b[m\u001b[1;33m*\u001b[m\u001b[1;33m*\u001b[m\u001b[1;33m*\u001b[m\u001b[1;33m*\u001b[m\u001b[1;33m*\u001b[m\u001b[1;33m*\u001b[m\u001b[1;33m*\u001b[m\u001b[1;33m*\u001b[m\u001b[1;33m*\u001b[m\u001b[1;33m*\u001b[m\u001b[1;33m*\u001b[m\u001b[1;33m*\u001b[m\u001b[1;33m*\u001b[m\u001b[1;33m*\u001b[m\u001b[1;33m*\u001b[m\u001b[1;33m*\u001b[m\u001b[1;33m*\u001b[m\u001b[1;33m*\u001b[m\u001b[1;33m*\u001b[m\u001b[1;33m*\u001b[m\u001b[1;33m*\u001b[m\u001b[1;33m*\u001b[m\u001b[1;33m*\u001b[m\n",
      "           \u001b[5;33mSISTEMA DE AJUDA PYTHON\u001b[m           \n",
      "\u001b[1;33m*\u001b[m\u001b[1;33m*\u001b[m\u001b[1;33m*\u001b[m\u001b[1;33m*\u001b[m\u001b[1;33m*\u001b[m\u001b[1;33m*\u001b[m\u001b[1;33m*\u001b[m\u001b[1;33m*\u001b[m\u001b[1;33m*\u001b[m\u001b[1;33m*\u001b[m\u001b[1;33m*\u001b[m\u001b[1;33m*\u001b[m\u001b[1;33m*\u001b[m\u001b[1;33m*\u001b[m\u001b[1;33m*\u001b[m\u001b[1;33m*\u001b[m\u001b[1;33m*\u001b[m\u001b[1;33m*\u001b[m\u001b[1;33m*\u001b[m\u001b[1;33m*\u001b[m\u001b[1;33m*\u001b[m\u001b[1;33m*\u001b[m\u001b[1;33m*\u001b[m\u001b[1;33m*\u001b[m\u001b[1;33m*\u001b[m\u001b[1;33m*\u001b[m\u001b[1;33m*\u001b[m\u001b[1;33m*\u001b[m\u001b[1;33m*\u001b[m\u001b[1;33m*\u001b[m\u001b[1;33m*\u001b[m\u001b[1;33m*\u001b[m\u001b[1;33m*\u001b[m\u001b[1;33m*\u001b[m\u001b[1;33m*\u001b[m\u001b[1;33m*\u001b[m\u001b[1;33m*\u001b[m\u001b[1;33m*\u001b[m\u001b[1;33m*\u001b[m\u001b[1;33m*\u001b[m\u001b[1;33m*\u001b[m\u001b[1;33m*\u001b[m\u001b[1;33m*\u001b[m\u001b[1;33m*\u001b[m\u001b[1;33m*\u001b[m\u001b[1;33m*\u001b[m\u001b[1;33m*\u001b[m\u001b[1;33m*\u001b[m\u001b[1;33m*\u001b[m\u001b[1;33m*\u001b[m\n",
      "Função ou biblioteca> FIM\n",
      "\u001b[1;46m*\u001b[m\u001b[1;46m*\u001b[m\u001b[1;46m*\u001b[m\u001b[1;46m*\u001b[m\u001b[1;46m*\u001b[m\u001b[1;46m*\u001b[m\u001b[1;46m*\u001b[m\u001b[1;46m*\u001b[m\u001b[1;46m*\u001b[m\u001b[1;46m*\u001b[m\u001b[1;46m*\u001b[m\u001b[1;46m*\u001b[m\u001b[1;46m*\u001b[m\u001b[1;46m*\u001b[m\u001b[1;46m*\u001b[m\u001b[1;46m*\u001b[m\u001b[1;46m*\u001b[m\u001b[1;46m*\u001b[m\u001b[1;46m*\u001b[m\u001b[1;46m*\u001b[m\u001b[1;46m*\u001b[m\u001b[1;46m*\u001b[m\u001b[1;46m*\u001b[m\u001b[1;46m*\u001b[m\u001b[1;46m*\u001b[m\u001b[1;46m*\u001b[m\u001b[1;46m*\u001b[m\u001b[1;46m*\u001b[m\u001b[1;46m*\u001b[m\u001b[1;46m*\u001b[m\u001b[1;46m*\u001b[m\u001b[1;46m*\u001b[m\u001b[1;46m*\u001b[m\u001b[1;46m*\u001b[m\u001b[1;46m*\u001b[m\u001b[1;46m*\u001b[m\u001b[1;46m*\u001b[m\u001b[1;46m*\u001b[m\u001b[1;46m*\u001b[m\u001b[1;46m*\u001b[m\u001b[1;46m*\u001b[m\u001b[1;46m*\u001b[m\u001b[1;46m*\u001b[m\u001b[1;46m*\u001b[m\u001b[1;46m*\u001b[m\u001b[1;46m*\u001b[m\u001b[1;46m*\u001b[m\u001b[1;46m*\u001b[m\u001b[1;46m*\u001b[m\u001b[1;46m*\u001b[m\n",
      "                  \u001b[4;45mATÉ LOGO!\u001b[m                  \n",
      "\u001b[1;46m*\u001b[m\u001b[1;46m*\u001b[m\u001b[1;46m*\u001b[m\u001b[1;46m*\u001b[m\u001b[1;46m*\u001b[m\u001b[1;46m*\u001b[m\u001b[1;46m*\u001b[m\u001b[1;46m*\u001b[m\u001b[1;46m*\u001b[m\u001b[1;46m*\u001b[m\u001b[1;46m*\u001b[m\u001b[1;46m*\u001b[m\u001b[1;46m*\u001b[m\u001b[1;46m*\u001b[m\u001b[1;46m*\u001b[m\u001b[1;46m*\u001b[m\u001b[1;46m*\u001b[m\u001b[1;46m*\u001b[m\u001b[1;46m*\u001b[m\u001b[1;46m*\u001b[m\u001b[1;46m*\u001b[m\u001b[1;46m*\u001b[m\u001b[1;46m*\u001b[m\u001b[1;46m*\u001b[m\u001b[1;46m*\u001b[m\u001b[1;46m*\u001b[m\u001b[1;46m*\u001b[m\u001b[1;46m*\u001b[m\u001b[1;46m*\u001b[m\u001b[1;46m*\u001b[m\u001b[1;46m*\u001b[m\u001b[1;46m*\u001b[m\u001b[1;46m*\u001b[m\u001b[1;46m*\u001b[m\u001b[1;46m*\u001b[m\u001b[1;46m*\u001b[m\u001b[1;46m*\u001b[m\u001b[1;46m*\u001b[m\u001b[1;46m*\u001b[m\u001b[1;46m*\u001b[m\u001b[1;46m*\u001b[m\u001b[1;46m*\u001b[m\u001b[1;46m*\u001b[m\u001b[1;46m*\u001b[m\u001b[1;46m*\u001b[m\u001b[1;46m*\u001b[m\u001b[1;46m*\u001b[m\u001b[1;46m*\u001b[m\u001b[1;46m*\u001b[m\u001b[1;46m*\u001b[m\n"
     ]
    }
   ],
   "source": [
    "# PROGRAMA QUE EU FIZ\n",
    "from time import sleep\n",
    "def help_(a):\n",
    "    while True:\n",
    "        print('\\033[1;33m*\\033[m' * 50)\n",
    "        print('\\033[5;33mSISTEMA DE AJUDA PYTHON\\033[m'.center(55))\n",
    "        print('\\033[1;33m*\\033[m' * 50)\n",
    "        sleep(0.5)\n",
    "        a = input('Função ou biblioteca> ').lower()\n",
    "        \n",
    "        if a != 'fim':\n",
    "            print('\\033[0;35m*\\033[m' * 50)\n",
    "            print(f'\\033[0;36mACESSANDO O MANUAL DO COMANDO: {a}\\033[m'.center(55))\n",
    "            print('\\033[0;35m*\\033[m' * 50)\n",
    "            sleep(1.5)\n",
    "            print(help(a))\n",
    "        if a == 'fim':\n",
    "            print('\\033[1;46m*\\033[m' * 50)\n",
    "            print(f'\\033[4;45mATÉ LOGO!\\033[m'.center(55))\n",
    "            print('\\033[1;46m*\\033[m' * 50)\n",
    "            break\n",
    "    \n",
    "\n",
    "help_('a')\n",
    "\n",
    "#'\\033[0;31mERRO! Digite um número válido.\\033[m'"
   ]
  },
  {
   "cell_type": "markdown",
   "id": "bc24e567",
   "metadata": {},
   "source": [
    "______________"
   ]
  },
  {
   "cell_type": "markdown",
   "id": "2a985cef",
   "metadata": {},
   "source": [
    "______________"
   ]
  },
  {
   "cell_type": "code",
   "execution_count": 62,
   "id": "17396b88",
   "metadata": {},
   "outputs": [
    {
     "name": "stdout",
     "output_type": "stream",
     "text": [
      "\u001b[0;30;42m~~~~~~~~~~~~~~~~~~~~~~~~~~~\n",
      " SISTEMA DE AJUDA PYTHON\n",
      "~~~~~~~~~~~~~~~~~~~~~~~~~~~\n",
      "\u001b[mFunção ou Biblioteca> LEN\n",
      "\u001b[0;30;44m~~~~~~~~~~~~~~~~~~~~~~~~~~~~~~~~~~~~~~~\n",
      " Acessando o manual do comando 'LEN'\n",
      "~~~~~~~~~~~~~~~~~~~~~~~~~~~~~~~~~~~~~~~\n",
      "\u001b[m\u001b[7;30mNo Python documentation found for 'LEN'.\n",
      "Use help() to get the interactive help utility.\n",
      "Use help(str) for help on the str class.\n",
      "\n",
      "\u001b[m\u001b[0;30;42m~~~~~~~~~~~~~~~~~~~~~~~~~~~\n",
      " SISTEMA DE AJUDA PYTHON\n",
      "~~~~~~~~~~~~~~~~~~~~~~~~~~~\n",
      "\u001b[mFunção ou Biblioteca> len\n",
      "\u001b[0;30;44m~~~~~~~~~~~~~~~~~~~~~~~~~~~~~~~~~~~~~~~\n",
      " Acessando o manual do comando 'len'\n",
      "~~~~~~~~~~~~~~~~~~~~~~~~~~~~~~~~~~~~~~~\n",
      "\u001b[m\u001b[7;30mHelp on built-in function len in module builtins:\n",
      "\n",
      "len(obj, /)\n",
      "    Return the number of items in a container.\n",
      "\n",
      "\u001b[m\u001b[0;30;42m~~~~~~~~~~~~~~~~~~~~~~~~~~~\n",
      " SISTEMA DE AJUDA PYTHON\n",
      "~~~~~~~~~~~~~~~~~~~~~~~~~~~\n",
      "\u001b[mFunção ou Biblioteca> fim\n",
      "\u001b[0;30;41m~~~~~~~~~~~~~\n",
      " ATÉ LOGO!\n",
      "~~~~~~~~~~~~~\n",
      "\u001b[m"
     ]
    }
   ],
   "source": [
    "#PROGRAMA FEITO PELO GUSTAVO\n",
    "from time import sleep\n",
    "c = ('\\033[m',          # 0 - sem cores\n",
    "     '\\033[0;30;41m',   # 1 - vermelho \n",
    "     '\\033[0;30;42m',   # 2 - verde\n",
    "     '\\033[0;30;43m',   # 3 - amarelo\n",
    "     '\\033[0;30;44m',   # 4 - azul\n",
    "     '\\033[0;30;45m',   # 5 - roxo\n",
    "     '\\033[7;30m',      # 6 - branco\n",
    "    )\n",
    "\n",
    "def ajuda(com):\n",
    "    título(f'Acessando o manual do comando \\'{com}\\'', 4)\n",
    "    print(c[6], end='')\n",
    "    help(com)\n",
    "    print(c[0], end='')\n",
    "    sleep(2)\n",
    "    \n",
    "def título(msg, cor=0):\n",
    "    tam = len(msg) +4\n",
    "    print(c[cor], end='')\n",
    "    print('~' * tam)\n",
    "    print(f' {msg}')\n",
    "    print('~' * tam)\n",
    "    print(c[0], end='')\n",
    "    sleep(1)\n",
    "    \n",
    "#Programa Principal\n",
    "comando = ''\n",
    "while True:\n",
    "    título('SISTEMA DE AJUDA PYTHON', 2)\n",
    "    comando = str(input('Função ou Biblioteca> '))\n",
    "    if comando.upper() == 'FIM':\n",
    "        break\n",
    "    else:\n",
    "        ajuda(comando)\n",
    "título('ATÉ LOGO!', 1)"
   ]
  },
  {
   "cell_type": "code",
   "execution_count": null,
   "id": "1cd1ef46",
   "metadata": {},
   "outputs": [],
   "source": []
  },
  {
   "cell_type": "code",
   "execution_count": null,
   "id": "7dd6a974",
   "metadata": {},
   "outputs": [],
   "source": []
  },
  {
   "cell_type": "code",
   "execution_count": null,
   "id": "b242b12f",
   "metadata": {},
   "outputs": [],
   "source": []
  },
  {
   "cell_type": "code",
   "execution_count": null,
   "id": "5f3ffc74",
   "metadata": {},
   "outputs": [],
   "source": []
  },
  {
   "cell_type": "code",
   "execution_count": null,
   "id": "eedb1e78",
   "metadata": {},
   "outputs": [],
   "source": []
  },
  {
   "cell_type": "code",
   "execution_count": null,
   "id": "4b52301b",
   "metadata": {},
   "outputs": [],
   "source": []
  }
 ],
 "metadata": {
  "kernelspec": {
   "display_name": "Python 3",
   "language": "python",
   "name": "python3"
  },
  "language_info": {
   "codemirror_mode": {
    "name": "ipython",
    "version": 3
   },
   "file_extension": ".py",
   "mimetype": "text/x-python",
   "name": "python",
   "nbconvert_exporter": "python",
   "pygments_lexer": "ipython3",
   "version": "3.8.8"
  }
 },
 "nbformat": 4,
 "nbformat_minor": 5
}
