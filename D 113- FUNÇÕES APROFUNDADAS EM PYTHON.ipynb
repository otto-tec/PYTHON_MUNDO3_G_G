{
 "cells": [
  {
   "cell_type": "markdown",
   "id": "d0ae8869",
   "metadata": {},
   "source": [
    "## DESAFIO 113\n",
    "### Reescreva a função leiaInt() que fizemos no desafio 104, incluindo agora a possibilidade da digitação de um número de tipo inválido. Aproveite e crie também uma função leiaFloat() com a mesma funcionalidade."
   ]
  },
  {
   "cell_type": "code",
   "execution_count": 16,
   "id": "dd2e9de5",
   "metadata": {},
   "outputs": [
    {
     "name": "stdout",
     "output_type": "stream",
     "text": [
      "****************************************\n",
      "Digite um Inteiro: ghh\n",
      "ERRO! Digite um número inteiro válido\n",
      "Digite um Inteiro: \n",
      "ERRO! Digite um número inteiro válido\n",
      "Digite um Inteiro: 4.6\n",
      "ERRO! Digite um número inteiro válido\n",
      "Digite um Inteiro: 8\n",
      "Digite um número Real: um\n",
      "ERRO! Digite um número Real válido\n",
      "Digite um número Real: \n",
      "ERRO! Digite um número Real válido\n",
      "Digite um número Real: 5.3\n",
      "O valor inteiro digitado foi 8 e o real 5.3\n"
     ]
    }
   ],
   "source": [
    "def leiaInt(num):\n",
    "    while True:  \n",
    "        try:\n",
    "            int(num)\n",
    "            return num\n",
    "        except:\n",
    "            print('ERRO! Digite um número inteiro válido')\n",
    "            num = (input('Digite um Inteiro: '))\n",
    "\n",
    "def leiaFloat(num):\n",
    "    while True:  \n",
    "        try:\n",
    "            float(num)\n",
    "            return num\n",
    "        except:\n",
    "            print('ERRO! Digite um número Real válido')\n",
    "            num = (input('Digite um número Real: '))\n",
    "\n",
    "print('*' * 40)\n",
    "n = leiaInt(input('Digite um Inteiro: '))\n",
    "r = leiaFloat(input('Digite um número Real: '))\n",
    "print(f'O valor inteiro digitado foi {n} e o real {r}')"
   ]
  },
  {
   "cell_type": "markdown",
   "id": "eb6a4720",
   "metadata": {},
   "source": [
    "__________"
   ]
  },
  {
   "cell_type": "code",
   "execution_count": 17,
   "id": "61efd13f",
   "metadata": {},
   "outputs": [
    {
     "name": "stdout",
     "output_type": "stream",
     "text": [
      "Ditite um Inteiro: a\n",
      "\u001b[31mErro: por favor, digite um número inteiro válido.\u001b[m\n",
      "Ditite um Inteiro: \n",
      "\u001b[31mErro: por favor, digite um número inteiro válido.\u001b[m\n",
      "Ditite um Inteiro: 6\n",
      "Digite um Real: \n",
      "\u001b[31mErro: por favor, digite um número real válido.\u001b[m\n",
      "Digite um Real: b\n",
      "\u001b[31mErro: por favor, digite um número real válido.\u001b[m\n",
      "Digite um Real: 4.6\n",
      "O valor inteiro digitado foi 6 e o rela foi 4.6\n"
     ]
    }
   ],
   "source": [
    "# CODIGO FEITO PELO GUSTAVO\n",
    "\n",
    "def leiaInt(msg):\n",
    "    while True:\n",
    "        try:\n",
    "            n = int(input(msg))\n",
    "        except (ValueError, TypeError):\n",
    "            print('\\033[31mErro: por favor, digite um número inteiro válido.\\033[m')\n",
    "            continue\n",
    "        except (KeyboardInterrupt):\n",
    "            print('\\033[31mUsuário preferiu não ditiar esse número.\\033[m')\n",
    "            return 0\n",
    "        else:\n",
    "            return n\n",
    "        \n",
    "def leiaFloat(msg):\n",
    "    while True:\n",
    "        try:\n",
    "            n = float(input(msg))\n",
    "        except (ValueError, TypeError):\n",
    "            print('\\033[31mErro: por favor, digite um número real válido.\\033[m')\n",
    "            continue\n",
    "        except (KeyboardInterrupt):\n",
    "            print('\\033[31mUsuário preferiu não ditiar esse número.\\033[m')\n",
    "            return 0\n",
    "        else:\n",
    "            return n\n",
    "\n",
    "        \n",
    "n1 = leiaInt('Ditite um Inteiro: ')\n",
    "n2 = leiaFloat('Digite um Real: ')\n",
    "print(f'O valor inteiro digitado foi {n1} e o rela foi {n2}')"
   ]
  },
  {
   "cell_type": "code",
   "execution_count": null,
   "id": "621ced05",
   "metadata": {},
   "outputs": [],
   "source": []
  },
  {
   "cell_type": "code",
   "execution_count": null,
   "id": "e7c209bf",
   "metadata": {},
   "outputs": [],
   "source": []
  },
  {
   "cell_type": "code",
   "execution_count": null,
   "id": "767fde7c",
   "metadata": {},
   "outputs": [],
   "source": []
  },
  {
   "cell_type": "code",
   "execution_count": null,
   "id": "11f4e40e",
   "metadata": {},
   "outputs": [],
   "source": []
  },
  {
   "cell_type": "code",
   "execution_count": null,
   "id": "ae1a1dae",
   "metadata": {},
   "outputs": [],
   "source": []
  },
  {
   "cell_type": "code",
   "execution_count": null,
   "id": "075ac37b",
   "metadata": {},
   "outputs": [],
   "source": []
  }
 ],
 "metadata": {
  "kernelspec": {
   "display_name": "Python 3",
   "language": "python",
   "name": "python3"
  },
  "language_info": {
   "codemirror_mode": {
    "name": "ipython",
    "version": 3
   },
   "file_extension": ".py",
   "mimetype": "text/x-python",
   "name": "python",
   "nbconvert_exporter": "python",
   "pygments_lexer": "ipython3",
   "version": "3.8.8"
  }
 },
 "nbformat": 4,
 "nbformat_minor": 5
}
